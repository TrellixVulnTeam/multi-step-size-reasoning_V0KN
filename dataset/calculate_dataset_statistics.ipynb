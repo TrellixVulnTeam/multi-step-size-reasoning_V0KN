{
 "cells": [
  {
   "cell_type": "code",
   "execution_count": 6,
   "metadata": {},
   "outputs": [],
   "source": [
    "import json\n",
    "import os\n",
    "from shutil import copy\n",
    "import cv2\n",
    "import glob\n",
    "import os\n",
    "import datetime as dt\n",
    "import re"
   ]
  },
  {
   "cell_type": "code",
   "execution_count": 2,
   "metadata": {},
   "outputs": [],
   "source": [
    "malevic_folder = 'dataset-balanced/'"
   ]
  },
  {
   "cell_type": "markdown",
   "metadata": {},
   "source": [
    "# Scenes per split"
   ]
  },
  {
   "cell_type": "code",
   "execution_count": 3,
   "metadata": {},
   "outputs": [
    {
     "name": "stdout",
     "output_type": "stream",
     "text": [
      "Overall scenes (triples) in test :  1200\n",
      "Overall scenes (triples) in val :  1160\n",
      "Overall scenes (triples) in train :  10200\n"
     ]
    }
   ],
   "source": [
    "n_targets = {}\n",
    "\n",
    "for split in ('test', 'val', 'train'):\n",
    "    n_samples = 0\n",
    "    n_targets[split] = {}\n",
    "    for task in ('1small_2big_balanced', '2small_1big_balanced'):\n",
    "\n",
    "        with open(malevic_folder + task + '/annotations/' + split + '.json') as f:\n",
    "            split_data = json.load(f)\n",
    "\n",
    "        for key, target_data in split_data.items():\n",
    "\n",
    "            shape = target_data['target']['shape']\n",
    "            color = target_data['target']['color']\n",
    "\n",
    "            if (shape, color) in n_targets[split]:\n",
    "                n_targets[split][(shape, color)] += len(target_data['samples'])\n",
    "            else:\n",
    "                n_targets[split][(shape, color)] = len(target_data['samples'])\n",
    "\n",
    "            n_samples += len(target_data['samples'])\n",
    "\n",
    "    print(\"Overall scenes (triples) in\", split, \": \", n_samples)"
   ]
  },
  {
   "cell_type": "markdown",
   "metadata": {},
   "source": [
    "# Scenes per target"
   ]
  },
  {
   "cell_type": "code",
   "execution_count": 4,
   "metadata": {},
   "outputs": [
    {
     "name": "stdout",
     "output_type": "stream",
     "text": [
      "Split:  test\n",
      "('triangle', 'red') : 60\n",
      "('triangle', 'blue') : 60\n",
      "('triangle', 'yellow') : 60\n",
      "('triangle', 'green') : 60\n",
      "('triangle', 'white') : 60\n",
      "('circle', 'red') : 60\n",
      "('circle', 'blue') : 60\n",
      "('circle', 'yellow') : 60\n",
      "('circle', 'green') : 60\n",
      "('circle', 'white') : 60\n",
      "('square', 'red') : 60\n",
      "('square', 'blue') : 60\n",
      "('square', 'yellow') : 60\n",
      "('square', 'green') : 60\n",
      "('square', 'white') : 60\n",
      "('rectangle', 'red') : 60\n",
      "('rectangle', 'blue') : 60\n",
      "('rectangle', 'yellow') : 60\n",
      "('rectangle', 'green') : 60\n",
      "('rectangle', 'white') : 60\n",
      "Split:  val\n",
      "('triangle', 'red') : 58\n",
      "('triangle', 'blue') : 58\n",
      "('triangle', 'yellow') : 58\n",
      "('triangle', 'green') : 58\n",
      "('triangle', 'white') : 58\n",
      "('circle', 'red') : 58\n",
      "('circle', 'blue') : 58\n",
      "('circle', 'yellow') : 58\n",
      "('circle', 'green') : 58\n",
      "('circle', 'white') : 58\n",
      "('square', 'red') : 58\n",
      "('square', 'blue') : 58\n",
      "('square', 'yellow') : 58\n",
      "('square', 'green') : 58\n",
      "('square', 'white') : 58\n",
      "('rectangle', 'red') : 58\n",
      "('rectangle', 'blue') : 58\n",
      "('rectangle', 'yellow') : 58\n",
      "('rectangle', 'green') : 58\n",
      "('rectangle', 'white') : 58\n",
      "Split:  train\n",
      "('triangle', 'red') : 510\n",
      "('triangle', 'blue') : 510\n",
      "('triangle', 'yellow') : 510\n",
      "('triangle', 'green') : 510\n",
      "('triangle', 'white') : 510\n",
      "('circle', 'red') : 510\n",
      "('circle', 'blue') : 510\n",
      "('circle', 'yellow') : 510\n",
      "('circle', 'green') : 510\n",
      "('circle', 'white') : 510\n",
      "('square', 'red') : 510\n",
      "('square', 'blue') : 510\n",
      "('square', 'yellow') : 510\n",
      "('square', 'green') : 510\n",
      "('square', 'white') : 510\n",
      "('rectangle', 'red') : 510\n",
      "('rectangle', 'blue') : 510\n",
      "('rectangle', 'yellow') : 510\n",
      "('rectangle', 'green') : 510\n",
      "('rectangle', 'white') : 510\n"
     ]
    }
   ],
   "source": [
    "for split, values in n_targets.items():\n",
    "    print(\"Split: \", split)\n",
    "    for target, n in values.items():\n",
    "        print(target, \":\", n)"
   ]
  },
  {
   "cell_type": "markdown",
   "metadata": {},
   "source": [
    "# Small image frequency per queried object"
   ]
  },
  {
   "cell_type": "code",
   "execution_count": null,
   "metadata": {},
   "outputs": [],
   "source": [
    "img_counter = {}\n",
    "\n",
    "img_counter['test'] = {}\n",
    "img_counter['val'] = {}\n",
    "img_counter['train'] = {}\n",
    "\n",
    "for split in ('test', 'val', 'train'):\n",
    "    n_samples = 0\n",
    "    for task in ('1small_2big_balanced', '2small_1big_balanced'):\n",
    "        \n",
    "        with open(malevic_folder + task + '/annotations/' + split + '.json') as f:\n",
    "            split_data = json.load(f)\n",
    "\n",
    "        for key, target_data in split_data.items():\n",
    "\n",
    "            shape = target_data['target']['shape']\n",
    "            color = target_data['target']['color']\n",
    "            \n",
    "            if str((shape, color)) not in img_counter[split]:\n",
    "                img_counter[split][str((shape, color))] = {}\n",
    "            \n",
    "            for sample_id, sample in target_data['samples'].items():\n",
    "                for pic_file in sample['images']:\n",
    "                    if pic_file in img_counter[split][str((shape, color))]:\n",
    "                        img_counter[split][str((shape, color))][pic_file] += 1\n",
    "                    else:\n",
    "                        img_counter[split][str((shape, color))][pic_file] = 1"
   ]
  },
  {
   "cell_type": "markdown",
   "metadata": {},
   "source": [
    "# Small image frequency per queried object, taking object size into account"
   ]
  },
  {
   "cell_type": "code",
   "execution_count": null,
   "metadata": {},
   "outputs": [],
   "source": [
    "img_counter = {}\n",
    "\n",
    "img_counter['test'] = {}\n",
    "img_counter['val'] = {}\n",
    "img_counter['train'] = {}\n",
    "\n",
    "for split in ('test', 'val', 'train'):\n",
    "    n_samples = 0\n",
    "    for task in ('1small_2big_balanced', '2small_1big_balanced'):\n",
    "\n",
    "        with open(malevic_folder + task + '/annotations/' + split + '.json') as f:\n",
    "            split_data = json.load(f)\n",
    "\n",
    "        for key, target_data in split_data.items():\n",
    "\n",
    "            shape = target_data['target']['shape']\n",
    "            color = target_data['target']['color']\n",
    "\n",
    "            if (str((shape, color, 'small')) or str((shape, color, 'big'))) not in img_counter[split]:\n",
    "                img_counter[split][str((shape, color, 'small'))] = {}\n",
    "                img_counter[split][str((shape, color, 'big'))] = {}\n",
    "            \n",
    "            if task == '1small_2big_balanced':\n",
    "                for sample_id, sample in target_data['samples'].items():\n",
    "                    \n",
    "                    if sample['images'][0] in img_counter[split][str((shape, color, 'small'))]:\n",
    "                        img_counter[split][str((shape, color, 'small'))][sample['images'][0]] += 1\n",
    "                    else:\n",
    "                        img_counter[split][str((shape, color, 'small'))][sample['images'][0]] = 1\n",
    "                        \n",
    "                    if sample['images'][1] in img_counter[split][str((shape, color, 'big'))]:\n",
    "                        img_counter[split][str((shape, color, 'big'))][sample['images'][1]] += 1\n",
    "                    else:\n",
    "                        img_counter[split][str((shape, color, 'big'))][sample['images'][1]] = 1\n",
    "                        \n",
    "                    if sample['images'][2] in img_counter[split][str((shape, color, 'big'))]:\n",
    "                        img_counter[split][str((shape, color, 'big'))][sample['images'][2]] += 1\n",
    "                    else:\n",
    "                        img_counter[split][str((shape, color, 'big'))][sample['images'][2]] = 1\n",
    "                        \n",
    "            if task == '2small_1big_balanced':\n",
    "                for sample_id, sample in target_data['samples'].items():\n",
    "                    \n",
    "                    if sample['images'][0] in img_counter[split][str((shape, color, 'small'))]:\n",
    "                        img_counter[split][str((shape, color, 'small'))][sample['images'][0]] += 1\n",
    "                    else:\n",
    "                        img_counter[split][str((shape, color, 'small'))][sample['images'][0]] = 1\n",
    "                        \n",
    "                    if sample['images'][1] in img_counter[split][str((shape, color, 'small'))]:\n",
    "                        img_counter[split][str((shape, color, 'small'))][sample['images'][1]] += 1\n",
    "                    else:\n",
    "                        img_counter[split][str((shape, color, 'small'))][sample['images'][1]] = 1\n",
    "                        \n",
    "                    if sample['images'][2] in img_counter[split][str((shape, color, 'big'))]:\n",
    "                        img_counter[split][str((shape, color, 'big'))][sample['images'][2]] += 1\n",
    "                    else:\n",
    "                        img_counter[split][str((shape, color, 'big'))][sample['images'][2]] = 1"
   ]
  },
  {
   "cell_type": "markdown",
   "metadata": {},
   "source": [
    "# Add info about small images"
   ]
  },
  {
   "cell_type": "code",
   "execution_count": 32,
   "metadata": {},
   "outputs": [],
   "source": [
    "for split in ['test', 'val', 'train']:\n",
    "    for task in ['1small_2big_balanced', '2small_1big_balanced']:\n",
    "\n",
    "        if task =='1small_2big_balanced':\n",
    "            sizes = ['small', 'big', 'big']\n",
    "            \n",
    "        if task == '2small_1big_balanced':\n",
    "            sizes = ['big', 'small', 'small']\n",
    "            \n",
    "        with open(malevic_folder + task + '/annotations/' + split + '.json') as f:\n",
    "            split_data = json.load(f)\n",
    "        \n",
    "        with open('malevic/data/pos1/annotation/' + split + '_annotation.json') as f:\n",
    "            original_annotation = json.load(f)\n",
    "        \n",
    "        for target_id, target_data in split_data.items():\n",
    "            target_data['task'] = task.split('_')[0] + '_' + task.split('_')[1]\n",
    "            shape = target_data['target']['shape']\n",
    "            color = target_data['target']['color']\n",
    "            for sample_id, sample_data in target_data['samples'].items():\n",
    "                images = sample_data['images']\n",
    "                sample_data['images_info'] = []\n",
    "                for i, img in enumerate(images):\n",
    "                    img_id = img.split('.')[0]\n",
    "                    for obj in original_annotation[img_id][1]['objects']:\n",
    "                        if (obj['shape'] == shape and obj['color'] == color and obj['size'] == sizes[i]):\n",
    "                            sample_data['images_info'].append({'img_id' : img_id,\n",
    "                                                               'size' : sizes[i],\n",
    "                                                               'thresh_dist' : obj['thresh_dist']})\n",
    "                            \n",
    "        with open(malevic_folder + task + '_new' + '/annotations/' + split + '.json', 'w', encoding=\"utf-8\") as f:\n",
    "            json.dump(split_data, f)"
   ]
  },
  {
   "cell_type": "markdown",
   "metadata": {},
   "source": [
    "# Statistics regarding threshold distance"
   ]
  },
  {
   "cell_type": "code",
   "execution_count": 12,
   "metadata": {},
   "outputs": [],
   "source": [
    "thr_distances = []\n",
    "\n",
    "for split in ['test', 'val', 'train']:\n",
    "    for task in ['1small_2big_balanced', '2small_1big_balanced']:\n",
    "        \n",
    "        with open(malevic_folder + task + '_new' + '/annotations/' + split + '.json') as f:\n",
    "            split_data = json.load(f)\n",
    "\n",
    "        for target_id, target in split_data.items():\n",
    "            for sample_id, sample in target['samples'].items():\n",
    "                thr_triple = []\n",
    "                for img_info in sample['images_info']:\n",
    "                    thr_triple.append(img_info['thresh_dist'])\n",
    "                thr_distances.append(thr_triple)"
   ]
  },
  {
   "cell_type": "code",
   "execution_count": 17,
   "metadata": {},
   "outputs": [
    {
     "data": {
      "text/plain": [
       "[['0.4611', '0.0956', '0.0353'],\n",
       " ['0.7886', '0.0048', '0.3135'],\n",
       " ['0.3887', '0.3203', '0.3025'],\n",
       " ['0.0142', '0.3075', '0.3657'],\n",
       " ['0.2512', '0.3224', '0.1804'],\n",
       " ['0.6235', '0.2556', '0.2331'],\n",
       " ['0.5467', '0.1607', '0.3361'],\n",
       " ['0.5711', '0.334', '0.1061'],\n",
       " ['0.6765', '0.3211', '0.3407'],\n",
       " ['0.5528', '0.2507', '0.3376'],\n",
       " ['0.1385', '0.3905', '0.3615'],\n",
       " ['0.6177', '0.3076', '0.2828'],\n",
       " ['0.0495', '0.2125', '0.2351'],\n",
       " ['0.4697', '0.2917', '0.2705'],\n",
       " ['0.0888', '0.3556', '0.1761'],\n",
       " ['0.3131', '0.1089', '0.3824'],\n",
       " ['0.5086', '0.3228', '0.331'],\n",
       " ['0.2809', '0.4483', '0.3875'],\n",
       " ['0.4081', '0.3726', '0.3411'],\n",
       " ['0.4923', '0.031', '0.2589']]"
      ]
     },
     "execution_count": 17,
     "metadata": {},
     "output_type": "execute_result"
    }
   ],
   "source": [
    "thr_distances[:20]"
   ]
  },
  {
   "cell_type": "code",
   "execution_count": 63,
   "metadata": {},
   "outputs": [
    {
     "data": {
      "image/png": "[encoded data removed]",
      "text/plain": [
       "<Figure size 432x288 with 1 Axes>"
      ]
     },
     "metadata": {
      "needs_background": "light"
     },
     "output_type": "display_data"
    },
    {
     "data": {
      "image/png": "[encoded data removed]",
      "text/plain": [
       "<Figure size 432x288 with 1 Axes>"
      ]
     },
     "metadata": {
      "needs_background": "light"
     },
     "output_type": "display_data"
    },
    {
     "data": {
      "image/png": "[encoded data removed]",
      "text/plain": [
       "<Figure size 432x288 with 1 Axes>"
      ]
     },
     "metadata": {
      "needs_background": "light"
     },
     "output_type": "display_data"
    }
   ],
   "source": [
    "from numpy import *\n",
    "import math\n",
    "import matplotlib.pyplot as plt\n",
    "\n",
    "a = []\n",
    "b = []\n",
    "c = []\n",
    "\n",
    "for x, y, z in thr_distances:\n",
    "    a.append(float(x))\n",
    "    b.append(float(y))\n",
    "    c.append(float(z))\n",
    "\n",
    "plt.title('Image 1 in a scene')\n",
    "plt.ylabel('Distance from threshold')\n",
    "plt.xlabel('Scene ID')\n",
    "plt.plot(range(len(a[5000:5100])), a[5000:5100], 'r', linestyle='none', marker='+') # plotting t, a separately \n",
    "plt.show()\n",
    "plt.title('Image 2 in a scene')\n",
    "plt.ylabel('Distance from threshold')\n",
    "plt.xlabel('Scene ID')\n",
    "plt.plot(range(len(b[5000:5100])), b[5000:5100], 'b', linestyle='none', marker='+') # plotting t, b separately \n",
    "plt.show()\n",
    "plt.title('Image 3 in a scene')\n",
    "plt.ylabel('Distance from threshold')\n",
    "plt.xlabel('Scene ID')\n",
    "plt.plot(range(len(c[5000:5100])), c[5000:5100], 'g', linestyle='none', marker='+') # plotting t, c separately \n",
    "plt.show()"
   ]
  },
  {
   "cell_type": "code",
   "execution_count": 91,
   "metadata": {},
   "outputs": [],
   "source": [
    "difficult = []\n",
    "original_distances = {'big':[],'small':[]}\n",
    "\n",
    "for split in ['test', 'val', 'train']:\n",
    "    with open('malevic/data/pos1/annotation/' + split + '_annotation.json') as f:\n",
    "        original_annotation = json.load(f)\n",
    "\n",
    "        for img_id, data in original_annotation.items():\n",
    "            for obj in data[1]['objects']:\n",
    "                original_distances[obj['size']].append(float(obj['thresh_dist']))\n",
    "                if (float(obj['thresh_dist']) > 0 and float(obj['thresh_dist']) < 0.15):\n",
    "                    difficult.append((img_id, obj['size'], obj['color']))"
   ]
  },
  {
   "cell_type": "code",
   "execution_count": 64,
   "metadata": {},
   "outputs": [
    {
     "data": {
      "image/png": "[encoded data removed]",
      "text/plain": [
       "<Figure size 432x288 with 1 Axes>"
      ]
     },
     "metadata": {
      "needs_background": "light"
     },
     "output_type": "display_data"
    }
   ],
   "source": [
    "plt.plot(range(len(original_distances['big'][5000:5100])), original_distances['big'][5000:5100], 'r', linestyle='none', marker='+') # plotting t, a separately \n",
    "plt.show()"
   ]
  },
  {
   "cell_type": "code",
   "execution_count": 69,
   "metadata": {},
   "outputs": [
    {
     "data": {
      "text/plain": [
       "0.5637"
      ]
     },
     "execution_count": 69,
     "metadata": {},
     "output_type": "execute_result"
    }
   ],
   "source": [
    "max(original_distances['big'])"
   ]
  },
  {
   "cell_type": "code",
   "execution_count": null,
   "metadata": {},
   "outputs": [],
   "source": [
    "sum((i > 0 and i < 0.05) for i in original_distances['big'])"
   ]
  },
  {
   "cell_type": "code",
   "execution_count": null,
   "metadata": {},
   "outputs": [],
   "source": [
    "sum((i > 0 and i < 0.1) for i in original_distances['small'])"
   ]
  },
  {
   "cell_type": "code",
   "execution_count": 93,
   "metadata": {},
   "outputs": [
    {
     "data": {
      "text/plain": [
       "15214"
      ]
     },
     "execution_count": 93,
     "metadata": {},
     "output_type": "execute_result"
    }
   ],
   "source": [
    "print(len(difficult))"
   ]
  },
  {
   "cell_type": "code",
   "execution_count": 96,
   "metadata": {},
   "outputs": [
    {
     "name": "stdout",
     "output_type": "stream",
     "text": [
      "15214\n",
      "82631\n",
      "32921\n"
     ]
    }
   ],
   "source": [
    "print(len(difficult))\n",
    "print(len(original_distances['small']))\n",
    "print(len(original_distances['big']))"
   ]
  },
  {
   "cell_type": "code",
   "execution_count": 3,
   "metadata": {},
   "outputs": [],
   "source": [
    "difficult = {'train':[], 'test':[], 'val':[]}\n",
    "\n",
    "for split in ['test', 'val', 'train']:\n",
    "    for task in ['1small_2big_balanced', '2small_1big_balanced']:\n",
    "        \n",
    "        with open(malevic_folder + task + '_new' + '/annotations/' + split + '.json') as f:\n",
    "            split_data = json.load(f)\n",
    "\n",
    "        for target_id, target in split_data.items():\n",
    "            for sample_id, sample in target['samples'].items():\n",
    "                thr_triple = []\n",
    "                for img_info in sample['images_info']:\n",
    "                    thr_triple.append(float(img_info['thresh_dist']))\n",
    "                if sum((i > 0 and i < 0.1) for i in thr_triple):\n",
    "                    difficult[split].append(sample['merged'])\n"
   ]
  },
  {
   "cell_type": "code",
   "execution_count": 6,
   "metadata": {},
   "outputs": [],
   "source": [
    "with open(malevic_folder + 'difficult_scenes.json', 'w') as f:\n",
    "    json.dump(difficult, f)"
   ]
  },
  {
   "cell_type": "code",
   "execution_count": 9,
   "metadata": {},
   "outputs": [
    {
     "data": {
      "text/plain": [
       "337"
      ]
     },
     "execution_count": 9,
     "metadata": {},
     "output_type": "execute_result"
    }
   ],
   "source": [
    "len(difficult['val'])"
   ]
  },
  {
   "cell_type": "code",
   "execution_count": 3,
   "metadata": {},
   "outputs": [],
   "source": [
    "with open (\"malevic-dataset/questions/test_questions.json\") as f:\n",
    "    test_big = json.load(f)\n",
    "    \n",
    "with open (\"dataset-balanced/questions/test_questions.json\") as f:\n",
    "    test_small = json.load(f)"
   ]
  },
  {
   "cell_type": "code",
   "execution_count": 4,
   "metadata": {},
   "outputs": [
    {
     "name": "stdout",
     "output_type": "stream",
     "text": [
      "7200\n",
      "4800\n"
     ]
    }
   ],
   "source": [
    "print(len(test_big['questions']))\n",
    "print(len(test_small['questions']))"
   ]
  },
  {
   "cell_type": "markdown",
   "metadata": {},
   "source": [
    "# Questions statistics"
   ]
  },
  {
   "cell_type": "code",
   "execution_count": 16,
   "metadata": {},
   "outputs": [],
   "source": [
    "dataset_folder = 'dataset-balanced/'\n",
    "\n",
    "stats_questions = {}\n",
    "stats_answers = {}\n",
    "\n",
    "for split in ('test', 'val', 'train'):\n",
    "    stats_questions[split] = {}\n",
    "    stats_answers[split] = {}\n",
    "    \n",
    "    for task in ('1small_2big_balanced_new/', '2small_1big_balanced_new/'):\n",
    "\n",
    "        annotations_path = dataset_folder + task + \"annotations/\" + split + \".json\"\n",
    "        \n",
    "        with open(annotations_path) as f:\n",
    "            dataset = json.load(f)\n",
    "        \n",
    "        for target_id, target in dataset.items():\n",
    "            shape = target['target']['shape']\n",
    "            \n",
    "            for sample_id, sample in target['samples'].items():\n",
    "                for qw_answ in sample['questions']:\n",
    "                    \n",
    "                    qw = qw_answ['question']\n",
    "                    answ = qw_answ['answer']\n",
    "                    \n",
    "                    i = qw.find(\"exactly\")                  \n",
    "                    if i < 0:\n",
    "                        i = qw.find(\"more\")\n",
    "                        \n",
    "                    shape_ids = [m.start() for m in re.finditer(shape, qw)]\n",
    "                    j = shape_ids[1]\n",
    "                    \n",
    "                    q_type = qw[i:j]\n",
    "                    \n",
    "                    if q_type in stats_questions[split]:\n",
    "                        stats_questions[split][q_type] += 1\n",
    "                    else:\n",
    "                        stats_questions[split][q_type] = 1\n",
    "                        stats_answers[split][q_type] = {True: 0, False: 0}\n",
    "                        \n",
    "                    if q_type in stats_answers[split]:\n",
    "                        stats_answers[split][q_type][answ] += 1\n",
    "                    else:\n",
    "                        print('this is very unexpected')\n",
    "                    \n",
    "                "
   ]
  },
  {
   "cell_type": "code",
   "execution_count": 22,
   "metadata": {},
   "outputs": [],
   "source": [
    "with open(\"statistics/question_statistics.json\", \"w\") as f:\n",
    "    json.dump(stats_questions, f, ensure_ascii=False, indent=4)"
   ]
  },
  {
   "cell_type": "code",
   "execution_count": 23,
   "metadata": {},
   "outputs": [],
   "source": [
    "with open(\"statistics/answers_per_question_statistics.json\", \"w\") as f:\n",
    "    json.dump(stats_answers, f, ensure_ascii=False, indent=4)"
   ]
  },
  {
   "cell_type": "code",
   "execution_count": 24,
   "metadata": {},
   "outputs": [],
   "source": [
    "with open(\"statistics/image_statistics_query_per_task.json\", \"w\") as f:   \n",
    "    json.dump(tmp, f, ensure_ascii=False, indent=4)"
   ]
  },
  {
   "cell_type": "code",
   "execution_count": null,
   "metadata": {},
   "outputs": [],
   "source": [
    "with open(\"statistics/image_statistics_query_size.json\", \"w\") as f:   \n",
    "    json.dump(tmp, f, ensure_ascii=False, indent=4)"
   ]
  },
  {
   "cell_type": "code",
   "execution_count": 29,
   "metadata": {},
   "outputs": [],
   "source": [
    "with open(\"statistics/image_statistics_query_size.json\") as f:\n",
    "    tmp = json.load(f)\n",
    "\n",
    "counter = {}\n",
    "for split, data in tmp.items():\n",
    "    counter[split] = {}\n",
    "    for obj, pics in data.items():\n",
    "        counter[split][obj] = 0\n",
    "        for pic, freq in pics.items():\n",
    "            counter[split][obj] += freq"
   ]
  },
  {
   "cell_type": "code",
   "execution_count": 30,
   "metadata": {},
   "outputs": [
    {
     "data": {
      "text/plain": [
       "{'test': {\"('triangle', 'red', 'small')\": 90,\n",
       "  \"('triangle', 'red', 'big')\": 90,\n",
       "  \"('triangle', 'blue', 'small')\": 90,\n",
       "  \"('triangle', 'blue', 'big')\": 90,\n",
       "  \"('triangle', 'yellow', 'small')\": 90,\n",
       "  \"('triangle', 'yellow', 'big')\": 90,\n",
       "  \"('triangle', 'green', 'small')\": 90,\n",
       "  \"('triangle', 'green', 'big')\": 90,\n",
       "  \"('triangle', 'white', 'small')\": 90,\n",
       "  \"('triangle', 'white', 'big')\": 90,\n",
       "  \"('circle', 'red', 'small')\": 90,\n",
       "  \"('circle', 'red', 'big')\": 90,\n",
       "  \"('circle', 'blue', 'small')\": 90,\n",
       "  \"('circle', 'blue', 'big')\": 90,\n",
       "  \"('circle', 'yellow', 'small')\": 90,\n",
       "  \"('circle', 'yellow', 'big')\": 90,\n",
       "  \"('circle', 'green', 'small')\": 90,\n",
       "  \"('circle', 'green', 'big')\": 90,\n",
       "  \"('circle', 'white', 'small')\": 90,\n",
       "  \"('circle', 'white', 'big')\": 90,\n",
       "  \"('square', 'red', 'small')\": 90,\n",
       "  \"('square', 'red', 'big')\": 90,\n",
       "  \"('square', 'blue', 'small')\": 90,\n",
       "  \"('square', 'blue', 'big')\": 90,\n",
       "  \"('square', 'yellow', 'small')\": 90,\n",
       "  \"('square', 'yellow', 'big')\": 90,\n",
       "  \"('square', 'green', 'small')\": 90,\n",
       "  \"('square', 'green', 'big')\": 90,\n",
       "  \"('square', 'white', 'small')\": 90,\n",
       "  \"('square', 'white', 'big')\": 90,\n",
       "  \"('rectangle', 'red', 'small')\": 90,\n",
       "  \"('rectangle', 'red', 'big')\": 90,\n",
       "  \"('rectangle', 'blue', 'small')\": 90,\n",
       "  \"('rectangle', 'blue', 'big')\": 90,\n",
       "  \"('rectangle', 'yellow', 'small')\": 90,\n",
       "  \"('rectangle', 'yellow', 'big')\": 90,\n",
       "  \"('rectangle', 'green', 'small')\": 90,\n",
       "  \"('rectangle', 'green', 'big')\": 90,\n",
       "  \"('rectangle', 'white', 'small')\": 90,\n",
       "  \"('rectangle', 'white', 'big')\": 90},\n",
       " 'val': {\"('triangle', 'red', 'small')\": 87,\n",
       "  \"('triangle', 'red', 'big')\": 87,\n",
       "  \"('triangle', 'blue', 'small')\": 87,\n",
       "  \"('triangle', 'blue', 'big')\": 87,\n",
       "  \"('triangle', 'yellow', 'small')\": 87,\n",
       "  \"('triangle', 'yellow', 'big')\": 87,\n",
       "  \"('triangle', 'green', 'small')\": 87,\n",
       "  \"('triangle', 'green', 'big')\": 87,\n",
       "  \"('triangle', 'white', 'small')\": 87,\n",
       "  \"('triangle', 'white', 'big')\": 87,\n",
       "  \"('circle', 'red', 'small')\": 87,\n",
       "  \"('circle', 'red', 'big')\": 87,\n",
       "  \"('circle', 'blue', 'small')\": 87,\n",
       "  \"('circle', 'blue', 'big')\": 87,\n",
       "  \"('circle', 'yellow', 'small')\": 87,\n",
       "  \"('circle', 'yellow', 'big')\": 87,\n",
       "  \"('circle', 'green', 'small')\": 87,\n",
       "  \"('circle', 'green', 'big')\": 87,\n",
       "  \"('circle', 'white', 'small')\": 87,\n",
       "  \"('circle', 'white', 'big')\": 87,\n",
       "  \"('square', 'red', 'small')\": 87,\n",
       "  \"('square', 'red', 'big')\": 87,\n",
       "  \"('square', 'blue', 'small')\": 87,\n",
       "  \"('square', 'blue', 'big')\": 87,\n",
       "  \"('square', 'yellow', 'small')\": 87,\n",
       "  \"('square', 'yellow', 'big')\": 87,\n",
       "  \"('square', 'green', 'small')\": 87,\n",
       "  \"('square', 'green', 'big')\": 87,\n",
       "  \"('square', 'white', 'small')\": 87,\n",
       "  \"('square', 'white', 'big')\": 87,\n",
       "  \"('rectangle', 'red', 'small')\": 87,\n",
       "  \"('rectangle', 'red', 'big')\": 87,\n",
       "  \"('rectangle', 'blue', 'small')\": 87,\n",
       "  \"('rectangle', 'blue', 'big')\": 87,\n",
       "  \"('rectangle', 'yellow', 'small')\": 87,\n",
       "  \"('rectangle', 'yellow', 'big')\": 87,\n",
       "  \"('rectangle', 'green', 'small')\": 87,\n",
       "  \"('rectangle', 'green', 'big')\": 87,\n",
       "  \"('rectangle', 'white', 'small')\": 87,\n",
       "  \"('rectangle', 'white', 'big')\": 87},\n",
       " 'train': {\"('triangle', 'red', 'small')\": 765,\n",
       "  \"('triangle', 'red', 'big')\": 765,\n",
       "  \"('triangle', 'blue', 'small')\": 765,\n",
       "  \"('triangle', 'blue', 'big')\": 765,\n",
       "  \"('triangle', 'yellow', 'small')\": 765,\n",
       "  \"('triangle', 'yellow', 'big')\": 765,\n",
       "  \"('triangle', 'green', 'small')\": 765,\n",
       "  \"('triangle', 'green', 'big')\": 765,\n",
       "  \"('triangle', 'white', 'small')\": 765,\n",
       "  \"('triangle', 'white', 'big')\": 765,\n",
       "  \"('circle', 'red', 'small')\": 765,\n",
       "  \"('circle', 'red', 'big')\": 765,\n",
       "  \"('circle', 'blue', 'small')\": 765,\n",
       "  \"('circle', 'blue', 'big')\": 765,\n",
       "  \"('circle', 'yellow', 'small')\": 765,\n",
       "  \"('circle', 'yellow', 'big')\": 765,\n",
       "  \"('circle', 'green', 'small')\": 765,\n",
       "  \"('circle', 'green', 'big')\": 765,\n",
       "  \"('circle', 'white', 'small')\": 765,\n",
       "  \"('circle', 'white', 'big')\": 765,\n",
       "  \"('square', 'red', 'small')\": 765,\n",
       "  \"('square', 'red', 'big')\": 765,\n",
       "  \"('square', 'blue', 'small')\": 765,\n",
       "  \"('square', 'blue', 'big')\": 765,\n",
       "  \"('square', 'yellow', 'small')\": 765,\n",
       "  \"('square', 'yellow', 'big')\": 765,\n",
       "  \"('square', 'green', 'small')\": 765,\n",
       "  \"('square', 'green', 'big')\": 765,\n",
       "  \"('square', 'white', 'small')\": 765,\n",
       "  \"('square', 'white', 'big')\": 765,\n",
       "  \"('rectangle', 'red', 'small')\": 765,\n",
       "  \"('rectangle', 'red', 'big')\": 765,\n",
       "  \"('rectangle', 'blue', 'small')\": 765,\n",
       "  \"('rectangle', 'blue', 'big')\": 765,\n",
       "  \"('rectangle', 'yellow', 'small')\": 765,\n",
       "  \"('rectangle', 'yellow', 'big')\": 765,\n",
       "  \"('rectangle', 'green', 'small')\": 765,\n",
       "  \"('rectangle', 'green', 'big')\": 765,\n",
       "  \"('rectangle', 'white', 'small')\": 765,\n",
       "  \"('rectangle', 'white', 'big')\": 765}}"
      ]
     },
     "execution_count": 30,
     "metadata": {},
     "output_type": "execute_result"
    }
   ],
   "source": [
    "counter"
   ]
  },
  {
   "cell_type": "code",
   "execution_count": null,
   "metadata": {},
   "outputs": [],
   "source": []
  }
 ],
 "metadata": {
  "kernelspec": {
   "display_name": "Python 3",
   "language": "python",
   "name": "python3"
  },
  "language_info": {
   "codemirror_mode": {
    "name": "ipython",
    "version": 3
   },
   "file_extension": ".py",
   "mimetype": "text/x-python",
   "name": "python",
   "nbconvert_exporter": "python",
   "pygments_lexer": "ipython3",
   "version": "3.8.5"
  }
 },
 "nbformat": 4,
 "nbformat_minor": 2
}
