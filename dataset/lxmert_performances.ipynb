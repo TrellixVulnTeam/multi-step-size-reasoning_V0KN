{
 "cells": [
  {
   "cell_type": "code",
   "execution_count": 2,
   "metadata": {},
   "outputs": [],
   "source": [
    "from statistics import mean\n",
    "from statistics import stdev"
   ]
  },
  {
   "cell_type": "markdown",
   "metadata": {},
   "source": [
    "## epochs 150, lr 1e-5 seeds: 9595, 12321, 2, 1234, 42"
   ]
  },
  {
   "cell_type": "markdown",
   "metadata": {},
   "source": [
    "## 1 image"
   ]
  },
  {
   "cell_type": "code",
   "execution_count": 12,
   "metadata": {},
   "outputs": [
    {
     "name": "stdout",
     "output_type": "stream",
     "text": [
      "Train avg: 94.694 stdev: 0.6316486365060892\n",
      "Valid avg: 94.36 stdev: 0.1387443692551151\n",
      "Test avg: 93.39 stdev: 0.39591665789658553\n"
     ]
    }
   ],
   "source": [
    "#best epoch\n",
    "\n",
    "train = [95.16, 95.28, 94.99, 94.16, 93.88]\n",
    "valid = [94.30, 94.15, 94.50, 94.45, 94.40]\n",
    "test_norm = [0.935, 0.9395, 0.933, 0.9285, 0.9335]\n",
    "\n",
    "test = [a * 100 for a in test_norm]\n",
    "\n",
    "print(\"Train avg:\", mean(train), \"stdev:\", stdev(train))\n",
    "print(\"Valid avg:\", mean(valid), \"stdev:\", stdev(valid))\n",
    "print(\"Test avg:\", mean(test), \"stdev:\", stdev(test))"
   ]
  },
  {
   "cell_type": "markdown",
   "metadata": {},
   "source": [
    "## 3 images, exactly 1"
   ]
  },
  {
   "cell_type": "code",
   "execution_count": 42,
   "metadata": {},
   "outputs": [
    {
     "name": "stdout",
     "output_type": "stream",
     "text": [
      "Train avg: 96.044 stdev: 1.1050022624411229\n",
      "Valid avg: 88.77 stdev: 0.5985398900658142\n",
      "Test avg: 88.25 stdev: 0.40000000000000124\n"
     ]
    }
   ],
   "source": [
    "#best epoch\n",
    "\n",
    "train = [97.30, 95.03, 95.74, 97.12, 95.03]\n",
    "valid = [88.65, 89.10, 87.95, 88.60, 89.55]\n",
    "test_norm = [0.889, 0.8835, 0.88, 0.879, 0.881]\n",
    "\n",
    "test = [a * 100 for a in test_norm]\n",
    "\n",
    "print(\"Train avg:\", mean(train), \"stdev:\", stdev(train))\n",
    "print(\"Valid avg:\", mean(valid), \"stdev:\", stdev(valid))\n",
    "print(\"Test avg:\", mean(test), \"stdev:\", stdev(test))"
   ]
  },
  {
   "cell_type": "markdown",
   "metadata": {},
   "source": [
    "## 3 images, exactly 2"
   ]
  },
  {
   "cell_type": "code",
   "execution_count": 43,
   "metadata": {},
   "outputs": [
    {
     "name": "stdout",
     "output_type": "stream",
     "text": [
      "Train avg: 94.08800000000001 stdev: 4.508216942428573\n",
      "Valid avg: 88.77 stdev: 1.4902181048423713\n",
      "Test avg: 87.7 stdev: 1.5272524349301202\n"
     ]
    }
   ],
   "source": [
    "#best epoch\n",
    "\n",
    "train = [97.29, 98.01, 89.71, 88.67, 96.76]\n",
    "valid = [89.85, 89.45, 89.30, 86.15, 89.10]\n",
    "test_norm = [0.8835, 0.8935, 0.8715, 0.8535, 0.883]\n",
    "\n",
    "test = [a * 100 for a in test_norm]\n",
    "\n",
    "print(\"Train avg:\", mean(train), \"stdev:\", stdev(train))\n",
    "print(\"Valid avg:\", mean(valid), \"stdev:\", stdev(valid))\n",
    "print(\"Test avg:\", mean(test), \"stdev:\", stdev(test))"
   ]
  },
  {
   "cell_type": "markdown",
   "metadata": {},
   "source": [
    "## 3 images, exactly 1 + 2"
   ]
  },
  {
   "cell_type": "code",
   "execution_count": 48,
   "metadata": {},
   "outputs": [
    {
     "name": "stdout",
     "output_type": "stream",
     "text": [
      "Train avg: 95.796 stdev: 1.8902195639660526\n",
      "Valid avg: 89.09 stdev: 0.4114000486144843\n",
      "Test avg: 88.64999999999999 stdev: 0.5419870847169745\n"
     ]
    }
   ],
   "source": [
    "#best epoch\n",
    "\n",
    "train = [96.38, 93.80, 93.83, 97.04, 97.93]\n",
    "valid = [89.40, 89.55, 88.50, 89.05, 88.95]\n",
    "test_norm = [0.8805, 0.89, 0.8845, 0.8835, 0.894]\n",
    "\n",
    "test = [a * 100 for a in test_norm]\n",
    "\n",
    "print(\"Train avg:\", mean(train), \"stdev:\", stdev(train))\n",
    "print(\"Valid avg:\", mean(valid), \"stdev:\", stdev(valid))\n",
    "print(\"Test avg:\", mean(test), \"stdev:\", stdev(test))"
   ]
  },
  {
   "cell_type": "code",
   "execution_count": null,
   "metadata": {},
   "outputs": [],
   "source": []
  }
 ],
 "metadata": {
  "kernelspec": {
   "display_name": "Python 3",
   "language": "python",
   "name": "python3"
  },
  "language_info": {
   "codemirror_mode": {
    "name": "ipython",
    "version": 3
   },
   "file_extension": ".py",
   "mimetype": "text/x-python",
   "name": "python",
   "nbconvert_exporter": "python",
   "pygments_lexer": "ipython3",
   "version": "3.8.5"
  }
 },
 "nbformat": 4,
 "nbformat_minor": 4
}
