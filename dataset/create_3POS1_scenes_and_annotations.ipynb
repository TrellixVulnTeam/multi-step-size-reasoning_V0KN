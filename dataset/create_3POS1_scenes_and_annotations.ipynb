{
 "cells": [
  {
   "cell_type": "code",
   "execution_count": null,
   "metadata": {},
   "outputs": [],
   "source": [
    "import json\n",
    "import random\n",
    "from string import Template\n",
    "import numpy as np\n",
    "import PIL\n",
    "from ipywidgets import widgets, HBox\n",
    "from random import randrange\n",
    "import sys\n",
    "import cv2\n",
    "import numpy as np\n",
    "from random import shuffle"
   ]
  },
  {
   "cell_type": "code",
   "execution_count": null,
   "metadata": {},
   "outputs": [],
   "source": [
    "path = \"malevic/data/pos1/\""
   ]
  },
  {
   "cell_type": "code",
   "execution_count": null,
   "metadata": {},
   "outputs": [],
   "source": [
    "with open(path + \"annotation/train_annotation.json\") as f1:\n",
    "    annotation = json.load(f1)"
   ]
  },
  {
   "cell_type": "code",
   "execution_count": 64,
   "metadata": {},
   "outputs": [],
   "source": [
    "obj_color_size = {}\n",
    "# separate shapes by color and size\n",
    "for img_id, descr in annotation.items():\n",
    "    for obj in descr[1]['objects']:\n",
    "        counter = 0\n",
    "        for another_obj in descr[1]['objects']:\n",
    "            if (another_obj['color'] == obj['color'] and another_obj['shape'] == obj['shape']):\n",
    "                counter += 1\n",
    "        if counter < 2:\n",
    "            key = (obj['shape'], obj['color'], obj['size'])\n",
    "            if key in obj_color_size:\n",
    "                obj_color_size[key].append((img_id, obj['object_id'], obj['size']))\n",
    "            else:\n",
    "                obj_color_size[key] = [(img_id, obj['object_id'], obj['size'])]\n",
    "\n",
    "objects = obj_color_size.copy()"
   ]
  },
  {
   "cell_type": "code",
   "execution_count": 66,
   "metadata": {},
   "outputs": [
    {
     "name": "stdout",
     "output_type": "stream",
     "text": [
      "66039 26405\n"
     ]
    }
   ],
   "source": [
    "# calculate number of small and big objects on the pictures\n",
    "\n",
    "counter = 0\n",
    "smol = 0\n",
    "big = 0\n",
    "for img_id, descr in annotation.items():\n",
    "    for obj in descr[1]['objects']:\n",
    "        if obj['size'] == 'big':\n",
    "            big += 1\n",
    "        else:\n",
    "            smol += 1\n",
    "print(smol, big)"
   ]
  },
  {
   "cell_type": "code",
   "execution_count": 67,
   "metadata": {},
   "outputs": [],
   "source": [
    "shapes = ('triangle', 'circle', 'square', 'rectangle')\n",
    "sizes = ('big', 'small')\n",
    "colors = ('red', 'blue', 'yellow', 'green', 'white')"
   ]
  },
  {
   "cell_type": "code",
   "execution_count": 68,
   "metadata": {},
   "outputs": [
    {
     "name": "stdout",
     "output_type": "stream",
     "text": [
      "('circle', 'red', 'big') : 545\n",
      "('circle', 'green', 'big') : 550\n",
      "('circle', 'white', 'small') : 1180\n",
      "('circle', 'blue', 'small') : 1256\n",
      "('circle', 'red', 'small') : 1246\n",
      "('circle', 'yellow', 'small') : 1291\n",
      "('triangle', 'red', 'small') : 1272\n",
      "('triangle', 'white', 'small') : 1268\n",
      "('triangle', 'yellow', 'small') : 1268\n",
      "('triangle', 'green', 'small') : 1274\n",
      "('triangle', 'white', 'big') : 556\n",
      "('triangle', 'yellow', 'big') : 592\n",
      "('triangle', 'blue', 'small') : 1244\n",
      "('triangle', 'blue', 'big') : 537\n",
      "('rectangle', 'blue', 'big') : 564\n",
      "('circle', 'green', 'small') : 1217\n",
      "('triangle', 'red', 'big') : 528\n",
      "('square', 'red', 'small') : 1256\n",
      "('square', 'blue', 'big') : 561\n",
      "('triangle', 'green', 'big') : 560\n",
      "('circle', 'blue', 'big') : 542\n",
      "('rectangle', 'yellow', 'small') : 1285\n",
      "('rectangle', 'white', 'small') : 1275\n",
      "('rectangle', 'red', 'small') : 1287\n",
      "('rectangle', 'green', 'small') : 1300\n",
      "('square', 'white', 'big') : 516\n",
      "('square', 'blue', 'small') : 1195\n",
      "('square', 'green', 'small') : 1242\n",
      "('square', 'white', 'small') : 1261\n",
      "('circle', 'white', 'big') : 594\n",
      "('circle', 'yellow', 'big') : 568\n",
      "('square', 'yellow', 'small') : 1361\n",
      "('square', 'red', 'big') : 543\n",
      "('square', 'green', 'big') : 592\n",
      "('rectangle', 'yellow', 'big') : 578\n",
      "('rectangle', 'blue', 'small') : 1247\n",
      "('square', 'yellow', 'big') : 539\n",
      "('rectangle', 'green', 'big') : 511\n",
      "('rectangle', 'white', 'big') : 574\n",
      "('rectangle', 'red', 'big') : 564\n"
     ]
    },
    {
     "data": {
      "text/plain": [
       "40"
      ]
     },
     "execution_count": 68,
     "metadata": {},
     "output_type": "execute_result"
    }
   ],
   "source": [
    "for key, item in objects.items():\n",
    "    print(key,  ':', len(item))\n",
    "len(objects)"
   ]
  },
  {
   "cell_type": "markdown",
   "metadata": {},
   "source": [
    "# Balance objects by shape, color, size"
   ]
  },
  {
   "cell_type": "code",
   "execution_count": 69,
   "metadata": {},
   "outputs": [
    {
     "name": "stdout",
     "output_type": "stream",
     "text": [
      "The rarest object in the pictures is ('rectangle', 'green', 'big')\n",
      "Appears 511 times\n"
     ]
    }
   ],
   "source": [
    "min_num_objects = sys.maxsize\n",
    "\n",
    "for key, item in objects.items():\n",
    "    if len(item) < min_num_objects:\n",
    "        min_num_objects = len(item)\n",
    "        rarest_object = key\n",
    "print(\"The rarest object in the pictures is %s\" % (rarest_object,))\n",
    "print(\"Appears %d times\" % min_num_objects)"
   ]
  },
  {
   "cell_type": "code",
   "execution_count": 70,
   "metadata": {},
   "outputs": [],
   "source": [
    "# take a number of samples from each object that equals the number of appearance of the rarest object\n",
    "\n",
    "objects_balanced = {}\n",
    "\n",
    "for key, item in objects.items():\n",
    "    objects_balanced[key] = item[:min_num_objects]\n",
    "    \n",
    "objects = objects_balanced"
   ]
  },
  {
   "cell_type": "markdown",
   "metadata": {},
   "source": [
    "# Create \"1 small 2 big\" and \"2 big one small\" scenes from balanced objects"
   ]
  },
  {
   "cell_type": "code",
   "execution_count": 71,
   "metadata": {},
   "outputs": [],
   "source": [
    "# 1 small 2 big\n",
    "\n",
    "dataset1 = {}\n",
    "\n",
    "for shape in shapes:\n",
    "    for color in colors:\n",
    "        i = 0\n",
    "        j = 0\n",
    "        dataset1[(shape, color)] = []\n",
    "        seen_pics = []\n",
    "        while (i < int(len(objects[(shape, color, 'big')]) / 2) and i < len(objects[(shape, color, 'small')])):\n",
    "            item1 = objects[(shape, color, 'small')][i]\n",
    "            item2 = objects[(shape, color, 'big')][j]\n",
    "            item3 = objects[(shape, color, 'big')][j+1]\n",
    "            id1 = item1[0]\n",
    "            id2 = item2[0]\n",
    "            id3 = item3[0]\n",
    "            # do not repeat images across single set of 3, and across the target\n",
    "            if (id1 not in [id2, id3]\n",
    "                and id3 not in [id2, id1] \n",
    "                and id1 not in seen_pics \n",
    "                and id2 not in seen_pics \n",
    "                and id3 not in seen_pics):\n",
    "                dataset1[(shape, color)].append([item1, item2, item3])\n",
    "                seen_pics.extend([id1, id2, id3])\n",
    "            j += 2\n",
    "            i += 1"
   ]
  },
  {
   "cell_type": "code",
   "execution_count": 72,
   "metadata": {},
   "outputs": [
    {
     "name": "stdout",
     "output_type": "stream",
     "text": [
      "Number of \"1 small 2 big\" samples per object:\n",
      "\n",
      "('triangle', 'red') 255\n",
      "('triangle', 'blue') 255\n",
      "('triangle', 'yellow') 255\n",
      "('triangle', 'green') 255\n",
      "('triangle', 'white') 255\n",
      "('circle', 'red') 255\n",
      "('circle', 'blue') 255\n",
      "('circle', 'yellow') 255\n",
      "('circle', 'green') 255\n",
      "('circle', 'white') 255\n",
      "('square', 'red') 255\n",
      "('square', 'blue') 255\n",
      "('square', 'yellow') 255\n",
      "('square', 'green') 255\n",
      "('square', 'white') 255\n",
      "('rectangle', 'red') 255\n",
      "('rectangle', 'blue') 255\n",
      "('rectangle', 'yellow') 255\n",
      "('rectangle', 'green') 255\n",
      "('rectangle', 'white') 255\n",
      "5100\n"
     ]
    }
   ],
   "source": [
    "print('Number of \"1 small 2 big\" samples per object:\\n')\n",
    "data_len = 0\n",
    "for key, item in dataset1.items():\n",
    "    print(key, len(item))\n",
    "    data_len += len(item)\n",
    "print(data_len)"
   ]
  },
  {
   "cell_type": "code",
   "execution_count": 73,
   "metadata": {},
   "outputs": [],
   "source": [
    "# 2 small 1 big\n",
    "\n",
    "dataset2 = {}\n",
    "\n",
    "for shape in shapes:\n",
    "    for color in colors:\n",
    "        i = 0\n",
    "        j = 0\n",
    "        dataset2[(shape, color)] = []\n",
    "        seen_pics = []\n",
    "        while (i < int(len(objects[(shape, color, 'small')]) / 2) and i < len(objects[(shape, color, 'big')])):\n",
    "            item1 = objects[(shape, color, 'big')][i]\n",
    "            item2 = objects[(shape, color, 'small')][j]\n",
    "            item3 = objects[(shape, color, 'small')][j+1]\n",
    "            id1 = item1[0]\n",
    "            id2 = item2[0]\n",
    "            id3 = item3[0]\n",
    "            # do not repeat images across single set of 3, and across the target\n",
    "            if (id1 not in [id2, id3]\n",
    "                and id3 not in [id2, id1]\n",
    "                and id1 not in seen_pics \n",
    "                and id2 not in seen_pics \n",
    "                and id3 not in seen_pics):\n",
    "                dataset2[(shape, color)].append([item1, item2, item3])\n",
    "                seen_pics.extend([id1, id2, id3])\n",
    "            j += 2\n",
    "            i += 1"
   ]
  },
  {
   "cell_type": "code",
   "execution_count": 74,
   "metadata": {},
   "outputs": [
    {
     "name": "stdout",
     "output_type": "stream",
     "text": [
      "Number of \"1 big 2 small\" samples per object:\n",
      "\n",
      "('triangle', 'red') 255\n",
      "('triangle', 'blue') 255\n",
      "('triangle', 'yellow') 255\n",
      "('triangle', 'green') 255\n",
      "('triangle', 'white') 255\n",
      "('circle', 'red') 255\n",
      "('circle', 'blue') 255\n",
      "('circle', 'yellow') 255\n",
      "('circle', 'green') 255\n",
      "('circle', 'white') 255\n",
      "('square', 'red') 255\n",
      "('square', 'blue') 255\n",
      "('square', 'yellow') 255\n",
      "('square', 'green') 255\n",
      "('square', 'white') 255\n",
      "('rectangle', 'red') 255\n",
      "('rectangle', 'blue') 255\n",
      "('rectangle', 'yellow') 255\n",
      "('rectangle', 'green') 255\n",
      "('rectangle', 'white') 255\n",
      "5100\n"
     ]
    }
   ],
   "source": [
    "print('Number of \"1 big 2 small\" samples per object:\\n')\n",
    "data_len = 0\n",
    "for key, item in dataset2.items():\n",
    "    print(key, len(item))\n",
    "    data_len += len(item)\n",
    "print(data_len)"
   ]
  },
  {
   "cell_type": "markdown",
   "metadata": {},
   "source": [
    "# Add statements with GT true/false answers"
   ]
  },
  {
   "cell_type": "code",
   "execution_count": 75,
   "metadata": {},
   "outputs": [],
   "source": [
    "templates_big = [Template('There are exactly two $color $shape that are big $shape'),\n",
    "                           Template('There is exactly one $color $shape that is a big $shape'),\n",
    "                            Template('There are more $color $shape that are big $shape')]\n",
    "\n",
    "templates_small = [Template('There are exactly two $color $shape that are small $shape'),\n",
    "                           Template('There is exactly one $color $shape that is a small $shape'),\n",
    "                            Template('There are more $color $shape that are small $shape')]"
   ]
  },
  {
   "cell_type": "code",
   "execution_count": 76,
   "metadata": {},
   "outputs": [],
   "source": [
    "# 1 small 2 big\n",
    "\n",
    "captions1 = {}\n",
    "answers1 = {}\n",
    "\n",
    "for key, items in dataset1.items():\n",
    "    answers1[key] = []\n",
    "    captions1[key] = []\n",
    "    shape = key[0]\n",
    "    color = key[1]\n",
    "    for triple in items:\n",
    "        \n",
    "        capt_tmp = []\n",
    "        \n",
    "        for i, tmpl in enumerate(templates_big):\n",
    "            if i % 2 == 0:\n",
    "                capt_tmp.append(tmpl.substitute(shape = shape+'s', color = color))\n",
    "            else:\n",
    "                capt_tmp.append(tmpl.substitute(shape = shape, color = color))\n",
    "                \n",
    "        for i, tmpl in enumerate(templates_small):\n",
    "            if i % 2 == 0:\n",
    "                capt_tmp.append(tmpl.substitute(shape = shape+'s', color = color))\n",
    "            else:\n",
    "                capt_tmp.append(tmpl.substitute(shape = shape, color = color))\n",
    "                \n",
    "        captions1[key].append(capt_tmp)\n",
    "                    \n",
    "        answers1[key].append([True, False, True, False, True, False])"
   ]
  },
  {
   "cell_type": "code",
   "execution_count": 77,
   "metadata": {},
   "outputs": [],
   "source": [
    "# 2 small 1 big\n",
    "\n",
    "captions2 = {}\n",
    "answers2 = {}\n",
    "\n",
    "for key, items in dataset2.items():\n",
    "    answers2[key] = []\n",
    "    captions2[key] = []\n",
    "    shape = key[0]\n",
    "    color = key[1]\n",
    "    for triple in items:\n",
    "        \n",
    "        capt_tmp = []\n",
    "        \n",
    "        for i, tmpl in enumerate(templates_big):\n",
    "            if i % 2 == 0:\n",
    "                capt_tmp.append(tmpl.substitute(shape = shape+'s', color = color))\n",
    "            else:\n",
    "                capt_tmp.append(tmpl.substitute(shape = shape, color = color))\n",
    "                \n",
    "        for i, tmpl in enumerate(templates_small):\n",
    "            if i % 2 == 0:\n",
    "                capt_tmp.append(tmpl.substitute(shape = shape+'s', color = color))\n",
    "            else:\n",
    "                capt_tmp.append(tmpl.substitute(shape = shape, color = color))\n",
    "                \n",
    "        captions2[key].append(capt_tmp)\n",
    "        \n",
    "        answers2[key].append([False, True, False, True, False, True])"
   ]
  },
  {
   "cell_type": "code",
   "execution_count": 78,
   "metadata": {},
   "outputs": [],
   "source": [
    "# combine everything before saving to *.json\n",
    "\n",
    "def get_output(dataset, captions, answers):\n",
    "    output = {}\n",
    "    for i, (key, pics) in enumerate(dataset.items()):\n",
    "        output[i] = {}\n",
    "        output[i][\"target\"] = {'shape': key[0], 'color': key[1]} \n",
    "        output[i][\"samples\"] = {}\n",
    "        for sample_id, sample in enumerate(pics):\n",
    "            output[i][\"samples\"][sample_id] = {}\n",
    "            triples = []\n",
    "            for img_id, target_id, target_size in sample:\n",
    "                triples.append(img_id+'.png')\n",
    "    #                             'image_id': img_id,\n",
    "    #                             'target_id': target_id, \n",
    "    #                             'target_size': target_size\n",
    "            questions = []\n",
    "            for j, q in enumerate(captions[key][sample_id]):\n",
    "                questions.append({})\n",
    "                questions[j]['question'] = q\n",
    "                questions[j]['answer'] = answers[key][sample_id][j]\n",
    "            output[i][\"samples\"][sample_id]['questions'] = questions\n",
    "            output[i][\"samples\"][sample_id]['images'] = triples\n",
    "            \n",
    "    return output"
   ]
  },
  {
   "cell_type": "code",
   "execution_count": 79,
   "metadata": {},
   "outputs": [],
   "source": [
    "# 1 small 2 big\n",
    "output1 = get_output(dataset1, captions1, answers1)\n",
    "# 2 small 1 big\n",
    "output2 = get_output(dataset2, captions2, answers2)"
   ]
  },
  {
   "cell_type": "code",
   "execution_count": 87,
   "metadata": {},
   "outputs": [],
   "source": [
    "# save\n",
    "with open('dataset-balanced/1small_2big_balanced/annotations/train.json', 'w', encoding='utf-8') as f:\n",
    "    json.dump(output1, f, ensure_ascii=False, indent=4)"
   ]
  },
  {
   "cell_type": "code",
   "execution_count": 81,
   "metadata": {},
   "outputs": [],
   "source": [
    "# save\n",
    "with open('dataset-balanced/2small_1big_balanced/annotations/train.json', 'w', encoding='utf-8') as f:\n",
    "    json.dump(output2, f, ensure_ascii=False, indent=4)"
   ]
  },
  {
   "cell_type": "markdown",
   "metadata": {},
   "source": [
    "# Check the dataset"
   ]
  },
  {
   "cell_type": "code",
   "execution_count": 90,
   "metadata": {},
   "outputs": [],
   "source": [
    "# set paths to the dataset and to the corresponding images\n",
    "\n",
    "images_path = \"malevic/data/pos1/images/train/\"\n",
    "\n",
    "with open('dataset-balanced/2small_1big_balanced/annotations/train.json') as f:\n",
    "    dataset = json.load(f)"
   ]
  },
  {
   "cell_type": "code",
   "execution_count": 91,
   "metadata": {},
   "outputs": [
    {
     "name": "stdout",
     "output_type": "stream",
     "text": [
      "['5164.png', '13871.png', '13706.png']\n",
      "[{'question': 'There are exactly two yellow triangles that are big triangles', 'answer': False}, {'question': 'There is exactly one yellow triangle that is a big triangle', 'answer': True}, {'question': 'There are more yellow triangles that are big triangles', 'answer': False}, {'question': 'There are exactly two yellow triangles that are small triangles', 'answer': True}, {'question': 'There is exactly one yellow triangle that is a small triangle', 'answer': False}, {'question': 'There are more yellow triangles that are small triangles', 'answer': True}]\n"
     ]
    },
    {
     "data": {
      "application/vnd.jupyter.widget-view+json": {
       "model_id": "dd38f016a85d4315a7bdd195acc2a955",
       "version_major": 2,
       "version_minor": 0
      },
      "text/plain": [
       "HBox(children=(Image(value=b'\\x89PNG\\r\\n\\x1a\\n\\x00\\x00\\x00\\rIHDR\\x00\\x00\\x05\\xc6\\x00\\x00\\x05\\xc6\\x08\\x06\\x00\\x…"
      ]
     },
     "metadata": {},
     "output_type": "display_data"
    }
   ],
   "source": [
    "\n",
    "t = str(randrange(len(dataset)+1))\n",
    "s = str(randrange(len(dataset[t]['samples'])))\n",
    "\n",
    "img = [widgets.Image(value = open(images_path+x, 'rb').read()) for x in dataset[t]['samples'][s]['images']]\n",
    "\n",
    "print(dataset[t]['samples'][s]['images'])\n",
    "print(dataset[t]['samples'][s]['questions'])\n",
    "    \n",
    "hbox = HBox([img[0], img[1], img[2]])\n",
    "display(hbox)"
   ]
  },
  {
   "cell_type": "markdown",
   "metadata": {},
   "source": [
    "# Add merged images to the dataset"
   ]
  },
  {
   "cell_type": "code",
   "execution_count": 22,
   "metadata": {},
   "outputs": [],
   "source": [
    "# https://stackoverflow.com/questions/55207987/is-there-any-way-to-merge-multiple-image-into-one-single-image-in-python\n",
    "\n",
    "class Montage(object):\n",
    "    def __init__(self,initial_image):\n",
    "        self.montage = initial_image\n",
    "        self.x,self.y = self.montage.shape[:2]\n",
    "\n",
    "    def append(self,image):\n",
    "        image = image[:,:,:3]\n",
    "        x,y = image.shape[0:2]\n",
    "        new_image = cv2.resize(image,(int(y*float(self.x)/x),self.x))\n",
    "        self.montage = np.hstack((self.montage,new_image))\n",
    "\n",
    "    def save(self, filename):\n",
    "        cv2.imwrite(filename, self.montage) "
   ]
  },
  {
   "cell_type": "code",
   "execution_count": 6,
   "metadata": {},
   "outputs": [],
   "source": [
    "sep = cv2.imread(\"separator.png\")\n",
    "img_id = 0\n",
    "\n",
    "dataset_folder = 'dataset-balanced/'\n",
    "\n",
    "for task in ('1small_2big_balanced/', '2small_1big_balanced/'):\n",
    "    for split in ('test', 'val', 'train'):\n",
    "        \n",
    "        images_path = \"malevic/data/pos1/images/\" + split\n",
    "        \n",
    "        with open(dataset_folder + task + 'annotations/' + split + \".json\") as f:\n",
    "            dataset = json.load(f)\n",
    "            \n",
    "        for key, target_data in dataset.items():\n",
    "            for i, (sample_id, sample) in enumerate(target_data['samples'].items()):\n",
    "                # creating one image sample from 3 randomly shuffled examples, separated by grey area\n",
    "                \n",
    "                sampled_imgs = sample['images']\n",
    "                \n",
    "                images = [cv2.imread(images_path+'/'+x)[:,:,:3] for x in sampled_imgs]\n",
    "                \n",
    "                if i % 3 == 0:\n",
    "                    m = Montage(images[0])\n",
    "                    m.append(sep)\n",
    "                    m.append(images[1])\n",
    "                    m.append(sep)\n",
    "                    m.append(images[2])\n",
    "                elif i % 3 == 1:\n",
    "                    m = Montage(images[1])\n",
    "                    m.append(sep)\n",
    "                    m.append(images[0])\n",
    "                    m.append(sep)\n",
    "                    m.append(images[2])\n",
    "                else:\n",
    "                    m = Montage(images[1])\n",
    "                    m.append(sep)\n",
    "                    m.append(images[2])\n",
    "                    m.append(sep)\n",
    "                    m.append(images[0])\n",
    "                    \n",
    "                sample['merged'] = str(img_id) + \".png\"\n",
    "                m.save(dataset_folder + task + \"images_big_ordered/\" + split + \"/\" + sample['merged'])\n",
    "                \n",
    "                img_id += 1\n",
    "                \n",
    "        with open(dataset_folder + task + \"annotations/\" + split + \".json\", 'w', encoding='utf-8') as f:\n",
    "            json.dump(dataset, f, ensure_ascii=False, indent=4)\n"
   ]
  },
  {
   "cell_type": "markdown",
   "metadata": {},
   "source": [
    "# Dataset with 20K scenes"
   ]
  },
  {
   "cell_type": "code",
   "execution_count": 5,
   "metadata": {},
   "outputs": [],
   "source": [
    "pos1_folder = \"e:/Study/Thesis/code/malevic/data/pos1/\""
   ]
  },
  {
   "cell_type": "code",
   "execution_count": 6,
   "metadata": {},
   "outputs": [],
   "source": [
    "# aggregate pics into groups by split+shape+color\n",
    "\n",
    "aggregated_pics = {}\n",
    "\n",
    "for split in ['test', 'val', 'train']:\n",
    "    \n",
    "    aggregated_pics[split] = {}\n",
    "    \n",
    "    with open(pos1_folder + \"dataset/\" + split + \".json\") as f:\n",
    "        dataset_split = json.load(f)\n",
    "        \n",
    "    for info in dataset_split['questions']:\n",
    "\n",
    "        question_tokens = info['question'].split()\n",
    "            \n",
    "        shape = question_tokens[2]\n",
    "        color = question_tokens[1]\n",
    "        size = question_tokens[5]\n",
    "        \n",
    "        if info['answer'] == 'no':\n",
    "            if size == 'small':\n",
    "                size = 'big'\n",
    "            elif size == 'big':\n",
    "                size = 'small'\n",
    "        \n",
    "        target = (shape, color, size)\n",
    "        \n",
    "        if target in aggregated_pics[split]:\n",
    "            aggregated_pics[split][target].append(info['image_filename'])\n",
    "        else:\n",
    "            aggregated_pics[split][target] = [info['image_filename']]\n",
    "    "
   ]
  },
  {
   "cell_type": "code",
   "execution_count": 8,
   "metadata": {},
   "outputs": [],
   "source": [
    "# build scenes\n",
    "\n",
    "dataset_pics = {}\n",
    "\n",
    "for split in ['test', 'val', 'train']:\n",
    "    \n",
    "    dataset_pics[split] = {'1small2big':{}, '1big2small':{}}\n",
    "    \n",
    "    for target, images in aggregated_pics[split].items():       \n",
    "        if target[2] == 'small':\n",
    "            size = 'big'\n",
    "            task = '1small2big'\n",
    "        else:\n",
    "            size = 'small'\n",
    "            task = '1big2small'\n",
    "        \n",
    "        add_target = (target[0], target[1], size)\n",
    "        \n",
    "        for img1 in images:\n",
    "            img2 = random.choice(aggregated_pics[split][add_target])\n",
    "            img3 = random.choice(aggregated_pics[split][add_target])\n",
    "            \n",
    "            if ((target[0], target[1]) in dataset_pics[split][task]):\n",
    "                dataset_pics[split][task][(target[0], target[1])].append([img1, img2, img3])\n",
    "            else:\n",
    "                dataset_pics[split][task][(target[0], target[1])] = [[img1, img2, img3]]"
   ]
  },
  {
   "cell_type": "code",
   "execution_count": 39,
   "metadata": {},
   "outputs": [
    {
     "data": {
      "text/plain": [
       "400"
      ]
     },
     "execution_count": 39,
     "metadata": {},
     "output_type": "execute_result"
    }
   ],
   "source": [
    "len(dataset_pics['train']['1small2big'][('circle','green')])"
   ]
  },
  {
   "cell_type": "code",
   "execution_count": 11,
   "metadata": {},
   "outputs": [
    {
     "name": "stdout",
     "output_type": "stream",
     "text": [
      "============\n",
      "Split: test\n",
      "============\n",
      "Size: small\n",
      "('circle', 'green') :  50\n",
      "('triangle', 'white') :  50\n",
      "('rectangle', 'white') :  50\n",
      "('circle', 'red') :  50\n",
      "('square', 'yellow') :  50\n",
      "('circle', 'yellow') :  50\n",
      "('square', 'blue') :  50\n",
      "('triangle', 'red') :  50\n",
      "('circle', 'white') :  50\n",
      "('circle', 'blue') :  50\n",
      "('rectangle', 'green') :  50\n",
      "('square', 'white') :  50\n",
      "('rectangle', 'yellow') :  50\n",
      "('square', 'green') :  50\n",
      "('rectangle', 'red') :  50\n",
      "('triangle', 'yellow') :  50\n",
      "('square', 'red') :  50\n",
      "('triangle', 'blue') :  50\n",
      "('triangle', 'green') :  50\n",
      "('rectangle', 'blue') :  50\n",
      "Size: big\n",
      "('square', 'green') :  50\n",
      "('rectangle', 'red') :  50\n",
      "('square', 'red') :  50\n",
      "('triangle', 'white') :  50\n",
      "('square', 'white') :  50\n",
      "('circle', 'blue') :  50\n",
      "('circle', 'white') :  50\n",
      "('triangle', 'yellow') :  50\n",
      "('rectangle', 'yellow') :  50\n",
      "('rectangle', 'green') :  50\n",
      "('circle', 'yellow') :  50\n",
      "('circle', 'green') :  50\n",
      "('rectangle', 'blue') :  50\n",
      "('triangle', 'green') :  50\n",
      "('square', 'blue') :  50\n",
      "('triangle', 'blue') :  50\n",
      "('rectangle', 'white') :  50\n",
      "('square', 'yellow') :  50\n",
      "('circle', 'red') :  50\n",
      "('triangle', 'red') :  50\n",
      "============\n",
      "Split: val\n",
      "============\n",
      "Size: small\n",
      "('circle', 'green') :  50\n",
      "('triangle', 'white') :  50\n",
      "('rectangle', 'white') :  50\n",
      "('circle', 'red') :  50\n",
      "('square', 'yellow') :  50\n",
      "('circle', 'yellow') :  50\n",
      "('square', 'blue') :  50\n",
      "('triangle', 'red') :  50\n",
      "('circle', 'white') :  50\n",
      "('circle', 'blue') :  50\n",
      "('rectangle', 'green') :  50\n",
      "('square', 'white') :  50\n",
      "('rectangle', 'yellow') :  50\n",
      "('square', 'green') :  50\n",
      "('rectangle', 'red') :  50\n",
      "('triangle', 'yellow') :  50\n",
      "('square', 'red') :  50\n",
      "('triangle', 'blue') :  50\n",
      "('triangle', 'green') :  50\n",
      "('rectangle', 'blue') :  50\n",
      "Size: big\n",
      "('square', 'green') :  50\n",
      "('rectangle', 'red') :  50\n",
      "('square', 'red') :  50\n",
      "('triangle', 'white') :  50\n",
      "('square', 'white') :  50\n",
      "('circle', 'blue') :  50\n",
      "('circle', 'white') :  50\n",
      "('triangle', 'yellow') :  50\n",
      "('rectangle', 'yellow') :  50\n",
      "('rectangle', 'green') :  50\n",
      "('circle', 'yellow') :  50\n",
      "('circle', 'green') :  50\n",
      "('rectangle', 'blue') :  50\n",
      "('triangle', 'green') :  50\n",
      "('square', 'blue') :  50\n",
      "('triangle', 'blue') :  50\n",
      "('rectangle', 'white') :  50\n",
      "('square', 'yellow') :  50\n",
      "('circle', 'red') :  50\n",
      "('triangle', 'red') :  50\n",
      "============\n",
      "Split: train\n",
      "============\n",
      "Size: small\n",
      "('circle', 'green') :  400\n",
      "('triangle', 'white') :  400\n",
      "('rectangle', 'white') :  400\n",
      "('circle', 'red') :  400\n",
      "('square', 'yellow') :  400\n",
      "('circle', 'yellow') :  400\n",
      "('square', 'blue') :  400\n",
      "('triangle', 'red') :  400\n",
      "('circle', 'white') :  400\n",
      "('circle', 'blue') :  400\n",
      "('rectangle', 'green') :  400\n",
      "('square', 'white') :  400\n",
      "('rectangle', 'yellow') :  400\n",
      "('square', 'green') :  400\n",
      "('rectangle', 'red') :  400\n",
      "('triangle', 'yellow') :  400\n",
      "('square', 'red') :  400\n",
      "('triangle', 'blue') :  400\n",
      "('triangle', 'green') :  400\n",
      "('rectangle', 'blue') :  400\n",
      "Size: big\n",
      "('square', 'green') :  400\n",
      "('rectangle', 'red') :  400\n",
      "('square', 'red') :  400\n",
      "('triangle', 'white') :  400\n",
      "('square', 'white') :  400\n",
      "('circle', 'blue') :  400\n",
      "('circle', 'white') :  400\n",
      "('triangle', 'yellow') :  400\n",
      "('rectangle', 'yellow') :  400\n",
      "('rectangle', 'green') :  400\n",
      "('circle', 'yellow') :  400\n",
      "('circle', 'green') :  400\n",
      "('rectangle', 'blue') :  400\n",
      "('triangle', 'green') :  400\n",
      "('square', 'blue') :  400\n",
      "('triangle', 'blue') :  400\n",
      "('rectangle', 'white') :  400\n",
      "('square', 'yellow') :  400\n",
      "('circle', 'red') :  400\n",
      "('triangle', 'red') :  400\n"
     ]
    }
   ],
   "source": [
    "# statistics check\n",
    "\n",
    "for split, task_data in dataset_pics.items():\n",
    "    print('============')\n",
    "    print(\"Split:\", split)\n",
    "    print('============')\n",
    "    for task, main_data in task_data.items():\n",
    "        i = task.find('1')\n",
    "        j = task.find('2')\n",
    "        print(\"Size:\", task[i+1:j])\n",
    "        for target, pic_list in main_data.items():\n",
    "            print(target, ': ', len(pic_list))"
   ]
  },
  {
   "cell_type": "code",
   "execution_count": 12,
   "metadata": {},
   "outputs": [],
   "source": [
    "# sentences templates\n",
    "\n",
    "templates_big = [Template('There are exactly two $color $shape that are big $shape'),\n",
    "                           Template('There is exactly one $color $shape that is a big $shape'),\n",
    "                            Template('There are more $color $shape that are big $shape')]\n",
    "\n",
    "templates_small = [Template('There are exactly two $color $shape that are small $shape'),\n",
    "                           Template('There is exactly one $color $shape that is a small $shape'),\n",
    "                            Template('There are more $color $shape that are small $shape')]"
   ]
  },
  {
   "cell_type": "code",
   "execution_count": 41,
   "metadata": {},
   "outputs": [],
   "source": [
    "# add sentences and gt labels\n",
    "\n",
    "questions = {}\n",
    "\n",
    "for split, task_data in dataset_pics.items():\n",
    "    \n",
    "    questions[split] = []\n",
    "    \n",
    "    question_index = 0\n",
    "    image_index = 0\n",
    "    \n",
    "    for task, main_data in task_data.items():\n",
    "        for target, pic_list in main_data.items():\n",
    "            \n",
    "            shape = target[0]\n",
    "            color = target[1]           \n",
    "            \n",
    "            for img_triple in pic_list:\n",
    "                \n",
    "                questions_curr = []\n",
    "                \n",
    "                for i, tmpl in enumerate(templates_big):\n",
    "                    if i % 2 == 0:\n",
    "                        q = tmpl.substitute(shape = shape+'s', color = color)\n",
    "                        questions_curr.append(q)\n",
    "                    else:\n",
    "                        q = tmpl.substitute(shape = shape, color = color)\n",
    "                        questions_curr.append(q)\n",
    "\n",
    "                for i, tmpl in enumerate(templates_small):\n",
    "                    if i % 2 == 0:\n",
    "                        q = tmpl.substitute(shape = shape+'s', color = color)\n",
    "                        questions_curr.append(q)\n",
    "                    else:\n",
    "                        q = tmpl.substitute(shape = shape, color = color)\n",
    "                        questions_curr.append(q)\n",
    "                if task == '1big2small':\n",
    "                    answers_curr = [False, True, False, True, False, True]\n",
    "                elif task == '1small2big':\n",
    "                    answers_curr = [True, False, True, False, True, False]\n",
    "\n",
    "                for i, question in enumerate(questions_curr):\n",
    "                    q_dict = {'question_index': question_index,\n",
    "                              'image_index': image_index,\n",
    "                              'images': img_triple,\n",
    "                              'question': question,\n",
    "                              'answer': answers_curr[i]\n",
    "                             }\n",
    "\n",
    "                    questions[split].append(q_dict)\n",
    "                    question_index += 1\n",
    "\n",
    "                image_index += 1\n",
    "            "
   ]
  },
  {
   "cell_type": "code",
   "execution_count": 45,
   "metadata": {},
   "outputs": [
    {
     "data": {
      "text/plain": [
       "[{'question_index': 11990,\n",
       "  'image_index': 1998,\n",
       "  'images': ['1848.png', '265.png', '457.png'],\n",
       "  'question': 'There are more red triangles that are big triangles',\n",
       "  'answer': False},\n",
       " {'question_index': 11991,\n",
       "  'image_index': 1998,\n",
       "  'images': ['1848.png', '265.png', '457.png'],\n",
       "  'question': 'There are exactly two red triangles that are small triangles',\n",
       "  'answer': True},\n",
       " {'question_index': 11992,\n",
       "  'image_index': 1998,\n",
       "  'images': ['1848.png', '265.png', '457.png'],\n",
       "  'question': 'There is exactly one red triangle that is a small triangle',\n",
       "  'answer': False},\n",
       " {'question_index': 11993,\n",
       "  'image_index': 1998,\n",
       "  'images': ['1848.png', '265.png', '457.png'],\n",
       "  'question': 'There are more red triangles that are small triangles',\n",
       "  'answer': True},\n",
       " {'question_index': 11994,\n",
       "  'image_index': 1999,\n",
       "  'images': ['1849.png', '271.png', '472.png'],\n",
       "  'question': 'There are exactly two red triangles that are big triangles',\n",
       "  'answer': False},\n",
       " {'question_index': 11995,\n",
       "  'image_index': 1999,\n",
       "  'images': ['1849.png', '271.png', '472.png'],\n",
       "  'question': 'There is exactly one red triangle that is a big triangle',\n",
       "  'answer': True},\n",
       " {'question_index': 11996,\n",
       "  'image_index': 1999,\n",
       "  'images': ['1849.png', '271.png', '472.png'],\n",
       "  'question': 'There are more red triangles that are big triangles',\n",
       "  'answer': False},\n",
       " {'question_index': 11997,\n",
       "  'image_index': 1999,\n",
       "  'images': ['1849.png', '271.png', '472.png'],\n",
       "  'question': 'There are exactly two red triangles that are small triangles',\n",
       "  'answer': True},\n",
       " {'question_index': 11998,\n",
       "  'image_index': 1999,\n",
       "  'images': ['1849.png', '271.png', '472.png'],\n",
       "  'question': 'There is exactly one red triangle that is a small triangle',\n",
       "  'answer': False}]"
      ]
     },
     "execution_count": 45,
     "metadata": {},
     "output_type": "execute_result"
    }
   ],
   "source": [
    "questions['test'][-10:-1]"
   ]
  },
  {
   "cell_type": "code",
   "execution_count": 70,
   "metadata": {},
   "outputs": [
    {
     "data": {
      "application/vnd.jupyter.widget-view+json": {
       "model_id": "7495bbbf931240c39bfbd95f670e8cb9",
       "version_major": 2,
       "version_minor": 0
      },
      "text/plain": [
       "HBox(children=(Image(value=b'\\x89PNG\\r\\n\\x1a\\n\\x00\\x00\\x00\\rIHDR\\x00\\x00\\x05\\xc6\\x00\\x00\\x05\\xc6\\x08\\x06\\x00\\x…"
      ]
     },
     "metadata": {},
     "output_type": "display_data"
    }
   ],
   "source": [
    "images_path = \"malevic/data/pos1/images/test/\"\n",
    "\n",
    "random_scene = random.choice(dataset_pics['test']['1big2small'][('circle',\n",
    "    'green')])\n",
    "\n",
    "img = [widgets.Image(value = open(images_path+x, 'rb').read()) for x in ['25.png', '1444.png', '878.png']]\n",
    "    \n",
    "hbox = HBox([img[0], img[1], img[2]])\n",
    "display(hbox)"
   ]
  },
  {
   "cell_type": "code",
   "execution_count": null,
   "metadata": {},
   "outputs": [],
   "source": [
    "# create nlvr-like images\n",
    "\n",
    "sep = cv2.imread(\"separator.png\")\n",
    "\n",
    "for split, questions_list in questions.items():\n",
    "    \n",
    "    for i, q in enumerate(questions_list):\n",
    "        i = 0\n",
    "        images_path = \"malevic/data/pos1/images/\" + split + \"/\"\n",
    "\n",
    "        img_id = q['image_index']\n",
    "        q['image_filename'] = str(img_id) + \".png\"\n",
    "\n",
    "        sampled_imgs = q['images']\n",
    "\n",
    "        if i % 6 == 0:\n",
    "            images = [cv2.imread(images_path+'/'+x)[:,:,:3] for x in sampled_imgs]\n",
    "\n",
    "            if img_id % 3 == 0:\n",
    "                m = Montage(images[0])\n",
    "                m.append(sep)\n",
    "                m.append(images[1])\n",
    "                m.append(sep)\n",
    "                m.append(images[2])\n",
    "            elif img_id % 3 == 1:\n",
    "                m = Montage(images[1])\n",
    "                m.append(sep)\n",
    "                m.append(images[0])\n",
    "                m.append(sep)\n",
    "                m.append(images[2])\n",
    "            else:\n",
    "                m = Montage(images[1])\n",
    "                m.append(sep)\n",
    "                m.append(images[2])\n",
    "                m.append(sep)\n",
    "                m.append(images[0])\n",
    "\n",
    "            m.save(\"dataset-balanced/images_big_20K_ordered/\" + split + \"/\" + q['image_filename'])"
   ]
  },
  {
   "cell_type": "code",
   "execution_count": 15,
   "metadata": {},
   "outputs": [
    {
     "data": {
      "text/plain": [
       "96000"
      ]
     },
     "execution_count": 15,
     "metadata": {},
     "output_type": "execute_result"
    }
   ],
   "source": [
    "len(questions['train'])"
   ]
  },
  {
   "cell_type": "code",
   "execution_count": 46,
   "metadata": {},
   "outputs": [],
   "source": [
    "for split, questions_list in questions.items():\n",
    "    for q in questions_list:\n",
    "        if q['question_index'] % 6 == 0:\n",
    "            if q['answer'] == True:\n",
    "                curr_task = \"1small2big\"\n",
    "            elif q['answer'] == False:\n",
    "                curr_task = \"1big2small\"\n",
    "        q['task'] = curr_task\n",
    "    "
   ]
  },
  {
   "cell_type": "code",
   "execution_count": 47,
   "metadata": {},
   "outputs": [],
   "source": [
    "for split in ['train', 'test', 'val']:\n",
    "    with open(\"dataset-balanced/questions/\" + split + \"_questions.json\", \"w\") as f:\n",
    "        json.dump(questions[split], f)"
   ]
  },
  {
   "cell_type": "code",
   "execution_count": 48,
   "metadata": {},
   "outputs": [],
   "source": [
    "for split in ['train', 'test', 'val']:\n",
    "    with open(\"dataset-balanced/questions/\" + split + \"_questions.json\") as f:\n",
    "        dataset = json.load(f)"
   ]
  },
  {
   "cell_type": "code",
   "execution_count": null,
   "metadata": {},
   "outputs": [],
   "source": []
  }
 ],
 "metadata": {
  "kernelspec": {
   "display_name": "Python 3",
   "language": "python",
   "name": "python3"
  },
  "language_info": {
   "codemirror_mode": {
    "name": "ipython",
    "version": 3
   },
   "file_extension": ".py",
   "mimetype": "text/x-python",
   "name": "python",
   "nbconvert_exporter": "python",
   "pygments_lexer": "ipython3",
   "version": "3.8.5"
  }
 },
 "nbformat": 4,
 "nbformat_minor": 2
}
