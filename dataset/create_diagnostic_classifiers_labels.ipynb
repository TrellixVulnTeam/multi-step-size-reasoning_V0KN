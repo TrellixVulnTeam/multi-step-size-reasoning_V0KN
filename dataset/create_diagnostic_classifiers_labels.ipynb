{
 "cells": [
  {
   "cell_type": "code",
   "execution_count": 1,
   "metadata": {},
   "outputs": [],
   "source": [
    "import json"
   ]
  },
  {
   "cell_type": "code",
   "execution_count": 3,
   "metadata": {},
   "outputs": [],
   "source": [
    "datasplits = ['test', 'val', 'train']\n",
    "folder = 'dataset-balanced'"
   ]
  },
  {
   "cell_type": "code",
   "execution_count": 6,
   "metadata": {},
   "outputs": [
    {
     "name": "stdout",
     "output_type": "stream",
     "text": [
      "2000\n",
      "2000\n",
      "16000\n"
     ]
    }
   ],
   "source": [
    "for split in datasplits:\n",
    "    \n",
    "    with open(folder + '/questions/%s_questions.json' % split) as f:\n",
    "        dataset = json.load(f)['questions']\n",
    "        \n",
    "    labels = []\n",
    "    \n",
    "    for datum in dataset:\n",
    "        if datum['question_index'] % 6 == 0:\n",
    "            target = datum['images'][0]\n",
    "            labels.append(datum['images_shuffled'].index(target))\n",
    "            \n",
    "    print(len(labels))\n",
    "    \n",
    "    with open(folder + '/diagnostic/%s_labels.txt' % split, 'w+') as f:\n",
    "        for item in labels:\n",
    "            f.write(\"%s\\n\" % item)\n",
    "        "
   ]
  },
  {
   "cell_type": "code",
   "execution_count": null,
   "metadata": {},
   "outputs": [],
   "source": []
  }
 ],
 "metadata": {
  "kernelspec": {
   "display_name": "Python 3",
   "language": "python",
   "name": "python3"
  },
  "language_info": {
   "codemirror_mode": {
    "name": "ipython",
    "version": 3
   },
   "file_extension": ".py",
   "mimetype": "text/x-python",
   "name": "python",
   "nbconvert_exporter": "python",
   "pygments_lexer": "ipython3",
   "version": "3.8.5"
  }
 },
 "nbformat": 4,
 "nbformat_minor": 4
}
