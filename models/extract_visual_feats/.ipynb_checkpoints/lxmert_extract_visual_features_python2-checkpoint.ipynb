{
 "cells": [
  {
   "cell_type": "code",
   "execution_count": null,
   "metadata": {
    "colab": {
     "base_uri": "https://localhost:8080/",
     "height": 36
    },
    "colab_type": "code",
    "id": "dcOnYKnFyl0e",
    "outputId": "cf7caf98-099a-4939-eb6b-6fde18701e89"
   },
   "outputs": [
    {
     "name": "stdout",
     "output_type": "stream",
     "text": [
      "Python 2.7.17\n"
     ]
    }
   ],
   "source": [
    "!python --version"
   ]
  },
  {
   "cell_type": "code",
   "execution_count": null,
   "metadata": {
    "colab": {
     "base_uri": "https://localhost:8080/",
     "height": 241
    },
    "colab_type": "code",
    "id": "iUWmuZcuyrk6",
    "outputId": "1fd6419b-6dd5-47d5-f2e9-21aa9e459344"
   },
   "outputs": [],
   "source": [
    "!git clone https://github.com/peteanderson80/bottom-up-attention/\n",
    "!git clone https://github.com/airsplay/lxmert.git"
   ]
  },
  {
   "cell_type": "code",
   "execution_count": null,
   "metadata": {
    "colab": {
     "base_uri": "https://localhost:8080/",
     "height": 1000
    },
    "colab_type": "code",
    "id": "cKIQyqn_0RGa",
    "outputId": "cfe36e5c-230a-49ce-fe8a-3c8adc6380b8"
   },
   "outputs": [],
   "source": [
    "!cd \"drive/My Drive/same_shape_diff_color_upd\" && unzip test.zip"
   ]
  },
  {
   "cell_type": "code",
   "execution_count": null,
   "metadata": {
    "colab": {
     "base_uri": "https://localhost:8080/",
     "height": 411
    },
    "colab_type": "code",
    "id": "qtuxkjKt0iY5",
    "outputId": "065762ee-1eea-442e-d070-339442e810f2"
   },
   "outputs": [],
   "source": [
    "!wget --no-check-certificate 'https://www.dropbox.com/s/2h4hmgcvpaewizu/resnet101_faster_rcnn_final_iter_320000.caffemodel?dl=1' -O lxmert/data/nlvr2_imgfeat/resnet101_faster_rcnn_final_iter_320000.caffemodel"
   ]
  },
  {
   "cell_type": "code",
   "execution_count": null,
   "metadata": {
    "colab": {
     "base_uri": "https://localhost:8080/",
     "height": 1000
    },
    "colab_type": "code",
    "id": "cmrEr5OP09Vz",
    "outputId": "e3fae93a-3b1d-4336-fbfe-fe88472f2ce0"
   },
   "outputs": [],
   "source": [
    "!sudo apt-get install libopencv-dev python-opencv\n",
    "!sudo apt-get install libopenblas-dev\n",
    "!sudo apt-get install libatlas-base-dev\n",
    "!sudo apt-get install libboost-all-dev\n",
    "!sudo pip install protobuf\n",
    "!sudo apt-get install libprotobuf-dev libleveldb-dev libsnappy-dev libopencv-dev libhdf5-serial-dev protobuf-compiler \n",
    "!sudo apt-get install the python-dev \n",
    "!sudo apt-get install libgflags-dev libgoogle-glog-dev liblmdb-dev "
   ]
  },
  {
   "cell_type": "code",
   "execution_count": null,
   "metadata": {
    "colab": {
     "base_uri": "https://localhost:8080/",
     "height": 299
    },
    "colab_type": "code",
    "id": "B-Bm9ch81cl-",
    "outputId": "952c609b-0dd4-4e97-83e0-7ff426d6007b"
   },
   "outputs": [],
   "source": [
    "!cd bottom-up-attention/caffe/ && make -j8 && make pycaffe"
   ]
  },
  {
   "cell_type": "code",
   "execution_count": null,
   "metadata": {
    "colab": {
     "base_uri": "https://localhost:8080/",
     "height": 860
    },
    "colab_type": "code",
    "id": "cH1n1UgO1J9R",
    "outputId": "c235ab4f-84f5-4999-85d9-591cf8659f50"
   },
   "outputs": [],
   "source": [
    "!cd /content/bottom-up-attention/lib && make"
   ]
  },
  {
   "cell_type": "code",
   "execution_count": null,
   "metadata": {
    "colab": {
     "base_uri": "https://localhost:8080/",
     "height": 1000
    },
    "colab_type": "code",
    "id": "eGLnEYV91YB_",
    "outputId": "e7a75db6-ed58-425c-d33d-d93e3b1ff6b5"
   },
   "outputs": [],
   "source": [
    "!cd bottom-up-attention/caffe/ && make all"
   ]
  },
  {
   "cell_type": "code",
   "execution_count": null,
   "metadata": {
    "colab": {
     "base_uri": "https://localhost:8080/",
     "height": 1000
    },
    "colab_type": "code",
    "id": "SRFpRUfY1jzE",
    "outputId": "1b88afdd-df4b-4788-9e7c-164c556ec26b"
   },
   "outputs": [],
   "source": [
    "!cd /content/lxmert/data/nlvr2_imgfeat && CUDA_VISIBLE_DEVICES=0 python extract_nlvr2_image.py --split test --out \"/content/drive/My Drive/same_shape_out\" --imgroot \"/content/drive/My Drive/\""
   ]
  },
  {
   "cell_type": "code",
   "execution_count": null,
   "metadata": {
    "colab": {
     "base_uri": "https://localhost:8080/",
     "height": 1000
    },
    "colab_type": "code",
    "id": "Q3fgNM3P1qI9",
    "outputId": "66d63827-bd67-42f8-b659-2e3945c3ba7b"
   },
   "outputs": [],
   "source": [
    "!cd /content/lxmert/data/nlvr2_imgfeat && CUDA_VISIBLE_DEVICES=0 python extract_nlvr2_image.py --split train --out \"/content/drive/My Drive/same_shape_out/\" --imgroot \"/content/drive/My Drive/\""
   ]
  },
  {
   "cell_type": "code",
   "execution_count": null,
   "metadata": {
    "colab": {
     "base_uri": "https://localhost:8080/",
     "height": 1000
    },
    "colab_type": "code",
    "id": "nb3XDHaT3dwI",
    "outputId": "67da9979-f381-41ed-c6d7-7697478d0332"
   },
   "outputs": [],
   "source": [
    "!cd /content/lxmert/data/nlvr2_imgfeat && CUDA_VISIBLE_DEVICES=0 python extract_nlvr2_image.py --split valid --out \"/content/drive/My Drive/same_shape_out/\" --imgroot \"/content/drive/My Drive/\""
   ]
  },
  {
   "cell_type": "code",
   "execution_count": null,
   "metadata": {
    "colab": {
     "base_uri": "https://localhost:8080/",
     "height": 1000
    },
    "colab_type": "code",
    "id": "QHjkVOvY2xe-",
    "outputId": "0013bfbd-5aeb-4a67-eb7d-2c9d83339484"
   },
   "outputs": [],
   "source": [
    "!cd \"drive/My Drive/3POS1\" && unzip dev.zip"
   ]
  },
  {
   "cell_type": "code",
   "execution_count": null,
   "metadata": {
    "colab": {
     "base_uri": "https://localhost:8080/",
     "height": 1000
    },
    "colab_type": "code",
    "id": "k3ztZDHhMhN1",
    "outputId": "63db693b-97ba-4d20-c673-caf6da6ffe3c"
   },
   "outputs": [],
   "source": [
    "!cd /content/lxmert/data/nlvr2_imgfeat && CUDA_VISIBLE_DEVICES=0 python extract_nlvr2_image.py --split test --out \"\" --imgroot \"/content/drive/My Drive/same_shape_diff_color_upd\""
   ]
  },
  {
   "cell_type": "code",
   "execution_count": null,
   "metadata": {
    "colab": {
     "base_uri": "https://localhost:8080/",
     "height": 1000
    },
    "colab_type": "code",
    "id": "-8apm_8UNG2U",
    "outputId": "e34bf0e3-4d4a-494f-9310-855362235fae"
   },
   "outputs": [],
   "source": [
    "!cd /content/lxmert/data/nlvr2_imgfeat && CUDA_VISIBLE_DEVICES=0 python extract_nlvr2_image.py --split valid --out \"\" --imgroot \"/content/drive/My Drive/same_shape_diff_color_upd\""
   ]
  },
  {
   "cell_type": "code",
   "execution_count": null,
   "metadata": {
    "colab": {
     "base_uri": "https://localhost:8080/",
     "height": 1000
    },
    "colab_type": "code",
    "id": "btrjvRoSNMbd",
    "outputId": "ae8acc69-6e42-4e94-d2ab-c88ca5c33e29"
   },
   "outputs": [],
   "source": [
    "!cd /content/lxmert/data/nlvr2_imgfeat && CUDA_VISIBLE_DEVICES=0 python extract_nlvr2_image.py --split train --out \"\" --imgroot \"/content/drive/My Drive/same_shape_diff_color_upd/\""
   ]
  }
 ],
 "metadata": {
  "accelerator": "GPU",
  "colab": {
   "collapsed_sections": [],
   "machine_shape": "hm",
   "name": "lxmert_visual_features_extraction_python2.ipynb",
   "provenance": []
  },
  "kernelspec": {
   "display_name": "Python 3",
   "language": "python",
   "name": "python3"
  },
  "language_info": {
   "codemirror_mode": {
    "name": "ipython",
    "version": 3
   },
   "file_extension": ".py",
   "mimetype": "text/x-python",
   "name": "python",
   "nbconvert_exporter": "python",
   "pygments_lexer": "ipython3",
   "version": "3.8.5"
  }
 },
 "nbformat": 4,
 "nbformat_minor": 1
}
