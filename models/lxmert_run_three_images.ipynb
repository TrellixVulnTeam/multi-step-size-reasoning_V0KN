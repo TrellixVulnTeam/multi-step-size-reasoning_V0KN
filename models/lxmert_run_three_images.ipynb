{
 "cells": [
  {
   "cell_type": "code",
   "execution_count": null,
   "metadata": {
    "colab": {
     "base_uri": "https://localhost:8080/",
     "height": 36
    },
    "colab_type": "code",
    "executionInfo": {
     "elapsed": 2437,
     "status": "ok",
     "timestamp": 1596048088736,
     "user": {
      "displayName": "yulya sot",
      "photoUrl": "https://lh6.googleusercontent.com/-ly9qpHtKZbM/AAAAAAAAAAI/AAAAAAAAAHs/3g5vNREGJNw/s64/photo.jpg",
      "userId": "08271027061435931011"
     },
     "user_tz": -120
    },
    "id": "ilD_K9mhC3T8",
    "outputId": "b45e9bb6-f845-460d-fbd2-b89eae161324"
   },
   "outputs": [],
   "source": [
    "!python --version"
   ]
  },
  {
   "cell_type": "code",
   "execution_count": null,
   "metadata": {
    "colab": {
     "base_uri": "https://localhost:8080/",
     "height": 279
    },
    "colab_type": "code",
    "executionInfo": {
     "elapsed": 7059,
     "status": "ok",
     "timestamp": 1596048093384,
     "user": {
      "displayName": "yulya sot",
      "photoUrl": "https://lh6.googleusercontent.com/-ly9qpHtKZbM/AAAAAAAAAAI/AAAAAAAAAHs/3g5vNREGJNw/s64/photo.jpg",
      "userId": "08271027061435931011"
     },
     "user_tz": -120
    },
    "id": "MbkgVx-2DEGb",
    "outputId": "adfcc526-de91-4b93-ce26-c932e6adef75"
   },
   "outputs": [],
   "source": [
    "!git clone https://github.com/peteanderson80/bottom-up-attention/\n",
    "!git clone https://github.com/airsplay/lxmert.git"
   ]
  },
  {
   "cell_type": "markdown",
   "metadata": {
    "colab_type": "text",
    "id": "es5T7jdjDMfJ"
   },
   "source": [
    "*Download pretrained LXMERT*"
   ]
  },
  {
   "cell_type": "code",
   "execution_count": null,
   "metadata": {
    "colab": {
     "base_uri": "https://localhost:8080/",
     "height": 260
    },
    "colab_type": "code",
    "executionInfo": {
     "elapsed": 22241,
     "status": "ok",
     "timestamp": 1595931788672,
     "user": {
      "displayName": "yulya sot",
      "photoUrl": "https://lh6.googleusercontent.com/-ly9qpHtKZbM/AAAAAAAAAAI/AAAAAAAAAHs/3g5vNREGJNw/s64/photo.jpg",
      "userId": "08271027061435931011"
     },
     "user_tz": -120
    },
    "id": "TD2KjGl6DFri",
    "outputId": "ec564160-177a-48b5-f21d-d99e12a7f75b"
   },
   "outputs": [],
   "source": [
    "!cd lxmert/ && wget --no-check-certificate https://nlp1.cs.unc.edu/data/model_LXRT.pth -P snap/pretrained"
   ]
  },
  {
   "cell_type": "markdown",
   "metadata": {
    "colab_type": "text",
    "id": "96AGNtlLDP9-"
   },
   "source": [
    "*Download extracted visual features from Drive: 3 images*"
   ]
  },
  {
   "cell_type": "code",
   "execution_count": null,
   "metadata": {
    "colab": {
     "base_uri": "https://localhost:8080/",
     "height": 92
    },
    "colab_type": "code",
    "executionInfo": {
     "elapsed": 867403,
     "status": "ok",
     "timestamp": 1596048953768,
     "user": {
      "displayName": "yulya sot",
      "photoUrl": "https://lh6.googleusercontent.com/-ly9qpHtKZbM/AAAAAAAAAAI/AAAAAAAAAHs/3g5vNREGJNw/s64/photo.jpg",
      "userId": "08271027061435931011"
     },
     "user_tz": -120
    },
    "id": "QkTS-bPFDPgL",
    "outputId": "a60d26fb-9b11-427d-8f78-c20a0c38039a"
   },
   "outputs": [],
   "source": [
    "!cd /content/lxmert/data/nlvr2_imgfeat/ && gdown \"https://drive.google.com/uc?id=1-31FG6p1meZhDObKMXWweQ1KKr6kf8UN\""
   ]
  },
  {
   "cell_type": "code",
   "execution_count": null,
   "metadata": {
    "colab": {
     "base_uri": "https://localhost:8080/",
     "height": 92
    },
    "colab_type": "code",
    "executionInfo": {
     "elapsed": 929176,
     "status": "ok",
     "timestamp": 1596049015554,
     "user": {
      "displayName": "yulya sot",
      "photoUrl": "https://lh6.googleusercontent.com/-ly9qpHtKZbM/AAAAAAAAAAI/AAAAAAAAAHs/3g5vNREGJNw/s64/photo.jpg",
      "userId": "08271027061435931011"
     },
     "user_tz": -120
    },
    "id": "oObbINeWDbVW",
    "outputId": "464b6edb-cee9-405c-ec07-d4e0db0a807d"
   },
   "outputs": [],
   "source": [
    "!cd /content/lxmert/data/nlvr2_imgfeat/ && gdown --id 1-3hGe1x2MqXNun34z9jShzPP-3biWLJw"
   ]
  },
  {
   "cell_type": "code",
   "execution_count": null,
   "metadata": {
    "colab": {
     "base_uri": "https://localhost:8080/",
     "height": 92
    },
    "colab_type": "code",
    "executionInfo": {
     "elapsed": 821648,
     "status": "ok",
     "timestamp": 1596048907998,
     "user": {
      "displayName": "yulya sot",
      "photoUrl": "https://lh6.googleusercontent.com/-ly9qpHtKZbM/AAAAAAAAAAI/AAAAAAAAAHs/3g5vNREGJNw/s64/photo.jpg",
      "userId": "08271027061435931011"
     },
     "user_tz": -120
    },
    "id": "nQqQ_y0SDdIy",
    "outputId": "78f8c0e3-6d3a-4026-eea9-bd82665b406b"
   },
   "outputs": [],
   "source": [
    "!cd /content/lxmert/data/nlvr2_imgfeat/ && gdown --id 1-CEgmEoqTG_0eitL08FWm7nbl-AR_pe4"
   ]
  },
  {
   "cell_type": "code",
   "execution_count": null,
   "metadata": {
    "colab": {},
    "colab_type": "code",
    "id": "9vZio9zPDeyt"
   },
   "outputs": [],
   "source": [
    "!cd \"/content/drive/My Drive/out_correct_order/\" && gzip train_obj36.tsv"
   ]
  },
  {
   "cell_type": "code",
   "execution_count": null,
   "metadata": {
    "colab": {},
    "colab_type": "code",
    "id": "MZUYEbFmwom7"
   },
   "outputs": [],
   "source": [
    "!rm -r sample_data/"
   ]
  },
  {
   "cell_type": "code",
   "execution_count": null,
   "metadata": {
    "colab": {
     "base_uri": "https://localhost:8080/",
     "height": 36
    },
    "colab_type": "code",
    "executionInfo": {
     "elapsed": 2060,
     "status": "ok",
     "timestamp": 1593774149657,
     "user": {
      "displayName": "yulya sot",
      "photoUrl": "https://lh6.googleusercontent.com/-ly9qpHtKZbM/AAAAAAAAAAI/AAAAAAAAAHs/3g5vNREGJNw/s64/photo.jpg",
      "userId": "08271027061435931011"
     },
     "user_tz": -120
    },
    "id": "BBY9V3QIsmTg",
    "outputId": "7ebf3108-10ec-44dc-a360-66382026af65"
   },
   "outputs": [],
   "source": [
    "!rm /root/.cache/gdown/cookies.json"
   ]
  },
  {
   "cell_type": "markdown",
   "metadata": {
    "colab_type": "text",
    "id": "FXlyZvv59-9q"
   },
   "source": [
    "1 question per scene, ''exactly 1''"
   ]
  },
  {
   "cell_type": "code",
   "execution_count": null,
   "metadata": {
    "colab": {
     "base_uri": "https://localhost:8080/",
     "height": 1000
    },
    "colab_type": "code",
    "executionInfo": {
     "elapsed": 6654959,
     "status": "ok",
     "timestamp": 1594407332007,
     "user": {
      "displayName": "yulya sot",
      "photoUrl": "https://lh6.googleusercontent.com/-ly9qpHtKZbM/AAAAAAAAAAI/AAAAAAAAAHs/3g5vNREGJNw/s64/photo.jpg",
      "userId": "08271027061435931011"
     },
     "user_tz": -120
    },
    "id": "ZouMD4ZMDiQc",
    "outputId": "5287ffc0-5c31-479f-bf74-fa75867d7e1e"
   },
   "outputs": [],
   "source": [
    "!cd lxmert/ && bash run/nlvr2_finetune.bash 0 nlvr2_lxr955 --epochs 150 --lr 1e-5\n",
    "!cd lxmert/ && bash run/nlvr2_test.bash 0 nlvr2_lxr955_results --load snap/nlvr2/nlvr2_lxr955/BEST --test test --batchSize 1024"
   ]
  },
  {
   "cell_type": "code",
   "execution_count": null,
   "metadata": {
    "colab": {
     "base_uri": "https://localhost:8080/",
     "height": 1000
    },
    "colab_type": "code",
    "executionInfo": {
     "elapsed": 12761529,
     "status": "ok",
     "timestamp": 1592785859672,
     "user": {
      "displayName": "yulya sot",
      "photoUrl": "https://lh6.googleusercontent.com/-ly9qpHtKZbM/AAAAAAAAAAI/AAAAAAAAAHs/3g5vNREGJNw/s64/photo.jpg",
      "userId": "08271027061435931011"
     },
     "user_tz": -120
    },
    "id": "RzY6YhFDSiL0",
    "outputId": "0dd86e3d-f2fe-491e-cce6-8834217592d5"
   },
   "outputs": [],
   "source": [
    "!cd lxmert/ && bash run/nlvr2_finetune.bash 0 nlvr2_lxr955 --epochs 150 --lr 1e-5 --seed 12321\n",
    "!cd lxmert/ && bash run/nlvr2_test.bash 0 nlvr2_lxr955_results --load snap/nlvr2/nlvr2_lxr955/BEST --test test --batchSize 1024"
   ]
  },
  {
   "cell_type": "code",
   "execution_count": null,
   "metadata": {
    "colab": {
     "base_uri": "https://localhost:8080/",
     "height": 1000
    },
    "colab_type": "code",
    "executionInfo": {
     "elapsed": 19136385,
     "status": "ok",
     "timestamp": 1592792235284,
     "user": {
      "displayName": "yulya sot",
      "photoUrl": "https://lh6.googleusercontent.com/-ly9qpHtKZbM/AAAAAAAAAAI/AAAAAAAAAHs/3g5vNREGJNw/s64/photo.jpg",
      "userId": "08271027061435931011"
     },
     "user_tz": -120
    },
    "id": "-fAx_nEtS1MU",
    "outputId": "e0764d0d-8d8b-460b-a977-f28f37c5cca8"
   },
   "outputs": [],
   "source": [
    "!cd lxmert/ && bash run/nlvr2_finetune.bash 0 nlvr2_lxr955 --epochs 150 --lr 1e-5 --seed 1234\n",
    "!cd lxmert/ && bash run/nlvr2_test.bash 0 nlvr2_lxr955_results --load snap/nlvr2/nlvr2_lxr955/BEST --test test --batchSize 1024"
   ]
  },
  {
   "cell_type": "code",
   "execution_count": null,
   "metadata": {
    "colab": {
     "base_uri": "https://localhost:8080/",
     "height": 1000
    },
    "colab_type": "code",
    "executionInfo": {
     "elapsed": 25505925,
     "status": "ok",
     "timestamp": 1592798605350,
     "user": {
      "displayName": "yulya sot",
      "photoUrl": "https://lh6.googleusercontent.com/-ly9qpHtKZbM/AAAAAAAAAAI/AAAAAAAAAHs/3g5vNREGJNw/s64/photo.jpg",
      "userId": "08271027061435931011"
     },
     "user_tz": -120
    },
    "id": "5e-sxYszS4PN",
    "outputId": "dbd3826b-e189-4d9c-dd39-ef60f16a5d59"
   },
   "outputs": [],
   "source": [
    "!cd lxmert/ && bash run/nlvr2_finetune.bash 0 nlvr2_lxr955 --epochs 150 --lr 1e-5 --seed 42\n",
    "!cd lxmert/ && bash run/nlvr2_test.bash 0 nlvr2_lxr955_results --load snap/nlvr2/nlvr2_lxr955/BEST --test test --batchSize 1024"
   ]
  },
  {
   "cell_type": "code",
   "execution_count": null,
   "metadata": {
    "colab": {
     "base_uri": "https://localhost:8080/",
     "height": 1000
    },
    "colab_type": "code",
    "executionInfo": {
     "elapsed": 31944615,
     "status": "ok",
     "timestamp": 1592805044572,
     "user": {
      "displayName": "yulya sot",
      "photoUrl": "https://lh6.googleusercontent.com/-ly9qpHtKZbM/AAAAAAAAAAI/AAAAAAAAAHs/3g5vNREGJNw/s64/photo.jpg",
      "userId": "08271027061435931011"
     },
     "user_tz": -120
    },
    "id": "YZDctLuZS7v0",
    "outputId": "0a957259-6643-409f-e701-f4f1e8ec0be5"
   },
   "outputs": [],
   "source": [
    "!cd lxmert/ && bash run/nlvr2_finetune.bash 0 nlvr2_lxr955 --epochs 150 --lr 1e-5 --seed 2\n",
    "!cd lxmert/ && bash run/nlvr2_test.bash 0 nlvr2_lxr955_results --load snap/nlvr2/nlvr2_lxr955/BEST --test test --batchSize 1024"
   ]
  },
  {
   "cell_type": "markdown",
   "metadata": {
    "colab_type": "text",
    "id": "vARj4_TH-172"
   },
   "source": [
    "1 question per scene, ''exactly 2''"
   ]
  },
  {
   "cell_type": "code",
   "execution_count": null,
   "metadata": {
    "colab": {
     "base_uri": "https://localhost:8080/",
     "height": 1000
    },
    "colab_type": "code",
    "executionInfo": {
     "elapsed": 6464349,
     "status": "ok",
     "timestamp": 1594475756466,
     "user": {
      "displayName": "yulya sot",
      "photoUrl": "https://lh6.googleusercontent.com/-ly9qpHtKZbM/AAAAAAAAAAI/AAAAAAAAAHs/3g5vNREGJNw/s64/photo.jpg",
      "userId": "08271027061435931011"
     },
     "user_tz": -120
    },
    "id": "YV3SQ7zYUVJl",
    "outputId": "bad07282-178a-4b3e-f9cf-24378f01925f"
   },
   "outputs": [],
   "source": [
    "!cd lxmert/ && bash run/nlvr2_finetune.bash 0 nlvr2_lxr955 --epochs 150 --lr 1e-5\n",
    "!cd lxmert/ && bash run/nlvr2_test.bash 0 nlvr2_lxr955_results --load snap/nlvr2/nlvr2_lxr955/BEST --test test --batchSize 1024"
   ]
  },
  {
   "cell_type": "code",
   "execution_count": null,
   "metadata": {
    "colab": {
     "base_uri": "https://localhost:8080/",
     "height": 1000
    },
    "colab_type": "code",
    "executionInfo": {
     "elapsed": 6420966,
     "status": "ok",
     "timestamp": 1592824747135,
     "user": {
      "displayName": "yulya sot",
      "photoUrl": "https://lh6.googleusercontent.com/-ly9qpHtKZbM/AAAAAAAAAAI/AAAAAAAAAHs/3g5vNREGJNw/s64/photo.jpg",
      "userId": "08271027061435931011"
     },
     "user_tz": -120
    },
    "id": "dG9wqSu0_L20",
    "outputId": "c878aea6-a6ae-4d0b-e04a-89986530afb3"
   },
   "outputs": [],
   "source": [
    "!cd lxmert/ && bash run/nlvr2_finetune.bash 0 nlvr2_lxr955 --epochs 150 --lr 1e-5 --seed 12321\n",
    "!cd lxmert/ && bash run/nlvr2_test.bash 0 nlvr2_lxr955_results --load snap/nlvr2/nlvr2_lxr955/BEST --test test --batchSize 1024"
   ]
  },
  {
   "cell_type": "code",
   "execution_count": null,
   "metadata": {
    "colab": {
     "base_uri": "https://localhost:8080/",
     "height": 1000
    },
    "colab_type": "code",
    "executionInfo": {
     "elapsed": 12832472,
     "status": "ok",
     "timestamp": 1592831158652,
     "user": {
      "displayName": "yulya sot",
      "photoUrl": "https://lh6.googleusercontent.com/-ly9qpHtKZbM/AAAAAAAAAAI/AAAAAAAAAHs/3g5vNREGJNw/s64/photo.jpg",
      "userId": "08271027061435931011"
     },
     "user_tz": -120
    },
    "id": "hhDoa6ul_Qm8",
    "outputId": "a81c02c9-e0de-4852-c910-06d7bef27385"
   },
   "outputs": [],
   "source": [
    "!cd lxmert/ && bash run/nlvr2_finetune.bash 0 nlvr2_lxr955 --epochs 150 --lr 1e-5 --seed 1234\n",
    "!cd lxmert/ && bash run/nlvr2_test.bash 0 nlvr2_lxr955_results --load snap/nlvr2/nlvr2_lxr955/BEST --test test --batchSize 1024"
   ]
  },
  {
   "cell_type": "code",
   "execution_count": null,
   "metadata": {
    "colab": {
     "base_uri": "https://localhost:8080/",
     "height": 1000
    },
    "colab_type": "code",
    "executionInfo": {
     "elapsed": 6756289,
     "status": "ok",
     "timestamp": 1592853033235,
     "user": {
      "displayName": "yulya sot",
      "photoUrl": "https://lh6.googleusercontent.com/-ly9qpHtKZbM/AAAAAAAAAAI/AAAAAAAAAHs/3g5vNREGJNw/s64/photo.jpg",
      "userId": "08271027061435931011"
     },
     "user_tz": -120
    },
    "id": "tZJVaJkm_WAf",
    "outputId": "79e13abd-3887-4ee7-ca27-46396d4a8569"
   },
   "outputs": [],
   "source": [
    "!cd lxmert/ && bash run/nlvr2_finetune.bash 0 nlvr2_lxr955 --epochs 150 --lr 1e-5 --seed 42\n",
    "!cd lxmert/ && bash run/nlvr2_test.bash 0 nlvr2_lxr955_results --load snap/nlvr2/nlvr2_lxr955/BEST --test test --batchSize 1024"
   ]
  },
  {
   "cell_type": "code",
   "execution_count": null,
   "metadata": {
    "colab": {
     "base_uri": "https://localhost:8080/",
     "height": 1000
    },
    "colab_type": "code",
    "executionInfo": {
     "elapsed": 6726235,
     "status": "ok",
     "timestamp": 1592861663994,
     "user": {
      "displayName": "yulya sot",
      "photoUrl": "https://lh6.googleusercontent.com/-ly9qpHtKZbM/AAAAAAAAAAI/AAAAAAAAAHs/3g5vNREGJNw/s64/photo.jpg",
      "userId": "08271027061435931011"
     },
     "user_tz": -120
    },
    "id": "l60PlIVo_YXO",
    "outputId": "2c47a246-662d-4261-fcb2-1e9f041db0fc"
   },
   "outputs": [],
   "source": [
    "!cd lxmert/ && bash run/nlvr2_finetune.bash 0 nlvr2_lxr955 --epochs 150 --lr 1e-5 --seed 2\n",
    "!cd lxmert/ && bash run/nlvr2_test.bash 0 nlvr2_lxr955_results --load snap/nlvr2/nlvr2_lxr955/BEST --test test --batchSize 1024"
   ]
  },
  {
   "cell_type": "markdown",
   "metadata": {
    "colab_type": "text",
    "id": "w-Ba_umuDEnv"
   },
   "source": [
    "1 question per scene, exactly 1 + exactly 2"
   ]
  },
  {
   "cell_type": "code",
   "execution_count": null,
   "metadata": {
    "colab": {
     "base_uri": "https://localhost:8080/",
     "height": 1000
    },
    "colab_type": "code",
    "executionInfo": {
     "elapsed": 7446829,
     "status": "ok",
     "timestamp": 1592938988251,
     "user": {
      "displayName": "yulya sot",
      "photoUrl": "https://lh6.googleusercontent.com/-ly9qpHtKZbM/AAAAAAAAAAI/AAAAAAAAAHs/3g5vNREGJNw/s64/photo.jpg",
      "userId": "08271027061435931011"
     },
     "user_tz": -120
    },
    "id": "Mqq6GGa__aAU",
    "outputId": "87fd827a-526b-42fb-bb29-d6b961c5eb65"
   },
   "outputs": [],
   "source": [
    "!cd lxmert/ && bash run/nlvr2_finetune.bash 0 nlvr2_lxr955 --epochs 150 --lr 1e-5\n",
    "!cd lxmert/ && bash run/nlvr2_test.bash 0 nlvr2_lxr955_results --load snap/nlvr2/nlvr2_lxr955/BEST --test test --batchSize 1024"
   ]
  },
  {
   "cell_type": "code",
   "execution_count": null,
   "metadata": {
    "colab": {
     "base_uri": "https://localhost:8080/",
     "height": 1000
    },
    "colab_type": "code",
    "executionInfo": {
     "elapsed": 10004730,
     "status": "ok",
     "timestamp": 1592946472902,
     "user": {
      "displayName": "yulya sot",
      "photoUrl": "https://lh6.googleusercontent.com/-ly9qpHtKZbM/AAAAAAAAAAI/AAAAAAAAAHs/3g5vNREGJNw/s64/photo.jpg",
      "userId": "08271027061435931011"
     },
     "user_tz": -120
    },
    "id": "I_mQEqbjDIXM",
    "outputId": "0b13f1e5-1475-4ca9-ab5b-c6c7f6e17c08"
   },
   "outputs": [],
   "source": [
    "!cd lxmert/ && bash run/nlvr2_finetune.bash 0 nlvr2_lxr955 --epochs 150 --lr 1e-5 --seed 12321\n",
    "!cd lxmert/ && bash run/nlvr2_test.bash 0 nlvr2_lxr955_results --load snap/nlvr2/nlvr2_lxr955/BEST --test test --batchSize 1024"
   ]
  },
  {
   "cell_type": "code",
   "execution_count": null,
   "metadata": {
    "colab": {
     "base_uri": "https://localhost:8080/",
     "height": 1000
    },
    "colab_type": "code",
    "executionInfo": {
     "elapsed": 2658496,
     "status": "ok",
     "timestamp": 1592952748550,
     "user": {
      "displayName": "yulya sot",
      "photoUrl": "https://lh6.googleusercontent.com/-ly9qpHtKZbM/AAAAAAAAAAI/AAAAAAAAAHs/3g5vNREGJNw/s64/photo.jpg",
      "userId": "08271027061435931011"
     },
     "user_tz": -120
    },
    "id": "U0-zClurDSrJ",
    "outputId": "211c65fb-ff44-4e2d-8920-e7030430d876"
   },
   "outputs": [],
   "source": [
    "!cd lxmert/ && bash run/nlvr2_finetune.bash 0 nlvr2_lxr955 --epochs 150 --lr 1e-5 --seed 1234\n",
    "!cd lxmert/ && bash run/nlvr2_test.bash 0 nlvr2_lxr955_results --load snap/nlvr2/nlvr2_lxr955/BEST --test test --batchSize 1024"
   ]
  },
  {
   "cell_type": "code",
   "execution_count": null,
   "metadata": {
    "colab": {
     "base_uri": "https://localhost:8080/",
     "height": 1000
    },
    "colab_type": "code",
    "executionInfo": {
     "elapsed": 6264055,
     "status": "ok",
     "timestamp": 1592959012586,
     "user": {
      "displayName": "yulya sot",
      "photoUrl": "https://lh6.googleusercontent.com/-ly9qpHtKZbM/AAAAAAAAAAI/AAAAAAAAAHs/3g5vNREGJNw/s64/photo.jpg",
      "userId": "08271027061435931011"
     },
     "user_tz": -120
    },
    "id": "62mdUdDYDWR9",
    "outputId": "cc4d30fb-e651-4a2b-c4a9-affd5573f401"
   },
   "outputs": [],
   "source": [
    "!cd lxmert/ && bash run/nlvr2_finetune.bash 0 nlvr2_lxr955 --epochs 150 --lr 1e-5 --seed 42\n",
    "!cd lxmert/ && bash run/nlvr2_test.bash 0 nlvr2_lxr955_results --load snap/nlvr2/nlvr2_lxr955/BEST --test test --batchSize 1024"
   ]
  },
  {
   "cell_type": "code",
   "execution_count": null,
   "metadata": {
    "colab": {
     "base_uri": "https://localhost:8080/",
     "height": 1000
    },
    "colab_type": "code",
    "executionInfo": {
     "elapsed": 6264644,
     "status": "ok",
     "timestamp": 1592965277206,
     "user": {
      "displayName": "yulya sot",
      "photoUrl": "https://lh6.googleusercontent.com/-ly9qpHtKZbM/AAAAAAAAAAI/AAAAAAAAAHs/3g5vNREGJNw/s64/photo.jpg",
      "userId": "08271027061435931011"
     },
     "user_tz": -120
    },
    "id": "C8pgzbpTDYgf",
    "outputId": "ea9f5312-bc1a-4c18-ddd7-5f921e6ee1c3"
   },
   "outputs": [],
   "source": [
    "!cd lxmert/ && bash run/nlvr2_finetune.bash 0 nlvr2_lxr955 --epochs 150 --lr 1e-5 --seed 2\n",
    "!cd lxmert/ && bash run/nlvr2_test.bash 0 nlvr2_lxr955_results --load snap/nlvr2/nlvr2_lxr955/BEST --test test --batchSize 1024"
   ]
  },
  {
   "cell_type": "markdown",
   "metadata": {
    "colab_type": "text",
    "id": "zzf_VTnHiPcZ"
   },
   "source": [
    "Run to get a fine-tuned model on exactly 1+2"
   ]
  },
  {
   "cell_type": "code",
   "execution_count": null,
   "metadata": {
    "colab": {
     "base_uri": "https://localhost:8080/",
     "height": 1000
    },
    "colab_type": "code",
    "executionInfo": {
     "elapsed": 5773927,
     "status": "ok",
     "timestamp": 1593012424575,
     "user": {
      "displayName": "yulya sot",
      "photoUrl": "https://lh6.googleusercontent.com/-ly9qpHtKZbM/AAAAAAAAAAI/AAAAAAAAAHs/3g5vNREGJNw/s64/photo.jpg",
      "userId": "08271027061435931011"
     },
     "user_tz": -120
    },
    "id": "pHWJcPnHaZJ2",
    "outputId": "23efd79d-e9ee-46d8-8eba-cf072f04ecff"
   },
   "outputs": [],
   "source": [
    "!cd lxmert/ && bash run/nlvr2_finetune.bash 0 nlvr2_lxr955 --epochs 150 --lr 1e-5\n",
    "!cd lxmert/ && bash run/nlvr2_test.bash 0 nlvr2_lxr955_results --load snap/nlvr2/nlvr2_lxr955/BEST --test test --batchSize 1024"
   ]
  },
  {
   "cell_type": "code",
   "execution_count": null,
   "metadata": {
    "colab": {
     "base_uri": "https://localhost:8080/",
     "height": 372
    },
    "colab_type": "code",
    "executionInfo": {
     "elapsed": 132932,
     "status": "ok",
     "timestamp": 1593012673422,
     "user": {
      "displayName": "yulya sot",
      "photoUrl": "https://lh6.googleusercontent.com/-ly9qpHtKZbM/AAAAAAAAAAI/AAAAAAAAAHs/3g5vNREGJNw/s64/photo.jpg",
      "userId": "08271027061435931011"
     },
     "user_tz": -120
    },
    "id": "IWDRQUzmlWTb",
    "outputId": "91ba2109-9f00-4362-892e-0454436ecb9f"
   },
   "outputs": [],
   "source": [
    "!cd lxmert/ && bash run/nlvr2_test.bash 0 nlvr2_lxr955_results --load /content/drive/My Drive/BEST.pth --test test --batchSize 1024"
   ]
  },
  {
   "cell_type": "code",
   "execution_count": null,
   "metadata": {
    "colab": {},
    "colab_type": "code",
    "id": "mNGQhJ5gVlrp"
   },
   "outputs": [],
   "source": [
    "!cd lxmert/ && bash run/nlvr2_test.bash 0 nlvr2_lxr955_results --load drive/My Drive/BEST.pth --test test --batchSize 1024"
   ]
  },
  {
   "cell_type": "markdown",
   "metadata": {
    "colab_type": "text",
    "id": "EWRVf62dYlNm"
   },
   "source": [
    "Generate csv with attention features"
   ]
  },
  {
   "cell_type": "code",
   "execution_count": null,
   "metadata": {
    "colab": {},
    "colab_type": "code",
    "id": "34GkM3K_YpOw"
   },
   "outputs": [],
   "source": [
    "!cp /content/drive/My\\ Drive/BEST.pth /content/lxmert/snap/nlvr2/nlvr2_lxr955 "
   ]
  },
  {
   "cell_type": "code",
   "execution_count": null,
   "metadata": {
    "colab": {
     "base_uri": "https://localhost:8080/",
     "height": 372
    },
    "colab_type": "code",
    "executionInfo": {
     "elapsed": 75654,
     "status": "ok",
     "timestamp": 1593028438364,
     "user": {
      "displayName": "yulya sot",
      "photoUrl": "https://lh6.googleusercontent.com/-ly9qpHtKZbM/AAAAAAAAAAI/AAAAAAAAAHs/3g5vNREGJNw/s64/photo.jpg",
      "userId": "08271027061435931011"
     },
     "user_tz": -120
    },
    "id": "kc5zc8QYdEHW",
    "outputId": "b2b715c7-28f9-4d5f-8427-4a4f5cf4ece2"
   },
   "outputs": [],
   "source": [
    "!cd lxmert/ && bash run/nlvr2_test.bash 0 nlvr2_lxr955_results --load snap/nlvr2/nlvr2_lxr955/BEST --test test --batchSize 32"
   ]
  },
  {
   "cell_type": "markdown",
   "metadata": {
    "colab_type": "text",
    "id": "xTSwGlGBlE14"
   },
   "source": [
    "Exactly both, with new images"
   ]
  },
  {
   "cell_type": "code",
   "execution_count": null,
   "metadata": {
    "colab": {
     "base_uri": "https://localhost:8080/",
     "height": 148
    },
    "colab_type": "code",
    "executionInfo": {
     "elapsed": 479934,
     "status": "ok",
     "timestamp": 1593774761935,
     "user": {
      "displayName": "yulya sot",
      "photoUrl": "https://lh6.googleusercontent.com/-ly9qpHtKZbM/AAAAAAAAAAI/AAAAAAAAAHs/3g5vNREGJNw/s64/photo.jpg",
      "userId": "08271027061435931011"
     },
     "user_tz": -120
    },
    "id": "z2MvXWCZumY6",
    "outputId": "50928858-00e5-4efd-d1be-03484803bee4"
   },
   "outputs": [],
   "source": [
    "!git clone https://github.com/peteanderson80/bottom-up-attention/"
   ]
  },
  {
   "cell_type": "code",
   "execution_count": null,
   "metadata": {
    "colab": {
     "base_uri": "https://localhost:8080/",
     "height": 1000
    },
    "colab_type": "code",
    "executionInfo": {
     "elapsed": 7301715,
     "status": "ok",
     "timestamp": 1595940679780,
     "user": {
      "displayName": "yulya sot",
      "photoUrl": "https://lh6.googleusercontent.com/-ly9qpHtKZbM/AAAAAAAAAAI/AAAAAAAAAHs/3g5vNREGJNw/s64/photo.jpg",
      "userId": "08271027061435931011"
     },
     "user_tz": -120
    },
    "id": "AoNiqDyt2f7y",
    "outputId": "f5913ea7-e1e4-4a74-e3ae-7bb84668cddf"
   },
   "outputs": [],
   "source": [
    "!cd lxmert/ && bash run/nlvr2_finetune.bash 0 nlvr2_lxr955 --epochs 150 --lr 1e-5\n",
    "!cd lxmert/ && bash run/nlvr2_test.bash 0 nlvr2_lxr955_results --load snap/nlvr2/nlvr2_lxr955/BEST --test test --batchSize 1024"
   ]
  },
  {
   "cell_type": "markdown",
   "metadata": {
    "colab_type": "text",
    "id": "crup6poy3fh-"
   },
   "source": [
    "Extract attention maps"
   ]
  },
  {
   "cell_type": "code",
   "execution_count": null,
   "metadata": {
    "colab": {
     "base_uri": "https://localhost:8080/",
     "height": 36
    },
    "colab_type": "code",
    "executionInfo": {
     "elapsed": 16134,
     "status": "ok",
     "timestamp": 1596050138082,
     "user": {
      "displayName": "yulya sot",
      "photoUrl": "https://lh6.googleusercontent.com/-ly9qpHtKZbM/AAAAAAAAAAI/AAAAAAAAAHs/3g5vNREGJNw/s64/photo.jpg",
      "userId": "08271027061435931011"
     },
     "user_tz": -120
    },
    "id": "O_f_L5013fIS",
    "outputId": "4ef4a8e3-de75-485e-c84b-fec63448846c"
   },
   "outputs": [],
   "source": [
    "!cd /content/lxmert/snap/ && mkdir nlvr2 && cd nlvr2 && mkdir nlvr2_lxr955 \n",
    "!cp \"/content/drive/My Drive/best_models/BEST_3img.pth\" \"/content/lxmert/snap/nlvr2/nlvr2_lxr955/BEST.pth\""
   ]
  },
  {
   "cell_type": "code",
   "execution_count": null,
   "metadata": {
    "colab": {
     "base_uri": "https://localhost:8080/",
     "height": 372
    },
    "colab_type": "code",
    "executionInfo": {
     "elapsed": 178490,
     "status": "ok",
     "timestamp": 1596050324489,
     "user": {
      "displayName": "yulya sot",
      "photoUrl": "https://lh6.googleusercontent.com/-ly9qpHtKZbM/AAAAAAAAAAI/AAAAAAAAAHs/3g5vNREGJNw/s64/photo.jpg",
      "userId": "08271027061435931011"
     },
     "user_tz": -120
    },
    "id": "1I_QePaNpatA",
    "outputId": "ddbfd02d-8a0b-4877-afe7-29808df6925b"
   },
   "outputs": [],
   "source": [
    "!cd lxmert/ && bash run/nlvr2_test.bash 0 nlvr2_lxr955_results --load snap/nlvr2/nlvr2_lxr955/BEST --test test --batchSize 250"
   ]
  },
  {
   "cell_type": "code",
   "execution_count": null,
   "metadata": {
    "colab": {},
    "colab_type": "code",
    "id": "K9tfO9BZ_d6X"
   },
   "outputs": [],
   "source": []
  }
 ],
 "metadata": {
  "accelerator": "GPU",
  "colab": {
   "authorship_tag": "ABX9TyOrrRR6R/cQibHNn8TUruXf",
   "collapsed_sections": [],
   "machine_shape": "hm",
   "mount_file_id": "1TDCG0aoQhvIw4G-IxISjPpjZxldbbRBQ",
   "name": "lxmert_run_three_images.ipynb",
   "provenance": []
  },
  "kernelspec": {
   "display_name": "Python 3",
   "language": "python",
   "name": "python3"
  },
  "language_info": {
   "codemirror_mode": {
    "name": "ipython",
    "version": 3
   },
   "file_extension": ".py",
   "mimetype": "text/x-python",
   "name": "python",
   "nbconvert_exporter": "python",
   "pygments_lexer": "ipython3",
   "version": "3.8.5"
  }
 },
 "nbformat": 4,
 "nbformat_minor": 1
}
