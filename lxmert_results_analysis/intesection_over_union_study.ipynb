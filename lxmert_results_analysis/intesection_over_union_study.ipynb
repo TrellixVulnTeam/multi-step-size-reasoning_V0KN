{
 "cells": [
  {
   "cell_type": "code",
   "execution_count": null,
   "metadata": {
    "colab": {},
    "colab_type": "code",
    "id": "VhiUqoU8AoK5"
   },
   "outputs": [],
   "source": [
    "import json\n",
    "import random"
   ]
  },
  {
   "cell_type": "markdown",
   "metadata": {
    "colab_type": "text",
    "id": "OOWGsomM8UJi"
   },
   "source": [
    "## Bboxes extraction"
   ]
  },
  {
   "cell_type": "code",
   "execution_count": null,
   "metadata": {
    "colab": {},
    "colab_type": "code",
    "id": "lJ2LVo4kCSFS"
   },
   "outputs": [],
   "source": [
    "iou_info = []\n",
    "\n",
    "with open('test_annotation.json') as f0: # annotations from POS1\n",
    "  annotation = json.load(f0)\n",
    "\n",
    "with open('test_questions.json') as f1: # questions from 3POS1\n",
    "  questions = json.load(f1)['questions']\n",
    "\n",
    "with open('test_annotation_bboxes_350.json') as f2:\n",
    "  annotation_bboxes = json.load(f2)\n",
    "\n",
    "for q in questions:\n",
    "\n",
    "  new_datum = {}\n",
    "\n",
    "  if q['question_index'] % 6 == 0:\n",
    "    new_datum['image_index'] = q['image_index']\n",
    "    new_datum['images_original'] = q['images']\n",
    "    new_datum['images_shuffled'] = q['images_shuffled']\n",
    "\n",
    "    q_tokens = q['question'].split()\n",
    "    new_datum['target'] = [q_tokens[4], q_tokens[5][:-1]]\n",
    "\n",
    "    target_bboxes = []\n",
    "    biggest_bboxes = []\n",
    "    smallest_bboxes = []\n",
    "\n",
    "    for img_filename in q['images_shuffled']:\n",
    "\n",
    "      biggest_bboxes_img = []\n",
    "      smallest_bboxes_img = []\n",
    "\n",
    "      img_id = img_filename.split('.')[0]\n",
    "\n",
    "      for obj in annotation_bboxes[img_id]:\n",
    "        if (obj['color'] == q_tokens[4] and obj['shape'] == q_tokens[5][:-1]):\n",
    "          target_bboxes.append(obj['bbox'])\n",
    "\n",
    "      max_area = annotation[img_id][0]['max_area']\n",
    "      min_area = annotation[img_id][0]['min_area']\n",
    "\n",
    "      for i, obj in enumerate(annotation[img_id][1]['objects']):\n",
    "        if obj['area'] == max_area:\n",
    "          biggest_bboxes_img.append(annotation_bboxes[img_id][i]['bbox'])\n",
    "        if obj['area'] == min_area:\n",
    "          smallest_bboxes_img.append(annotation_bboxes[img_id][i]['bbox'])\n",
    "      \n",
    "      biggest_bboxes.append(biggest_bboxes_img)\n",
    "      smallest_bboxes.append(smallest_bboxes_img)\n",
    "\n",
    "    new_datum['target_bboxes'] = target_bboxes\n",
    "    new_datum['biggest_bboxes'] = biggest_bboxes\n",
    "    new_datum['smallest_bboxes'] = smallest_bboxes\n",
    "\n",
    "    iou_info.append(new_datum)\n",
    "\n"
   ]
  },
  {
   "cell_type": "code",
   "execution_count": null,
   "metadata": {
    "colab": {
     "base_uri": "https://localhost:8080/",
     "height": 260
    },
    "colab_type": "code",
    "executionInfo": {
     "elapsed": 2472,
     "status": "ok",
     "timestamp": 1596479968237,
     "user": {
      "displayName": "yulya sot",
      "photoUrl": "https://lh6.googleusercontent.com/-ly9qpHtKZbM/AAAAAAAAAAI/AAAAAAAAAHs/3g5vNREGJNw/s64/photo.jpg",
      "userId": "08271027061435931011"
     },
     "user_tz": -120
    },
    "id": "bxp4I-lJPtpJ",
    "outputId": "432a946c-1a81-4e0a-9d67-34cadb4cfa71"
   },
   "outputs": [
    {
     "data": {
      "text/plain": [
       "{'biggest_bboxes': [[[11, 186, 83, 258]],\n",
       "  [[248, 119, 312, 183]],\n",
       "  [[215, 94, 279, 158], [267, 130, 331, 194]]],\n",
       " 'image_index': 2,\n",
       " 'images_original': ['27.png', '877.png', '899.png'],\n",
       " 'images_shuffled': ['899.png', '27.png', '877.png'],\n",
       " 'smallest_bboxes': [[[294, 255, 318, 279]],\n",
       "  [[46, 263, 76, 293], [224, 199, 254, 229]],\n",
       "  [[303, 50, 327, 74], [138, 54, 162, 78]]],\n",
       " 'target': ['green', 'circle'],\n",
       " 'target_bboxes': [[78, 82, 136, 140],\n",
       "  [46, 263, 76, 293],\n",
       "  [267, 130, 331, 194]]}"
      ]
     },
     "execution_count": 13,
     "metadata": {
      "tags": []
     },
     "output_type": "execute_result"
    }
   ],
   "source": [
    "iou_info[2]"
   ]
  },
  {
   "cell_type": "code",
   "execution_count": null,
   "metadata": {
    "colab": {},
    "colab_type": "code",
    "id": "ukoHphVkP2TL"
   },
   "outputs": [],
   "source": [
    "with open('iou_info_350.json', 'w+') as f:\n",
    "  json.dump(iou_info, f)"
   ]
  },
  {
   "cell_type": "markdown",
   "metadata": {
    "colab_type": "text",
    "id": "0S3MpbQuEm7R"
   },
   "source": [
    "# Load Faster R-CNN detections"
   ]
  },
  {
   "cell_type": "code",
   "execution_count": null,
   "metadata": {
    "colab": {
     "base_uri": "https://localhost:8080/",
     "height": 1000
    },
    "colab_type": "code",
    "executionInfo": {
     "elapsed": 12559,
     "status": "ok",
     "timestamp": 1597400840423,
     "user": {
      "displayName": "yulya sot",
      "photoUrl": "https://lh6.googleusercontent.com/-ly9qpHtKZbM/AAAAAAAAAAI/AAAAAAAAAHs/3g5vNREGJNw/s64/photo.jpg",
      "userId": "08271027061435931011"
     },
     "user_tz": -120
    },
    "id": "P7Nf05ZKEmOD",
    "outputId": "9768fc78-e232-471f-f63c-283f6033dacf"
   },
   "outputs": [
    {
     "name": "stdout",
     "output_type": "stream",
     "text": [
      "Requirement already satisfied: mxnet==1.6.0 in /usr/local/lib/python3.6/dist-packages (1.6.0)\n",
      "Requirement already satisfied: numpy<2.0.0,>1.16.0 in /usr/local/lib/python3.6/dist-packages (from mxnet==1.6.0) (1.18.5)\n",
      "Requirement already satisfied: graphviz<0.9.0,>=0.8.1 in /usr/local/lib/python3.6/dist-packages (from mxnet==1.6.0) (0.8.4)\n",
      "Requirement already satisfied: requests<3,>=2.20.0 in /usr/local/lib/python3.6/dist-packages (from mxnet==1.6.0) (2.23.0)\n",
      "Requirement already satisfied: chardet<4,>=3.0.2 in /usr/local/lib/python3.6/dist-packages (from requests<3,>=2.20.0->mxnet==1.6.0) (3.0.4)\n",
      "Requirement already satisfied: idna<3,>=2.5 in /usr/local/lib/python3.6/dist-packages (from requests<3,>=2.20.0->mxnet==1.6.0) (2.10)\n",
      "Requirement already satisfied: urllib3!=1.25.0,!=1.25.1,<1.26,>=1.21.1 in /usr/local/lib/python3.6/dist-packages (from requests<3,>=2.20.0->mxnet==1.6.0) (1.24.3)\n",
      "Requirement already satisfied: certifi>=2017.4.17 in /usr/local/lib/python3.6/dist-packages (from requests<3,>=2.20.0->mxnet==1.6.0) (2020.6.20)\n",
      "Looking in links: https://d2l.ai/whl.html\n",
      "Requirement already up-to-date: d2l in /usr/local/lib/python3.6/dist-packages (0.14.3)\n",
      "Requirement already satisfied, skipping upgrade: numpy in /usr/local/lib/python3.6/dist-packages (from d2l) (1.18.5)\n",
      "Requirement already satisfied, skipping upgrade: jupyter in /usr/local/lib/python3.6/dist-packages (from d2l) (1.0.0)\n",
      "Requirement already satisfied, skipping upgrade: pandas in /usr/local/lib/python3.6/dist-packages (from d2l) (1.0.5)\n",
      "Requirement already satisfied, skipping upgrade: matplotlib in /usr/local/lib/python3.6/dist-packages (from d2l) (3.2.2)\n",
      "Requirement already satisfied, skipping upgrade: ipywidgets in /usr/local/lib/python3.6/dist-packages (from jupyter->d2l) (7.5.1)\n",
      "Requirement already satisfied, skipping upgrade: jupyter-console in /usr/local/lib/python3.6/dist-packages (from jupyter->d2l) (5.2.0)\n",
      "Requirement already satisfied, skipping upgrade: ipykernel in /usr/local/lib/python3.6/dist-packages (from jupyter->d2l) (4.10.1)\n",
      "Requirement already satisfied, skipping upgrade: qtconsole in /usr/local/lib/python3.6/dist-packages (from jupyter->d2l) (4.7.5)\n",
      "Requirement already satisfied, skipping upgrade: notebook in /usr/local/lib/python3.6/dist-packages (from jupyter->d2l) (5.3.1)\n",
      "Requirement already satisfied, skipping upgrade: nbconvert in /usr/local/lib/python3.6/dist-packages (from jupyter->d2l) (5.6.1)\n",
      "Requirement already satisfied, skipping upgrade: pytz>=2017.2 in /usr/local/lib/python3.6/dist-packages (from pandas->d2l) (2018.9)\n",
      "Requirement already satisfied, skipping upgrade: python-dateutil>=2.6.1 in /usr/local/lib/python3.6/dist-packages (from pandas->d2l) (2.8.1)\n",
      "Requirement already satisfied, skipping upgrade: pyparsing!=2.0.4,!=2.1.2,!=2.1.6,>=2.0.1 in /usr/local/lib/python3.6/dist-packages (from matplotlib->d2l) (2.4.7)\n",
      "Requirement already satisfied, skipping upgrade: kiwisolver>=1.0.1 in /usr/local/lib/python3.6/dist-packages (from matplotlib->d2l) (1.2.0)\n",
      "Requirement already satisfied, skipping upgrade: cycler>=0.10 in /usr/local/lib/python3.6/dist-packages (from matplotlib->d2l) (0.10.0)\n",
      "Requirement already satisfied, skipping upgrade: traitlets>=4.3.1 in /usr/local/lib/python3.6/dist-packages (from ipywidgets->jupyter->d2l) (4.3.3)\n",
      "Requirement already satisfied, skipping upgrade: nbformat>=4.2.0 in /usr/local/lib/python3.6/dist-packages (from ipywidgets->jupyter->d2l) (5.0.7)\n",
      "Requirement already satisfied, skipping upgrade: widgetsnbextension~=3.5.0 in /usr/local/lib/python3.6/dist-packages (from ipywidgets->jupyter->d2l) (3.5.1)\n",
      "Requirement already satisfied, skipping upgrade: ipython>=4.0.0; python_version >= \"3.3\" in /usr/local/lib/python3.6/dist-packages (from ipywidgets->jupyter->d2l) (5.5.0)\n",
      "Requirement already satisfied, skipping upgrade: jupyter-client in /usr/local/lib/python3.6/dist-packages (from jupyter-console->jupyter->d2l) (5.3.5)\n",
      "Requirement already satisfied, skipping upgrade: prompt-toolkit<2.0.0,>=1.0.0 in /usr/local/lib/python3.6/dist-packages (from jupyter-console->jupyter->d2l) (1.0.18)\n",
      "Requirement already satisfied, skipping upgrade: pygments in /usr/local/lib/python3.6/dist-packages (from jupyter-console->jupyter->d2l) (2.1.3)\n",
      "Requirement already satisfied, skipping upgrade: tornado>=4.0 in /usr/local/lib/python3.6/dist-packages (from ipykernel->jupyter->d2l) (5.1.1)\n",
      "Requirement already satisfied, skipping upgrade: qtpy in /usr/local/lib/python3.6/dist-packages (from qtconsole->jupyter->d2l) (1.9.0)\n",
      "Requirement already satisfied, skipping upgrade: ipython-genutils in /usr/local/lib/python3.6/dist-packages (from qtconsole->jupyter->d2l) (0.2.0)\n",
      "Requirement already satisfied, skipping upgrade: jupyter-core in /usr/local/lib/python3.6/dist-packages (from qtconsole->jupyter->d2l) (4.6.3)\n",
      "Requirement already satisfied, skipping upgrade: pyzmq>=17.1 in /usr/local/lib/python3.6/dist-packages (from qtconsole->jupyter->d2l) (19.0.2)\n",
      "Requirement already satisfied, skipping upgrade: jinja2 in /usr/local/lib/python3.6/dist-packages (from notebook->jupyter->d2l) (2.11.2)\n",
      "Requirement already satisfied, skipping upgrade: Send2Trash in /usr/local/lib/python3.6/dist-packages (from notebook->jupyter->d2l) (1.5.0)\n",
      "Requirement already satisfied, skipping upgrade: terminado>=0.8.1 in /usr/local/lib/python3.6/dist-packages (from notebook->jupyter->d2l) (0.8.3)\n",
      "Requirement already satisfied, skipping upgrade: bleach in /usr/local/lib/python3.6/dist-packages (from nbconvert->jupyter->d2l) (3.1.5)\n",
      "Requirement already satisfied, skipping upgrade: mistune<2,>=0.8.1 in /usr/local/lib/python3.6/dist-packages (from nbconvert->jupyter->d2l) (0.8.4)\n",
      "Requirement already satisfied, skipping upgrade: testpath in /usr/local/lib/python3.6/dist-packages (from nbconvert->jupyter->d2l) (0.4.4)\n",
      "Requirement already satisfied, skipping upgrade: defusedxml in /usr/local/lib/python3.6/dist-packages (from nbconvert->jupyter->d2l) (0.6.0)\n",
      "Requirement already satisfied, skipping upgrade: entrypoints>=0.2.2 in /usr/local/lib/python3.6/dist-packages (from nbconvert->jupyter->d2l) (0.3)\n",
      "Requirement already satisfied, skipping upgrade: pandocfilters>=1.4.1 in /usr/local/lib/python3.6/dist-packages (from nbconvert->jupyter->d2l) (1.4.2)\n",
      "Requirement already satisfied, skipping upgrade: six>=1.5 in /usr/local/lib/python3.6/dist-packages (from python-dateutil>=2.6.1->pandas->d2l) (1.15.0)\n",
      "Requirement already satisfied, skipping upgrade: decorator in /usr/local/lib/python3.6/dist-packages (from traitlets>=4.3.1->ipywidgets->jupyter->d2l) (4.4.2)\n",
      "Requirement already satisfied, skipping upgrade: jsonschema!=2.5.0,>=2.4 in /usr/local/lib/python3.6/dist-packages (from nbformat>=4.2.0->ipywidgets->jupyter->d2l) (2.6.0)\n",
      "Requirement already satisfied, skipping upgrade: simplegeneric>0.8 in /usr/local/lib/python3.6/dist-packages (from ipython>=4.0.0; python_version >= \"3.3\"->ipywidgets->jupyter->d2l) (0.8.1)\n",
      "Requirement already satisfied, skipping upgrade: setuptools>=18.5 in /usr/local/lib/python3.6/dist-packages (from ipython>=4.0.0; python_version >= \"3.3\"->ipywidgets->jupyter->d2l) (49.2.0)\n",
      "Requirement already satisfied, skipping upgrade: pexpect; sys_platform != \"win32\" in /usr/local/lib/python3.6/dist-packages (from ipython>=4.0.0; python_version >= \"3.3\"->ipywidgets->jupyter->d2l) (4.8.0)\n",
      "Requirement already satisfied, skipping upgrade: pickleshare in /usr/local/lib/python3.6/dist-packages (from ipython>=4.0.0; python_version >= \"3.3\"->ipywidgets->jupyter->d2l) (0.7.5)\n",
      "Requirement already satisfied, skipping upgrade: wcwidth in /usr/local/lib/python3.6/dist-packages (from prompt-toolkit<2.0.0,>=1.0.0->jupyter-console->jupyter->d2l) (0.2.5)\n",
      "Requirement already satisfied, skipping upgrade: MarkupSafe>=0.23 in /usr/local/lib/python3.6/dist-packages (from jinja2->notebook->jupyter->d2l) (1.1.1)\n",
      "Requirement already satisfied, skipping upgrade: ptyprocess; os_name != \"nt\" in /usr/local/lib/python3.6/dist-packages (from terminado>=0.8.1->notebook->jupyter->d2l) (0.6.0)\n",
      "Requirement already satisfied, skipping upgrade: packaging in /usr/local/lib/python3.6/dist-packages (from bleach->nbconvert->jupyter->d2l) (20.4)\n",
      "Requirement already satisfied, skipping upgrade: webencodings in /usr/local/lib/python3.6/dist-packages (from bleach->nbconvert->jupyter->d2l) (0.5.1)\n"
     ]
    }
   ],
   "source": [
    "!pip install mxnet==1.6.0\n",
    "!pip install -U d2l -f https://d2l.ai/whl.html\n",
    "\n",
    "import sys\n",
    "import csv\n",
    "import base64\n",
    "import time\n",
    "%matplotlib inline\n",
    "from d2l import mxnet as d2l\n",
    "from mxnet import image, npx\n",
    "import numpy as np\n",
    "import matplotlib.pyplot as plt\n",
    "\n",
    "npx.set_np()\n",
    "\n",
    "maxInt = sys.maxsize\n",
    "\n",
    "while True:\n",
    "    # decrease the maxInt value by factor 10 \n",
    "    # as long as the OverflowError occurs.\n",
    "    try:\n",
    "        csv.field_size_limit(maxInt)\n",
    "        break\n",
    "    except OverflowError:\n",
    "        maxInt = int(maxInt/10)"
   ]
  },
  {
   "cell_type": "code",
   "execution_count": null,
   "metadata": {
    "colab": {},
    "colab_type": "code",
    "id": "QD_hQrbFE-l1"
   },
   "outputs": [],
   "source": [
    "FIELDNAMES = [\"img_id\", \"img_h\", \"img_w\", \"objects_id\", \"objects_conf\",\n",
    "              \"attrs_id\", \"attrs_conf\", \"num_boxes\", \"boxes\", \"features\"]\n",
    "\n",
    "def load_obj_tsv(fname, topk=None):\n",
    "\n",
    "    data = []\n",
    "    start_time = time.time()\n",
    "    print(\"Start to load Faster-RCNN detected objects from %s\" % fname)\n",
    "    with open(fname) as f:\n",
    "        reader = csv.DictReader(f, FIELDNAMES, delimiter=\"\\t\")\n",
    "        for i, item in enumerate(reader):\n",
    "\n",
    "            for key in ['img_h', 'img_w', 'num_boxes']:\n",
    "                item[key] = int(item[key])\n",
    "            \n",
    "            boxes = item['num_boxes']\n",
    "            decode_config = [\n",
    "                ('objects_id', (boxes, ), np.int64),\n",
    "                ('objects_conf', (boxes, ), np.float32),\n",
    "                ('attrs_id', (boxes, ), np.int64),\n",
    "                ('attrs_conf', (boxes, ), np.float32),\n",
    "                ('boxes', (boxes, 4), np.float32),\n",
    "                ('features', (boxes, -1), np.float32),\n",
    "            ]\n",
    "            for key, shape, dtype in decode_config:\n",
    "                item[key] = np.frombuffer(base64.b64decode(item[key]), dtype=dtype)\n",
    "                item[key] = item[key].reshape(shape)\n",
    "                item[key].setflags(write=False)\n",
    "            \n",
    "            data.append(item)\n",
    "            if topk is not None and len(data) == topk:\n",
    "                break\n",
    "    return data"
   ]
  },
  {
   "cell_type": "code",
   "execution_count": null,
   "metadata": {
    "colab": {
     "base_uri": "https://localhost:8080/",
     "height": 36
    },
    "colab_type": "code",
    "executionInfo": {
     "elapsed": 64888,
     "status": "ok",
     "timestamp": 1597400894300,
     "user": {
      "displayName": "yulya sot",
      "photoUrl": "https://lh6.googleusercontent.com/-ly9qpHtKZbM/AAAAAAAAAAI/AAAAAAAAAHs/3g5vNREGJNw/s64/photo.jpg",
      "userId": "08271027061435931011"
     },
     "user_tz": -120
    },
    "id": "TqnFkpQLFB2n",
    "outputId": "00ec568e-76ff-4122-b088-ad8b59043b8e"
   },
   "outputs": [
    {
     "name": "stdout",
     "output_type": "stream",
     "text": [
      "Start to load Faster-RCNN detected objects from /content/drive/My Drive/out_correct_order/test_obj36.tsv\n"
     ]
    }
   ],
   "source": [
    "rcnn_data = load_obj_tsv(\"/content/drive/My Drive/test_obj36.tsv\")"
   ]
  },
  {
   "cell_type": "markdown",
   "metadata": {
    "colab_type": "text",
    "id": "DhjQwXgd8PRm"
   },
   "source": [
    "## Actual analysis"
   ]
  },
  {
   "cell_type": "code",
   "execution_count": null,
   "metadata": {
    "colab": {},
    "colab_type": "code",
    "id": "JOUPCUeER6p_"
   },
   "outputs": [],
   "source": [
    "import csv\n",
    "import json\n",
    "import numpy as np\n",
    "from operator import itemgetter "
   ]
  },
  {
   "cell_type": "code",
   "execution_count": null,
   "metadata": {
    "colab": {},
    "colab_type": "code",
    "id": "1284U9a0_y_P"
   },
   "outputs": [],
   "source": [
    "with open('test_predict_3img.csv', mode='r') as infile: # lxmert predictions on 3POS1 test set\n",
    "  reader = csv.reader(infile)\n",
    "  predicted = {rows[0] : 1 if rows[1] == 'True' else 0 for rows in reader}\n",
    "\n",
    "with open('test.json') as f: # lxmert annotations for 3POS1\n",
    "  dataset = json.load(f)\n",
    "\n",
    "with open('iou_info_350.json') as f:\n",
    "  gt_bboxes = json.load(f)"
   ]
  },
  {
   "cell_type": "code",
   "execution_count": null,
   "metadata": {
    "colab": {},
    "colab_type": "code",
    "id": "oPiV66W1_4Ke"
   },
   "outputs": [],
   "source": [
    "correctly_predicted = []\n",
    "for i, (key, value) in enumerate(predicted.items()):\n",
    "  if dataset[i]['label'] == value:\n",
    "    correctly_predicted.append(i)"
   ]
  },
  {
   "cell_type": "code",
   "execution_count": null,
   "metadata": {
    "colab": {},
    "colab_type": "code",
    "id": "IpsXiNw9BpKg"
   },
   "outputs": [],
   "source": [
    "# attention weights extracted from LXMERT's cross-modality layer\n",
    "\n",
    "atts = np.load(\"/content/drive/My Drive/att_scores_out_3img/0.npy\", allow_pickle=True).item().get('cross')[8]\n",
    "for i in range(1, 8):\n",
    "  atts = np.concatenate((atts, np.load(\"/content/drive/My Drive/att_scores_out_3img/%s.npy\"% str(i), allow_pickle=True).item().get('cross')[8]))"
   ]
  },
  {
   "cell_type": "code",
   "execution_count": null,
   "metadata": {
    "colab": {
     "base_uri": "https://localhost:8080/",
     "height": 36
    },
    "colab_type": "code",
    "executionInfo": {
     "elapsed": 55689,
     "status": "ok",
     "timestamp": 1597401149462,
     "user": {
      "displayName": "yulya sot",
      "photoUrl": "https://lh6.googleusercontent.com/-ly9qpHtKZbM/AAAAAAAAAAI/AAAAAAAAAHs/3g5vNREGJNw/s64/photo.jpg",
      "userId": "08271027061435931011"
     },
     "user_tz": -120
    },
    "id": "GwJ3pFbRepFZ",
    "outputId": "d6b0ae1f-6871-4611-c3af-866e82ed8259"
   },
   "outputs": [
    {
     "data": {
      "text/plain": [
       "(20, 36)"
      ]
     },
     "execution_count": 15,
     "metadata": {
      "tags": []
     },
     "output_type": "execute_result"
    }
   ],
   "source": [
    "scores = atts\n",
    "scores[0][0][0, :]\n",
    "atts[0][0].shape"
   ]
  },
  {
   "cell_type": "code",
   "execution_count": null,
   "metadata": {
    "colab": {
     "base_uri": "https://localhost:8080/",
     "height": 442
    },
    "colab_type": "code",
    "executionInfo": {
     "elapsed": 54775,
     "status": "ok",
     "timestamp": 1597401150599,
     "user": {
      "displayName": "yulya sot",
      "photoUrl": "https://lh6.googleusercontent.com/-ly9qpHtKZbM/AAAAAAAAAAI/AAAAAAAAAHs/3g5vNREGJNw/s64/photo.jpg",
      "userId": "08271027061435931011"
     },
     "user_tz": -120
    },
    "id": "oRuBsY9OXTM3",
    "outputId": "f873e171-6d2c-4df8-dae4-6d8ad2b900ad"
   },
   "outputs": [
    {
     "name": "stderr",
     "output_type": "stream",
     "text": [
      "/usr/local/lib/python3.6/dist-packages/statsmodels/tools/_testing.py:19: FutureWarning: pandas.util.testing is deprecated. Use the functions in the public API at pandas.testing instead.\n",
      "  import pandas.util.testing as tm\n"
     ]
    },
    {
     "data": {
      "image/png": "[encoded data removed]",
      "text/plain": [
       "<Figure size 1584x504 with 2 Axes>"
      ]
     },
     "metadata": {
      "needs_background": "light",
      "tags": []
     },
     "output_type": "display_data"
    }
   ],
   "source": [
    "import json\n",
    "import matplotlib.pyplot as plt\n",
    "import numpy as np\n",
    "import seaborn\n",
    "from matplotlib.patches import Rectangle\n",
    "\n",
    "sent_str = '[cls] there are exactly two red circles that are small in their box [eos]'\n",
    "sent = sent_str.split()\n",
    "fig, ax = plt.subplots(figsize=(22,7))\n",
    "ax.set_title(\"Cross-modality encoder, last layer, head 0\", fontsize = 18)\n",
    "plt.rcParams['ytick.left'] = True\n",
    "sample = atts[171][0][:14]\n",
    "seaborn.heatmap(sample, cmap=\"Blues\")\n",
    "ax.xaxis.set_ticks_position('top')\n",
    "plt.xticks(np.arange(36)+0.5, range(0,36), rotation=90, fontsize = 14)\n",
    "plt.yticks(np.arange(len(sent[:14]))+0.5, sent[:14], rotation=45, fontsize = 14)\n",
    "ax.add_patch(Rectangle((0, 0), 36, 1, fill=True, edgecolor=(1,0,0,0.2), facecolor=(1,0,0,0.2),  lw=3))\n",
    "plt.show()"
   ]
  },
  {
   "cell_type": "code",
   "execution_count": null,
   "metadata": {
    "colab": {},
    "colab_type": "code",
    "id": "SEk822NC8sf5"
   },
   "outputs": [],
   "source": [
    "with open(\"/content/drive/My Drive/att_scores_out/attributes_vocab.txt\") as f:\n",
    "    attributes = f.readlines()"
   ]
  },
  {
   "cell_type": "code",
   "execution_count": null,
   "metadata": {
    "colab": {},
    "colab_type": "code",
    "id": "BNZy4NM7ikEH"
   },
   "outputs": [],
   "source": [
    "with open(\"/content/drive/My Drive/att_scores_out/attributes_vocab.txt\") as f:\n",
    "  attributes = f.readlines()\n",
    "\n",
    "attributes = [x.strip() for x in attributes] \n",
    "\n",
    "def get_top_k_attended_boxes(img_id, img_name, att_head, k=2):\n",
    "  # a = sum(scores[img_id][:,0,:])\n",
    "\n",
    "  # a = sum(sum(scores[img_id][:,1:,:]))\n",
    "\n",
    "  # a = sum(scores[img_id][att_head])\n",
    "  a = scores[img_id][att_head][0]\n",
    "  background_ids = set(get_background_indices(img_name))\n",
    "\n",
    "  topk = sorted(enumerate(a), key=lambda iv: -100 if iv[0] in background_ids else iv[1])[-k:]\n",
    "  return [i for i, v in topk]\n",
    "  # return random.sample(range(0, 36), k)\n",
    "\n",
    "def get_background_indices(img_name):\n",
    "\n",
    "  background_indices = []\n",
    "\n",
    "  for datum in rcnn_data:\n",
    "    if datum['img_id'] == img_name:\n",
    "      for i, aid in enumerate(datum['attrs_id']):\n",
    "        if (attributes[aid] == 'black' or attributes[aid] == 'dark'):\n",
    "          background_indices.append(i)\n",
    "      return background_indices\n",
    "\n",
    "def get_bboxes(img_id, top_indices):\n",
    "  for datum in rcnn_data:\n",
    "    if datum['img_id'] == img_id:\n",
    "\n",
    "      return itemgetter(*top_indices)(datum['boxes'])\n",
    "\n",
    "def get_image_data(img_id):\n",
    "\n",
    "  for datum in rcnn_data:\n",
    "    if datum['img_id'] == img_id:\n",
    "      return datum"
   ]
  },
  {
   "cell_type": "code",
   "execution_count": null,
   "metadata": {
    "colab": {},
    "colab_type": "code",
    "id": "7VECgCeIjGxM"
   },
   "outputs": [],
   "source": [
    "def bb_intersection_over_union(boxA, boxB):\n",
    "\t# determine the (x, y)-coordinates of the intersection rectangle\n",
    "  max = __builtins__.max\n",
    "  xA = max(boxA[0], boxB[0])\n",
    "  yA = max(boxA[1], boxB[1])\n",
    "  xB = min(boxA[2], boxB[2])\n",
    "  yB = min(boxA[3], boxB[3])\n",
    "  # compute the area of intersection rectangle\n",
    "  interArea = max(0, xB - xA + 1) * max(0, yB - yA + 1)\n",
    "\t# compute the area of both the prediction and ground-truth\n",
    "\t# rectangles\n",
    "  boxAArea = (boxA[2] - boxA[0] + 1) * (boxA[3] - boxA[1] + 1)\n",
    "  boxBArea = (boxB[2] - boxB[0] + 1) * (boxB[3] - boxB[1] + 1)\n",
    "  # compute the intersection over union by taking the intersection\n",
    "  # area and dividing it by the sum of prediction + ground-truth\n",
    "  # areas - the interesection area\n",
    "  iou = interArea / float(boxAArea + boxBArea - interArea)\n",
    "  # return the intersection over union value\n",
    "  return iou"
   ]
  },
  {
   "cell_type": "code",
   "execution_count": null,
   "metadata": {
    "colab": {
     "base_uri": "https://localhost:8080/",
     "height": 1000
    },
    "colab_type": "code",
    "executionInfo": {
     "elapsed": 38921,
     "status": "ok",
     "timestamp": 1597267413870,
     "user": {
      "displayName": "yulya sot",
      "photoUrl": "https://lh6.googleusercontent.com/-ly9qpHtKZbM/AAAAAAAAAAI/AAAAAAAAAHs/3g5vNREGJNw/s64/photo.jpg",
      "userId": "08271027061435931011"
     },
     "user_tz": -120
    },
    "id": "zqXrTHN6gNOr",
    "outputId": "7d04e272-b335-4f53-b923-3b994487fef1"
   },
   "outputs": [
    {
     "name": "stdout",
     "output_type": "stream",
     "text": [
      "HEAD: 0\n",
      "target: 1521 %scenes: 0.6649630891538898\n",
      "smallest: 942 %scenes: 0.44349801249290177\n",
      "biggest: 236 %scenes: 0.12890403180011356\n",
      "% of scenes: 0.8472458830210108 \n",
      "\n",
      "HEAD: 1\n",
      "target: 1735 %scenes: 0.7086882453151618\n",
      "smallest: 815 %scenes: 0.3850085178875639\n",
      "biggest: 206 %scenes: 0.11186825667234526\n",
      "% of scenes: 0.8449744463373083 \n",
      "\n",
      "HEAD: 2\n",
      "target: 1677 %scenes: 0.7109596819988643\n",
      "smallest: 1073 %scenes: 0.49687677455990914\n",
      "biggest: 50 %scenes: 0.027825099375354913\n",
      "% of scenes: 0.8642816581487791 \n",
      "\n",
      "HEAD: 3\n",
      "target: 1235 %scenes: 0.555366269165247\n",
      "smallest: 1269 %scenes: 0.5678591709256104\n",
      "biggest: 57 %scenes: 0.031232254400908575\n",
      "% of scenes: 0.8268029528676888 \n",
      "\n",
      "HEAD: 4\n",
      "target: 1412 %scenes: 0.6218057921635435\n",
      "smallest: 1700 %scenes: 0.6973310618966496\n",
      "biggest: 40 %scenes: 0.022714366837024418\n",
      "% of scenes: 0.8949460533787621 \n",
      "\n",
      "HEAD: 5\n",
      "target: 1570 %scenes: 0.6621237932992617\n",
      "smallest: 1390 %scenes: 0.5945485519591142\n",
      "biggest: 261 %scenes: 0.14310051107325383\n",
      "% of scenes: 0.8864281658148779 \n",
      "\n",
      "HEAD: 6\n",
      "target: 1169 %scenes: 0.5445769449176604\n",
      "smallest: 1124 %scenes: 0.5207268597387847\n",
      "biggest: 256 %scenes: 0.13401476433844406\n",
      "% of scenes: 0.8154457694491766 \n",
      "\n",
      "HEAD: 7\n",
      "target: 1821 %scenes: 0.7206132879045997\n",
      "smallest: 1427 %scenes: 0.619534355479841\n",
      "biggest: 431 %scenes: 0.20783645655877342\n",
      "% of scenes: 0.9307211811470755 \n",
      "\n",
      "HEAD: 8\n",
      "target: 581 %scenes: 0.2833617262918796\n",
      "smallest: 1047 %scenes: 0.4957410562180579\n",
      "biggest: 487 %scenes: 0.25383304940374785\n",
      "% of scenes: 0.7399204997160704 \n",
      "\n",
      "HEAD: 9\n",
      "target: 425 %scenes: 0.22089721749006247\n",
      "smallest: 2073 %scenes: 0.7773992049971608\n",
      "biggest: 17 %scenes: 0.009653605905735378\n",
      "% of scenes: 0.8194207836456558 \n",
      "\n",
      "HEAD: 10\n",
      "target: 1375 %scenes: 0.606473594548552\n",
      "smallest: 1015 %scenes: 0.47586598523566154\n",
      "biggest: 645 %scenes: 0.32367972742759793\n",
      "% of scenes: 0.8886996024985804 \n",
      "\n",
      "HEAD: 11\n",
      "target: 837 %scenes: 0.40545144804088584\n",
      "smallest: 641 %scenes: 0.32481544576944915\n",
      "biggest: 1664 %scenes: 0.7291311754684838\n",
      "% of scenes: 0.9415105053946621 \n",
      "\n"
     ]
    }
   ],
   "source": [
    "for att_head in range(0,12):\n",
    "  ious_target = []\n",
    "  ious_biggest = []\n",
    "  ious_smallest = []\n",
    "  found_ids = []\n",
    "  found_target = []\n",
    "  found_biggest = []\n",
    "  found_smallest = []\n",
    "  for i in correctly_predicted:  \n",
    "  # for i in [1]: \n",
    "    qid = i*3\n",
    "    img_name0 = '%s-img0' % str(i)\n",
    "    img_name1 = '%s-img1' % str(i)\n",
    "    img_name2 = '%s-img2' % str(i)\n",
    "    top_bboxes = []\n",
    "\n",
    "    top0 = get_top_k_attended_boxes(qid, img_name0,  att_head)\n",
    "    top1 = get_top_k_attended_boxes(qid+1, img_name0, att_head)\n",
    "    top2 = get_top_k_attended_boxes(qid+2, img_name0, att_head)\n",
    "    top_bboxes.append(get_bboxes(img_name0, top0))\n",
    "    top_bboxes.append(get_bboxes(img_name1, top1))\n",
    "    top_bboxes.append(get_bboxes(img_name2, top2))\n",
    "\n",
    "    for j in range(3):\n",
    "      max_iou=0.0\n",
    "      for top_box in top_bboxes[j]:\n",
    "        for gt_bbox in gt_bboxes[i]['biggest_bboxes'][j]:\n",
    "          iou = bb_intersection_over_union(gt_bbox, top_box)\n",
    "          if iou > max_iou:\n",
    "            max_iou = iou\n",
    "      ious_biggest.append(max_iou)\n",
    "      if max_iou > 0.5:\n",
    "        found_ids.append(i)\n",
    "        found_biggest.append(i)\n",
    "\n",
    "    for j in range(3):\n",
    "      max_iou=0.0\n",
    "      for top_box in top_bboxes[j]:\n",
    "        for gt_bbox in gt_bboxes[i]['smallest_bboxes'][j]:\n",
    "          iou = bb_intersection_over_union(gt_bbox, top_box)\n",
    "          if iou > max_iou:\n",
    "            max_iou = iou\n",
    "      ious_smallest.append(max_iou)\n",
    "      if max_iou > 0.5:\n",
    "        found_ids.append(i)\n",
    "        found_smallest.append(i)\n",
    "\n",
    "\n",
    "    for j in range(3):\n",
    "      max_iou=0.0\n",
    "      for top_box in top_bboxes[j]:\n",
    "        iou = bb_intersection_over_union(gt_bboxes[i]['target_bboxes'][j], top_box)\n",
    "        if iou > max_iou:\n",
    "          max_iou = iou\n",
    "      ious_target.append(max_iou)\n",
    "      if max_iou > 0.5:\n",
    "        found_ids.append(i)\n",
    "        found_target.append(i)\n",
    "\n",
    "  print('HEAD:', att_head)\n",
    "  print('target:', sum(i > 0.5 for i in ious_target), '%scenes:', len(set(found_target))/len(correctly_predicted))\n",
    "  print('smallest:', sum(i > 0.5 for i in ious_smallest), '%scenes:', len(set(found_smallest))/len(correctly_predicted))\n",
    "  print('biggest:', sum(i > 0.5 for i in ious_biggest), '%scenes:', len(set(found_biggest))/len(correctly_predicted))\n",
    "  print('% of scenes:', len(set(found_ids))/len(correctly_predicted), '\\n')"
   ]
  },
  {
   "cell_type": "markdown",
   "metadata": {
    "colab_type": "text",
    "id": "lDERKaCQfm_z"
   },
   "source": [
    "random"
   ]
  },
  {
   "cell_type": "code",
   "execution_count": null,
   "metadata": {
    "colab": {
     "base_uri": "https://localhost:8080/",
     "height": 1000
    },
    "colab_type": "code",
    "executionInfo": {
     "elapsed": 38831,
     "status": "ok",
     "timestamp": 1597267589949,
     "user": {
      "displayName": "yulya sot",
      "photoUrl": "https://lh6.googleusercontent.com/-ly9qpHtKZbM/AAAAAAAAAAI/AAAAAAAAAHs/3g5vNREGJNw/s64/photo.jpg",
      "userId": "08271027061435931011"
     },
     "user_tz": -120
    },
    "id": "axUGG4LYfiCT",
    "outputId": "c3041a6a-8abc-4a5d-ed8b-9c9bbaa32cef"
   },
   "outputs": [
    {
     "name": "stdout",
     "output_type": "stream",
     "text": [
      "HEAD: 0\n",
      "target: 659 %scenes: 0.3282226007950028\n",
      "smallest: 668 %scenes: 0.32935831913685404\n",
      "biggest: 937 %scenes: 0.4332765474162408\n",
      "% of scenes: 0.7098239636570131 \n",
      "\n",
      "HEAD: 1\n",
      "target: 735 %scenes: 0.36740488358886997\n",
      "smallest: 675 %scenes: 0.33106189664963087\n",
      "biggest: 972 %scenes: 0.4565587734241908\n",
      "% of scenes: 0.7251561612720046 \n",
      "\n",
      "HEAD: 2\n",
      "target: 739 %scenes: 0.3634298693923907\n",
      "smallest: 665 %scenes: 0.3316297558205565\n",
      "biggest: 1006 %scenes: 0.47132311186825665\n",
      "% of scenes: 0.7416240772288473 \n",
      "\n",
      "HEAD: 3\n",
      "target: 695 %scenes: 0.3418512208972175\n",
      "smallest: 724 %scenes: 0.35036910846110164\n",
      "biggest: 943 %scenes: 0.4440658716638274\n",
      "% of scenes: 0.727427597955707 \n",
      "\n",
      "HEAD: 4\n",
      "target: 739 %scenes: 0.3639977285633163\n",
      "smallest: 740 %scenes: 0.35491198182850653\n",
      "biggest: 990 %scenes: 0.4645088018171493\n",
      "% of scenes: 0.7427597955706985 \n",
      "\n",
      "HEAD: 5\n",
      "target: 770 %scenes: 0.380465644520159\n",
      "smallest: 695 %scenes: 0.3390119250425894\n",
      "biggest: 999 %scenes: 0.4593980692788189\n",
      "% of scenes: 0.7393526405451448 \n",
      "\n",
      "HEAD: 6\n",
      "target: 747 %scenes: 0.36570130607609314\n",
      "smallest: 693 %scenes: 0.3418512208972175\n",
      "biggest: 1008 %scenes: 0.47245883021010787\n",
      "% of scenes: 0.7353776263486655 \n",
      "\n",
      "HEAD: 7\n",
      "target: 726 %scenes: 0.3532084043157297\n",
      "smallest: 713 %scenes: 0.3492333901192504\n",
      "biggest: 954 %scenes: 0.4565587734241908\n",
      "% of scenes: 0.7410562180579217 \n",
      "\n",
      "HEAD: 8\n",
      "target: 728 %scenes: 0.35661555934128336\n",
      "smallest: 741 %scenes: 0.3628620102214651\n",
      "biggest: 977 %scenes: 0.4497444633730835\n",
      "% of scenes: 0.7416240772288473 \n",
      "\n",
      "HEAD: 9\n",
      "target: 695 %scenes: 0.3475298126064736\n",
      "smallest: 669 %scenes: 0.326519023282226\n",
      "biggest: 964 %scenes: 0.45258375922771155\n",
      "% of scenes: 0.7319704713231119 \n",
      "\n",
      "HEAD: 10\n",
      "target: 741 %scenes: 0.360022714366837\n",
      "smallest: 710 %scenes: 0.35093696763202725\n",
      "biggest: 920 %scenes: 0.43214082907438955\n",
      "% of scenes: 0.7149346961953436 \n",
      "\n",
      "HEAD: 11\n",
      "target: 728 %scenes: 0.35150482680295286\n",
      "smallest: 729 %scenes: 0.3537762634866553\n",
      "biggest: 1035 %scenes: 0.47132311186825665\n",
      "% of scenes: 0.7353776263486655 \n",
      "\n"
     ]
    }
   ],
   "source": [
    "for att_head in range(0,12):\n",
    "  ious_target = []\n",
    "  ious_biggest = []\n",
    "  ious_smallest = []\n",
    "  found_ids = []\n",
    "  found_target = []\n",
    "  found_biggest = []\n",
    "  found_smallest = []\n",
    "  for i in correctly_predicted:  \n",
    "  # for i in [1]: \n",
    "    qid = i*3\n",
    "    img_name0 = '%s-img0' % str(i)\n",
    "    img_name1 = '%s-img1' % str(i)\n",
    "    img_name2 = '%s-img2' % str(i)\n",
    "    top_bboxes = []\n",
    "\n",
    "    top0 = get_top_k_attended_boxes(qid, img_name0,  att_head)\n",
    "    top1 = get_top_k_attended_boxes(qid+1, img_name0, att_head)\n",
    "    top2 = get_top_k_attended_boxes(qid+2, img_name0, att_head)\n",
    "    top_bboxes.append(get_bboxes(img_name0, top0))\n",
    "    top_bboxes.append(get_bboxes(img_name1, top1))\n",
    "    top_bboxes.append(get_bboxes(img_name2, top2))\n",
    "\n",
    "    for j in range(3):\n",
    "      max_iou=0.0\n",
    "      for top_box in top_bboxes[j]:\n",
    "        for gt_bbox in gt_bboxes[i]['biggest_bboxes'][j]:\n",
    "          iou = bb_intersection_over_union(gt_bbox, top_box)\n",
    "          if iou > max_iou:\n",
    "            max_iou = iou\n",
    "      ious_biggest.append(max_iou)\n",
    "      if max_iou > 0.5:\n",
    "        found_ids.append(i)\n",
    "        found_biggest.append(i)\n",
    "\n",
    "    for j in range(3):\n",
    "      max_iou=0.0\n",
    "      for top_box in top_bboxes[j]:\n",
    "        for gt_bbox in gt_bboxes[i]['smallest_bboxes'][j]:\n",
    "          iou = bb_intersection_over_union(gt_bbox, top_box)\n",
    "          if iou > max_iou:\n",
    "            max_iou = iou\n",
    "      ious_smallest.append(max_iou)\n",
    "      if max_iou > 0.5:\n",
    "        found_ids.append(i)\n",
    "        found_smallest.append(i)\n",
    "\n",
    "\n",
    "    for j in range(3):\n",
    "      max_iou=0.0\n",
    "      for top_box in top_bboxes[j]:\n",
    "        iou = bb_intersection_over_union(gt_bboxes[i]['target_bboxes'][j], top_box)\n",
    "        if iou > max_iou:\n",
    "          max_iou = iou\n",
    "      ious_target.append(max_iou)\n",
    "      if max_iou > 0.5:\n",
    "        found_ids.append(i)\n",
    "        found_target.append(i)\n",
    "\n",
    "  print('HEAD:', att_head)\n",
    "  print('target:', sum(i > 0.5 for i in ious_target), '%scenes:', len(set(found_target))/len(correctly_predicted))\n",
    "  print('smallest:', sum(i > 0.5 for i in ious_smallest), '%scenes:', len(set(found_smallest))/len(correctly_predicted))\n",
    "  print('biggest:', sum(i > 0.5 for i in ious_biggest), '%scenes:', len(set(found_biggest))/len(correctly_predicted))\n",
    "  print('% of scenes:', len(set(found_ids))/len(correctly_predicted), '\\n')"
   ]
  },
  {
   "cell_type": "markdown",
   "metadata": {
    "colab_type": "text",
    "id": "SZhg76Ka83R2"
   },
   "source": [
    " Some example visualisations"
   ]
  },
  {
   "cell_type": "code",
   "execution_count": null,
   "metadata": {
    "colab": {},
    "colab_type": "code",
    "id": "X64g3SVWxabe"
   },
   "outputs": [],
   "source": [
    "def show_bboxes(axes, bboxes, labels=None, colors=None):\n",
    "    def _make_list(obj, default_values=None):\n",
    "        if obj is None:\n",
    "            obj = default_values\n",
    "        elif not isinstance(obj, (list, tuple)):\n",
    "            obj = [obj]\n",
    "        return obj\n",
    "    labels = _make_list(labels)\n",
    "    colors = _make_list(colors, [(1,0,1), (0,0,1)])\n",
    "    # colors = [(210, 52, 235, 0.2), (52, 235, 137, 0.2)]\n",
    "    for i, bbox in enumerate(bboxes):\n",
    "        color = colors[i % len(colors)]\n",
    "        rect = bbox_to_rect(bbox, color)\n",
    "        axes.add_patch(rect)\n",
    "        if labels and len(labels) > i:\n",
    "            text_color = 'k' if color == 'w' else 'w'\n",
    "            axes.text(rect.xy[0], rect.xy[1], labels[i],\n",
    "                      va='center', ha='center', fontsize=9, color=text_color,\n",
    "                      bbox=dict(facecolor=color, lw=0))"
   ]
  },
  {
   "cell_type": "code",
   "execution_count": null,
   "metadata": {
    "colab": {},
    "colab_type": "code",
    "id": "IAYTwGAwknQV"
   },
   "outputs": [],
   "source": [
    "def bbox_to_rect(bbox, color):\n",
    "    return d2l.plt.Rectangle(\n",
    "        xy=(bbox[0], bbox[1]), width=bbox[2]-bbox[0], height=bbox[3]-bbox[1],\n",
    "        fill=False, edgecolor=color, facecolor = color, linewidth=3)"
   ]
  },
  {
   "cell_type": "code",
   "execution_count": null,
   "metadata": {
    "colab": {},
    "colab_type": "code",
    "id": "KJH3hgapPxI_"
   },
   "outputs": [],
   "source": [
    "top0=get_top_k_attended_boxes(759, '759-img0', 11,k=5)\n",
    "top_bboxes=get_bboxes('%s-img0' % 759, top0)"
   ]
  },
  {
   "cell_type": "code",
   "execution_count": null,
   "metadata": {
    "colab": {
     "base_uri": "https://localhost:8080/",
     "height": 323
    },
    "colab_type": "code",
    "executionInfo": {
     "elapsed": 766,
     "status": "ok",
     "timestamp": 1597403217088,
     "user": {
      "displayName": "yulya sot",
      "photoUrl": "https://lh6.googleusercontent.com/-ly9qpHtKZbM/AAAAAAAAAAI/AAAAAAAAAHs/3g5vNREGJNw/s64/photo.jpg",
      "userId": "08271027061435931011"
     },
     "user_tz": -120
    },
    "id": "xvQ0BFOH-jWu",
    "outputId": "e9be7d4d-81fe-4fac-a96b-bf4c6b96c61b"
   },
   "outputs": [
    {
     "data": {
      "image/png": "[encoded data removed]",
      "text/plain": [
       "<Figure size 360x360 with 1 Axes>"
      ]
     },
     "metadata": {
      "needs_background": "light",
      "tags": []
     },
     "output_type": "display_data"
    }
   ],
   "source": [
    "from operator import itemgetter \n",
    "\n",
    "img_file = '1006-img2.png'\n",
    "\n",
    "plt.figure(figsize=(5,5))\n",
    "\n",
    "img = image.imread(img_file).asnumpy()\n",
    "\n",
    "# labels = get_detected_labels(img_file.split('.')[0])\n",
    "labels = []\n",
    "\n",
    "to_display = top0\n",
    "fig = d2l.plt.imshow(img)\n",
    "\n",
    "boxes = [top_bboxes[1]]\n",
    "# for b in top_bboxes:\n",
    "#   boxes.append(b)\n",
    "\n",
    "boxes.append(gt_bboxes[1006]['biggest_bboxes'][2][0])\n",
    "show_bboxes(fig.axes, boxes)\n",
    "\n",
    "# to_display = iou_info[0]['target_bboxes'][1]\n",
    "fig = d2l.plt.imshow(img)\n",
    "\n",
    "# show_bboxes(fig.axes, top_bboxes,\n",
    "#             labels)"
   ]
  },
  {
   "cell_type": "code",
   "execution_count": null,
   "metadata": {
    "colab": {
     "base_uri": "https://localhost:8080/",
     "height": 111
    },
    "colab_type": "code",
    "executionInfo": {
     "elapsed": 524,
     "status": "ok",
     "timestamp": 1597401751173,
     "user": {
      "displayName": "yulya sot",
      "photoUrl": "https://lh6.googleusercontent.com/-ly9qpHtKZbM/AAAAAAAAAAI/AAAAAAAAAHs/3g5vNREGJNw/s64/photo.jpg",
      "userId": "08271027061435931011"
     },
     "user_tz": -120
    },
    "id": "8eGThu1gjyEo",
    "outputId": "df830dfc-0173-48ae-f5d3-506fb35033bf"
   },
   "outputs": [
    {
     "name": "stdout",
     "output_type": "stream",
     "text": [
      "0 0.0\n",
      "1 0.6229362506238719\n",
      "2 0.277076715220451\n",
      "3 0.0\n",
      "4 0.0\n"
     ]
    }
   ],
   "source": [
    "for i, b in enumerate(top_bboxes):    \n",
    "  iou = bb_intersection_over_union(gt_bboxes[1006]['biggest_bboxes'][2][0], b)\n",
    "  print(i, iou)"
   ]
  },
  {
   "cell_type": "code",
   "execution_count": null,
   "metadata": {
    "colab": {
     "base_uri": "https://localhost:8080/",
     "height": 111
    },
    "colab_type": "code",
    "executionInfo": {
     "elapsed": 480,
     "status": "ok",
     "timestamp": 1597403949418,
     "user": {
      "displayName": "yulya sot",
      "photoUrl": "https://lh6.googleusercontent.com/-ly9qpHtKZbM/AAAAAAAAAAI/AAAAAAAAAHs/3g5vNREGJNw/s64/photo.jpg",
      "userId": "08271027061435931011"
     },
     "user_tz": -120
    },
    "id": "ViPVwCUNoKaX",
    "outputId": "556d6955-0dee-466e-e50b-4bb59b55d8cc"
   },
   "outputs": [
    {
     "name": "stdout",
     "output_type": "stream",
     "text": [
      "0 0.0\n",
      "1 0.3103228734802371\n",
      "2 0.0\n",
      "3 0.25317743486109173\n",
      "4 0.0\n"
     ]
    }
   ],
   "source": [
    "for i, b in enumerate(top_bboxes):    \n",
    "  iou = bb_intersection_over_union(gt_bboxes[759]['target_bboxes'][0], b)\n",
    "  print(i, iou)"
   ]
  },
  {
   "cell_type": "code",
   "execution_count": null,
   "metadata": {
    "colab": {
     "base_uri": "https://localhost:8080/",
     "height": 362
    },
    "colab_type": "code",
    "executionInfo": {
     "elapsed": 771,
     "status": "ok",
     "timestamp": 1597403143209,
     "user": {
      "displayName": "yulya sot",
      "photoUrl": "https://lh6.googleusercontent.com/-ly9qpHtKZbM/AAAAAAAAAAI/AAAAAAAAAHs/3g5vNREGJNw/s64/photo.jpg",
      "userId": "08271027061435931011"
     },
     "user_tz": -120
    },
    "id": "7EP76K0TAXor",
    "outputId": "63ab1f45-7819-4ede-c6ec-55a15ec46d6d"
   },
   "outputs": [
    {
     "name": "stdout",
     "output_type": "stream",
     "text": [
      "[array([187.47957, 193.45874, 338.9198 , 335.88757], dtype=float32), [214, 208, 328, 266], array([132.04669 ,   7.521473, 190.1398  ,  40.78276 ], dtype=float32)]\n"
     ]
    },
    {
     "data": {
      "image/png": "[encoded data removed]",
      "text/plain": [
       "<Figure size 360x360 with 1 Axes>"
      ]
     },
     "metadata": {
      "needs_background": "light",
      "tags": []
     },
     "output_type": "display_data"
    }
   ],
   "source": [
    "from operator import itemgetter \n",
    "\n",
    "img_file = '759-img0.png'\n",
    "\n",
    "plt.figure(figsize=(5,5))\n",
    "\n",
    "img = image.imread(img_file).asnumpy()\n",
    "\n",
    "# labels = get_detected_labels(img_file.split('.')[0])\n",
    "labels = []\n",
    "\n",
    "to_display = top0\n",
    "fig = d2l.plt.imshow(img)\n",
    "\n",
    "boxes = [top_bboxes[1], gt_bboxes[759]['target_bboxes'][0], top_bboxes[4]]\n",
    "print(boxes)\n",
    "# boxes = []\n",
    "# for b in top_bboxes:\n",
    "#   boxes.append(b)\n",
    "\n",
    "boxes.append(gt_bboxes[759]['smallest_bboxes'][0][0])\n",
    "show_bboxes(fig.axes, boxes)\n",
    "\n",
    "# to_display = iou_info[0]['target_bboxes'][1]\n",
    "fig = d2l.plt.imshow(img)\n",
    "\n",
    "# show_bboxes(fig.axes, top_bboxes,\n",
    "#             labels)"
   ]
  }
 ],
 "metadata": {
  "colab": {
   "authorship_tag": "ABX9TyMzATSCGKwyU528GxUX/3mz",
   "collapsed_sections": [],
   "mount_file_id": "1_MFUo0LAsCh43VZgHaEYLIFH3OF78cBf",
   "name": "analysis_IoU.ipynb",
   "provenance": [],
   "toc_visible": true
  },
  "kernelspec": {
   "display_name": "Python 3",
   "language": "python",
   "name": "python3"
  },
  "language_info": {
   "codemirror_mode": {
    "name": "ipython",
    "version": 3
   },
   "file_extension": ".py",
   "mimetype": "text/x-python",
   "name": "python",
   "nbconvert_exporter": "python",
   "pygments_lexer": "ipython3",
   "version": "3.8.5"
  }
 },
 "nbformat": 4,
 "nbformat_minor": 1
}
