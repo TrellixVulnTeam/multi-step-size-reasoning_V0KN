{
 "cells": [
  {
   "cell_type": "code",
   "execution_count": null,
   "metadata": {
    "colab": {},
    "colab_type": "code",
    "id": "UIRNKQQ2t4hu"
   },
   "outputs": [],
   "source": [
    "import numpy as np"
   ]
  },
  {
   "cell_type": "code",
   "execution_count": null,
   "metadata": {
    "colab": {},
    "colab_type": "code",
    "id": "2Ta3R09_uI1Z"
   },
   "outputs": [],
   "source": [
    "atts=np.load(\"/content/drive/My Drive/att_scores_out_3img/0.npy\", allow_pickle=True)"
   ]
  },
  {
   "cell_type": "code",
   "execution_count": null,
   "metadata": {
    "colab": {},
    "colab_type": "code",
    "id": "aATXPW6xuTps"
   },
   "outputs": [],
   "source": [
    "scores = atts.item().get('cross')"
   ]
  },
  {
   "cell_type": "code",
   "execution_count": null,
   "metadata": {
    "colab": {
     "base_uri": "https://localhost:8080/",
     "height": 241
    },
    "colab_type": "code",
    "executionInfo": {
     "elapsed": 13022,
     "status": "ok",
     "timestamp": 1597244130157,
     "user": {
      "displayName": "yulya sot",
      "photoUrl": "https://lh6.googleusercontent.com/-ly9qpHtKZbM/AAAAAAAAAAI/AAAAAAAAAHs/3g5vNREGJNw/s64/photo.jpg",
      "userId": "08271027061435931011"
     },
     "user_tz": -120
    },
    "id": "sdvoQOUtuZzC",
    "outputId": "de563838-f5dd-46df-9c48-ea2293c6d91c"
   },
   "outputs": [
    {
     "name": "stdout",
     "output_type": "stream",
     "text": [
      "10\n",
      "(750, 12, 20, 36)\n",
      "(750, 12, 36, 20)\n",
      "(750, 12, 20, 36)\n",
      "(750, 12, 36, 20)\n",
      "(750, 12, 20, 36)\n",
      "(750, 12, 36, 20)\n",
      "(750, 12, 20, 36)\n",
      "(750, 12, 36, 20)\n",
      "(750, 12, 20, 36)\n",
      "(750, 12, 36, 20)\n",
      "(3, 20, 36)\n"
     ]
    }
   ],
   "source": [
    "print(len(scores))\n",
    "for s in scores:\n",
    "  print(s.shape)\n",
    "print(scores[0][0:3][:, 4].shape)"
   ]
  },
  {
   "cell_type": "markdown",
   "metadata": {
    "colab_type": "text",
    "id": "vWd8hz9_V94c"
   },
   "source": [
    "## Language Encoder"
   ]
  },
  {
   "cell_type": "code",
   "execution_count": null,
   "metadata": {
    "colab": {},
    "colab_type": "code",
    "id": "rq3lC343uc0x"
   },
   "outputs": [],
   "source": [
    "import json\n",
    "import matplotlib.pyplot as plt\n",
    "import numpy as np\n",
    "import seaborn\n",
    "\n",
    "dataset_path = \"/content/drive/My Drive/att_scores_out_3img/test.json\"\n",
    "\n",
    "def get_question_tokens(ques_id):\n",
    "\n",
    "  with open(dataset_path) as f:\n",
    "    dataset = json.load(f)\n",
    "\n",
    "  ques_string = dataset[ques_id]['sent'].lower()\n",
    "  # ques_tokens = ['[cls]']\n",
    "  ques_tokens = []\n",
    "  ques_tokens.extend(ques_string.split())\n",
    "  ques_tokens.append('[eos]')\n",
    "\n",
    "  return ques_tokens\n",
    "\n",
    "def plot_lang_attention(ques_id, layers, heads):\n",
    "\n",
    "  sent = get_question_tokens(ques_id)\n",
    "  sent = sent[:14]\n",
    "\n",
    "  ques_id *= 3\n",
    "\n",
    "  for layer in layers:\n",
    "    for att_head in heads:\n",
    "\n",
    "      sample = atts.item().get('lang')[layer][ques_id][att_head][1:14, 1:14]\n",
    "      # sample = atts.item().get('lang')[layer][i0:i1][:,att_head,:14,:14].reshape(14,-1)\n",
    "\n",
    "      fig, ax = plt.subplots(figsize=(6,6))\n",
    "      ax.set_title(\"Image 0, Language layer %d, head %d\" % (layer, att_head))\n",
    "      seaborn.heatmap(sample, cmap=\"Blues\")\n",
    "      ax.xaxis.set_ticks_position('top')\n",
    "      plt.rcParams['ytick.left'] = True\n",
    "      plt.xticks(np.arange(len(sent))+0.5, sent, rotation=65)\n",
    "      plt.yticks(np.arange(len(sent))+0.5, sent, rotation=0)\n",
    "      ax.set_aspect(\"equal\")\n",
    "      ax.figure.axes[-1].yaxis.label.set_size(50)\n",
    "      plt.show()\n",
    "\n",
    "      sample = atts.item().get('lang')[layer][ques_id+1][att_head][1:14, 1:14]\n",
    "      # sample = atts.item().get('lang')[layer][i0:i1][:,att_head,:14,:14].reshape(14,-1)\n",
    "\n",
    "      fig, ax = plt.subplots(figsize=(6,6))\n",
    "      ax.set_title(\"Image 1, Language layer %d, head %d\" % (layer, att_head))\n",
    "      seaborn.heatmap(sample, cmap=\"Blues\")\n",
    "      ax.xaxis.set_ticks_position('top')\n",
    "      plt.rcParams['ytick.left'] = True\n",
    "      plt.xticks(np.arange(len(sent))+0.5, sent, rotation=65)\n",
    "      plt.yticks(np.arange(len(sent))+0.5, sent, rotation=0)\n",
    "      ax.set_aspect(\"equal\")\n",
    "      ax.figure.axes[-1].yaxis.label.set_size(50)\n",
    "      plt.show()\n",
    "\n",
    "      sample = atts.item().get('lang')[layer][ques_id+2][att_head][1:14, 1:14]\n",
    "      # sample = atts.item().get('lang')[layer][i0:i1][:,att_head,:14,:14].reshape(14,-1)\n",
    "\n",
    "      fig, ax = plt.subplots(figsize=(6,6))\n",
    "      ax.set_title(\"Image 2, Language layer %d, head %d\" % (layer, att_head))\n",
    "      seaborn.heatmap(sample, cmap=\"Blues\")\n",
    "      ax.xaxis.set_ticks_position('top')\n",
    "      plt.rcParams['ytick.left'] = True\n",
    "      plt.xticks(np.arange(len(sent))+0.5, sent, rotation=65)\n",
    "      plt.yticks(np.arange(len(sent))+0.5, sent, rotation=0)\n",
    "      ax.set_aspect(\"equal\")\n",
    "      ax.figure.axes[-1].yaxis.label.set_size(50)\n",
    "      plt.show()"
   ]
  },
  {
   "cell_type": "code",
   "execution_count": null,
   "metadata": {
    "colab": {
     "base_uri": "https://localhost:8080/",
     "height": 1000,
     "output_embedded_package_id": "1aTINSx-bUCXLTv86zYH22N5VNXINj03E"
    },
    "colab_type": "code",
    "executionInfo": {
     "elapsed": 132360,
     "status": "ok",
     "timestamp": 1597170226034,
     "user": {
      "displayName": "yulya sot",
      "photoUrl": "https://lh6.googleusercontent.com/-ly9qpHtKZbM/AAAAAAAAAAI/AAAAAAAAAHs/3g5vNREGJNw/s64/photo.jpg",
      "userId": "08271027061435931011"
     },
     "user_tz": -120
    },
    "id": "1Q-k5TIAzLvt",
    "outputId": "a391b1e9-a328-4093-9e2d-bda7f48517c9"
   },
   "outputs": [
    {
     "data": {
      "text/plain": [
       "Output hidden; open in https://colab.research.google.com to view."
      ]
     },
     "metadata": {},
     "output_type": "display_data"
    }
   ],
   "source": [
    "ques_id = 0\n",
    "# layers = [0, 1, 7, 8]\n",
    "# heads = [0,2,4,6,8,11]\n",
    "layers = range(0,9)\n",
    "heads = range(0, 12)\n",
    "plot_lang_attention(ques_id, layers, heads)"
   ]
  },
  {
   "cell_type": "code",
   "execution_count": null,
   "metadata": {
    "colab": {
     "base_uri": "https://localhost:8080/",
     "height": 1000,
     "output_embedded_package_id": "1EDWdoLOavSgUn_l-rp3sIxTxbDPEZBb5"
    },
    "colab_type": "code",
    "executionInfo": {
     "elapsed": 146654,
     "status": "ok",
     "timestamp": 1597223282466,
     "user": {
      "displayName": "yulya sot",
      "photoUrl": "https://lh6.googleusercontent.com/-ly9qpHtKZbM/AAAAAAAAAAI/AAAAAAAAAHs/3g5vNREGJNw/s64/photo.jpg",
      "userId": "08271027061435931011"
     },
     "user_tz": -120
    },
    "id": "WYqYXdwZ6sUL",
    "outputId": "0fbb4fd8-53df-40e6-b316-115e431ff6b3"
   },
   "outputs": [
    {
     "data": {
      "text/plain": [
       "Output hidden; open in https://colab.research.google.com to view."
      ]
     },
     "metadata": {},
     "output_type": "display_data"
    }
   ],
   "source": [
    "ques_id = 2\n",
    "# layers = [0, 1, 7, 8]\n",
    "# heads = [0,2,4,6,8,11]\n",
    "layers = range(0,9)\n",
    "heads = range(0, 12)\n",
    "plot_lang_attention(ques_id, layers, heads)"
   ]
  },
  {
   "cell_type": "markdown",
   "metadata": {
    "colab_type": "text",
    "id": "1tznJXZcXJ2U"
   },
   "source": [
    "## Visual Encoder"
   ]
  },
  {
   "cell_type": "code",
   "execution_count": null,
   "metadata": {
    "colab": {
     "base_uri": "https://localhost:8080/",
     "height": 1000
    },
    "colab_type": "code",
    "executionInfo": {
     "elapsed": 57049,
     "status": "ok",
     "timestamp": 1597244182468,
     "user": {
      "displayName": "yulya sot",
      "photoUrl": "https://lh6.googleusercontent.com/-ly9qpHtKZbM/AAAAAAAAAAI/AAAAAAAAAHs/3g5vNREGJNw/s64/photo.jpg",
      "userId": "08271027061435931011"
     },
     "user_tz": -120
    },
    "id": "IT8lIEmRzdXG",
    "outputId": "d2f335f8-43b0-4ca6-b38e-111b6c4b50e6"
   },
   "outputs": [
    {
     "name": "stdout",
     "output_type": "stream",
     "text": [
      "Requirement already satisfied: mxnet==1.6.0 in /usr/local/lib/python3.6/dist-packages (1.6.0)\n",
      "Requirement already satisfied: requests<3,>=2.20.0 in /usr/local/lib/python3.6/dist-packages (from mxnet==1.6.0) (2.23.0)\n",
      "Requirement already satisfied: numpy<2.0.0,>1.16.0 in /usr/local/lib/python3.6/dist-packages (from mxnet==1.6.0) (1.18.5)\n",
      "Requirement already satisfied: graphviz<0.9.0,>=0.8.1 in /usr/local/lib/python3.6/dist-packages (from mxnet==1.6.0) (0.8.4)\n",
      "Requirement already satisfied: chardet<4,>=3.0.2 in /usr/local/lib/python3.6/dist-packages (from requests<3,>=2.20.0->mxnet==1.6.0) (3.0.4)\n",
      "Requirement already satisfied: urllib3!=1.25.0,!=1.25.1,<1.26,>=1.21.1 in /usr/local/lib/python3.6/dist-packages (from requests<3,>=2.20.0->mxnet==1.6.0) (1.24.3)\n",
      "Requirement already satisfied: idna<3,>=2.5 in /usr/local/lib/python3.6/dist-packages (from requests<3,>=2.20.0->mxnet==1.6.0) (2.10)\n",
      "Requirement already satisfied: certifi>=2017.4.17 in /usr/local/lib/python3.6/dist-packages (from requests<3,>=2.20.0->mxnet==1.6.0) (2020.6.20)\n",
      "Looking in links: https://d2l.ai/whl.html\n",
      "Requirement already up-to-date: d2l in /usr/local/lib/python3.6/dist-packages (0.14.3)\n",
      "Requirement already satisfied, skipping upgrade: jupyter in /usr/local/lib/python3.6/dist-packages (from d2l) (1.0.0)\n",
      "Requirement already satisfied, skipping upgrade: numpy in /usr/local/lib/python3.6/dist-packages (from d2l) (1.18.5)\n",
      "Requirement already satisfied, skipping upgrade: pandas in /usr/local/lib/python3.6/dist-packages (from d2l) (1.0.5)\n",
      "Requirement already satisfied, skipping upgrade: matplotlib in /usr/local/lib/python3.6/dist-packages (from d2l) (3.2.2)\n",
      "Requirement already satisfied, skipping upgrade: qtconsole in /usr/local/lib/python3.6/dist-packages (from jupyter->d2l) (4.7.5)\n",
      "Requirement already satisfied, skipping upgrade: notebook in /usr/local/lib/python3.6/dist-packages (from jupyter->d2l) (5.3.1)\n",
      "Requirement already satisfied, skipping upgrade: ipywidgets in /usr/local/lib/python3.6/dist-packages (from jupyter->d2l) (7.5.1)\n",
      "Requirement already satisfied, skipping upgrade: ipykernel in /usr/local/lib/python3.6/dist-packages (from jupyter->d2l) (4.10.1)\n",
      "Requirement already satisfied, skipping upgrade: jupyter-console in /usr/local/lib/python3.6/dist-packages (from jupyter->d2l) (5.2.0)\n",
      "Requirement already satisfied, skipping upgrade: nbconvert in /usr/local/lib/python3.6/dist-packages (from jupyter->d2l) (5.6.1)\n",
      "Requirement already satisfied, skipping upgrade: pytz>=2017.2 in /usr/local/lib/python3.6/dist-packages (from pandas->d2l) (2018.9)\n",
      "Requirement already satisfied, skipping upgrade: python-dateutil>=2.6.1 in /usr/local/lib/python3.6/dist-packages (from pandas->d2l) (2.8.1)\n",
      "Requirement already satisfied, skipping upgrade: cycler>=0.10 in /usr/local/lib/python3.6/dist-packages (from matplotlib->d2l) (0.10.0)\n",
      "Requirement already satisfied, skipping upgrade: pyparsing!=2.0.4,!=2.1.2,!=2.1.6,>=2.0.1 in /usr/local/lib/python3.6/dist-packages (from matplotlib->d2l) (2.4.7)\n",
      "Requirement already satisfied, skipping upgrade: kiwisolver>=1.0.1 in /usr/local/lib/python3.6/dist-packages (from matplotlib->d2l) (1.2.0)\n",
      "Requirement already satisfied, skipping upgrade: traitlets in /usr/local/lib/python3.6/dist-packages (from qtconsole->jupyter->d2l) (4.3.3)\n",
      "Requirement already satisfied, skipping upgrade: pyzmq>=17.1 in /usr/local/lib/python3.6/dist-packages (from qtconsole->jupyter->d2l) (19.0.2)\n",
      "Requirement already satisfied, skipping upgrade: jupyter-client>=4.1 in /usr/local/lib/python3.6/dist-packages (from qtconsole->jupyter->d2l) (5.3.5)\n",
      "Requirement already satisfied, skipping upgrade: ipython-genutils in /usr/local/lib/python3.6/dist-packages (from qtconsole->jupyter->d2l) (0.2.0)\n",
      "Requirement already satisfied, skipping upgrade: pygments in /usr/local/lib/python3.6/dist-packages (from qtconsole->jupyter->d2l) (2.1.3)\n",
      "Requirement already satisfied, skipping upgrade: qtpy in /usr/local/lib/python3.6/dist-packages (from qtconsole->jupyter->d2l) (1.9.0)\n",
      "Requirement already satisfied, skipping upgrade: jupyter-core in /usr/local/lib/python3.6/dist-packages (from qtconsole->jupyter->d2l) (4.6.3)\n",
      "Requirement already satisfied, skipping upgrade: nbformat in /usr/local/lib/python3.6/dist-packages (from notebook->jupyter->d2l) (5.0.7)\n",
      "Requirement already satisfied, skipping upgrade: Send2Trash in /usr/local/lib/python3.6/dist-packages (from notebook->jupyter->d2l) (1.5.0)\n",
      "Requirement already satisfied, skipping upgrade: tornado>=4 in /usr/local/lib/python3.6/dist-packages (from notebook->jupyter->d2l) (5.1.1)\n",
      "Requirement already satisfied, skipping upgrade: jinja2 in /usr/local/lib/python3.6/dist-packages (from notebook->jupyter->d2l) (2.11.2)\n",
      "Requirement already satisfied, skipping upgrade: terminado>=0.8.1 in /usr/local/lib/python3.6/dist-packages (from notebook->jupyter->d2l) (0.8.3)\n",
      "Requirement already satisfied, skipping upgrade: ipython>=4.0.0; python_version >= \"3.3\" in /usr/local/lib/python3.6/dist-packages (from ipywidgets->jupyter->d2l) (5.5.0)\n",
      "Requirement already satisfied, skipping upgrade: widgetsnbextension~=3.5.0 in /usr/local/lib/python3.6/dist-packages (from ipywidgets->jupyter->d2l) (3.5.1)\n",
      "Requirement already satisfied, skipping upgrade: prompt-toolkit<2.0.0,>=1.0.0 in /usr/local/lib/python3.6/dist-packages (from jupyter-console->jupyter->d2l) (1.0.18)\n",
      "Requirement already satisfied, skipping upgrade: defusedxml in /usr/local/lib/python3.6/dist-packages (from nbconvert->jupyter->d2l) (0.6.0)\n",
      "Requirement already satisfied, skipping upgrade: mistune<2,>=0.8.1 in /usr/local/lib/python3.6/dist-packages (from nbconvert->jupyter->d2l) (0.8.4)\n",
      "Requirement already satisfied, skipping upgrade: entrypoints>=0.2.2 in /usr/local/lib/python3.6/dist-packages (from nbconvert->jupyter->d2l) (0.3)\n",
      "Requirement already satisfied, skipping upgrade: testpath in /usr/local/lib/python3.6/dist-packages (from nbconvert->jupyter->d2l) (0.4.4)\n",
      "Requirement already satisfied, skipping upgrade: bleach in /usr/local/lib/python3.6/dist-packages (from nbconvert->jupyter->d2l) (3.1.5)\n",
      "Requirement already satisfied, skipping upgrade: pandocfilters>=1.4.1 in /usr/local/lib/python3.6/dist-packages (from nbconvert->jupyter->d2l) (1.4.2)\n",
      "Requirement already satisfied, skipping upgrade: six>=1.5 in /usr/local/lib/python3.6/dist-packages (from python-dateutil>=2.6.1->pandas->d2l) (1.15.0)\n",
      "Requirement already satisfied, skipping upgrade: decorator in /usr/local/lib/python3.6/dist-packages (from traitlets->qtconsole->jupyter->d2l) (4.4.2)\n",
      "Requirement already satisfied, skipping upgrade: jsonschema!=2.5.0,>=2.4 in /usr/local/lib/python3.6/dist-packages (from nbformat->notebook->jupyter->d2l) (2.6.0)\n",
      "Requirement already satisfied, skipping upgrade: MarkupSafe>=0.23 in /usr/local/lib/python3.6/dist-packages (from jinja2->notebook->jupyter->d2l) (1.1.1)\n",
      "Requirement already satisfied, skipping upgrade: ptyprocess; os_name != \"nt\" in /usr/local/lib/python3.6/dist-packages (from terminado>=0.8.1->notebook->jupyter->d2l) (0.6.0)\n",
      "Requirement already satisfied, skipping upgrade: simplegeneric>0.8 in /usr/local/lib/python3.6/dist-packages (from ipython>=4.0.0; python_version >= \"3.3\"->ipywidgets->jupyter->d2l) (0.8.1)\n",
      "Requirement already satisfied, skipping upgrade: setuptools>=18.5 in /usr/local/lib/python3.6/dist-packages (from ipython>=4.0.0; python_version >= \"3.3\"->ipywidgets->jupyter->d2l) (49.2.0)\n",
      "Requirement already satisfied, skipping upgrade: pickleshare in /usr/local/lib/python3.6/dist-packages (from ipython>=4.0.0; python_version >= \"3.3\"->ipywidgets->jupyter->d2l) (0.7.5)\n",
      "Requirement already satisfied, skipping upgrade: pexpect; sys_platform != \"win32\" in /usr/local/lib/python3.6/dist-packages (from ipython>=4.0.0; python_version >= \"3.3\"->ipywidgets->jupyter->d2l) (4.8.0)\n",
      "Requirement already satisfied, skipping upgrade: wcwidth in /usr/local/lib/python3.6/dist-packages (from prompt-toolkit<2.0.0,>=1.0.0->jupyter-console->jupyter->d2l) (0.2.5)\n",
      "Requirement already satisfied, skipping upgrade: webencodings in /usr/local/lib/python3.6/dist-packages (from bleach->nbconvert->jupyter->d2l) (0.5.1)\n",
      "Requirement already satisfied, skipping upgrade: packaging in /usr/local/lib/python3.6/dist-packages (from bleach->nbconvert->jupyter->d2l) (20.4)\n",
      "Start to load Faster-RCNN detected objects from /content/drive/My Drive/out_correct_order/test_obj36.tsv\n"
     ]
    }
   ],
   "source": [
    "!pip install mxnet==1.6.0\n",
    "!pip install -U d2l -f https://d2l.ai/whl.html\n",
    "\n",
    "import sys\n",
    "import csv\n",
    "import base64\n",
    "import time\n",
    "%matplotlib inline\n",
    "from d2l import mxnet as d2l\n",
    "from mxnet import image, npx\n",
    "import numpy as np\n",
    "import matplotlib.pyplot as plt\n",
    "\n",
    "npx.set_np()\n",
    "\n",
    "maxInt = sys.maxsize\n",
    "\n",
    "while True:\n",
    "    # decrease the maxInt value by factor 10 \n",
    "    # as long as the OverflowError occurs.\n",
    "    try:\n",
    "        csv.field_size_limit(maxInt)\n",
    "        break\n",
    "    except OverflowError:\n",
    "        maxInt = int(maxInt/10)\n",
    "\n",
    "FIELDNAMES = [\"img_id\", \"img_h\", \"img_w\", \"objects_id\", \"objects_conf\",\n",
    "              \"attrs_id\", \"attrs_conf\", \"num_boxes\", \"boxes\", \"features\"]\n",
    "\n",
    "def load_obj_tsv(fname, topk=None):\n",
    "\n",
    "    data = []\n",
    "    start_time = time.time()\n",
    "    print(\"Start to load Faster-RCNN detected objects from %s\" % fname)\n",
    "    with open(fname) as f:\n",
    "        reader = csv.DictReader(f, FIELDNAMES, delimiter=\"\\t\")\n",
    "        for i, item in enumerate(reader):\n",
    "\n",
    "            for key in ['img_h', 'img_w', 'num_boxes']:\n",
    "                item[key] = int(item[key])\n",
    "            \n",
    "            boxes = item['num_boxes']\n",
    "            decode_config = [\n",
    "                ('objects_id', (boxes, ), np.int64),\n",
    "                ('objects_conf', (boxes, ), np.float32),\n",
    "                ('attrs_id', (boxes, ), np.int64),\n",
    "                ('attrs_conf', (boxes, ), np.float32),\n",
    "                ('boxes', (boxes, 4), np.float32),\n",
    "                ('features', (boxes, -1), np.float32),\n",
    "            ]\n",
    "            for key, shape, dtype in decode_config:\n",
    "                item[key] = np.frombuffer(base64.b64decode(item[key]), dtype=dtype)\n",
    "                item[key] = item[key].reshape(shape)\n",
    "                item[key].setflags(write=False)\n",
    "            \n",
    "            data.append(item)\n",
    "            if topk is not None and len(data) == topk:\n",
    "                break\n",
    "    return data\n",
    "\n",
    "rcnn_data = load_obj_tsv(\"/content/drive/My Drive/out_correct_order/test_obj36.tsv\")"
   ]
  },
  {
   "cell_type": "code",
   "execution_count": null,
   "metadata": {
    "colab": {},
    "colab_type": "code",
    "id": "6QdMsI-vXViH"
   },
   "outputs": [],
   "source": [
    "import json\n",
    "\n",
    "dataset_path = \"/content/drive/My Drive/att_scores_out_3img/test.json\"\n",
    "\n",
    "def get_question_tokens(ques_id):\n",
    "\n",
    "  with open(dataset_path) as f:\n",
    "    dataset = json.load(f)\n",
    "\n",
    "  ques_string = dataset[ques_id]['sent'].lower()\n",
    "  ques_tokens = ['[cls]']\n",
    "  ques_tokens.extend(ques_string.split())\n",
    "  ques_tokens.append('[eos]')\n",
    "\n",
    "  return ques_tokens\n",
    "\n",
    "def get_image_data(ques_id):\n",
    "\n",
    "  scene_data = []\n",
    "\n",
    "  with open(dataset_path) as f:\n",
    "    dataset = json.load(f)\n",
    "\n",
    "  img0_id = dataset[ques_id]['img0']\n",
    "  img1_id = dataset[ques_id]['img1']\n",
    "  img2_id = dataset[ques_id]['img2']\n",
    "\n",
    "  for img_id in [img0_id, img1_id, img2_id]:\n",
    "    for datum in rcnn_data:\n",
    "      if datum['img_id'] == img_id:\n",
    "        scene_data.append(datum)\n",
    "  \n",
    "  return scene_data"
   ]
  },
  {
   "cell_type": "code",
   "execution_count": null,
   "metadata": {
    "colab": {},
    "colab_type": "code",
    "id": "6e3Uj6ToYgQr"
   },
   "outputs": [],
   "source": [
    "def get_detected_labels(ques_id):\n",
    "\n",
    "  scene_data = get_image_data(ques_id)\n",
    "  with open(\"/content/drive/My Drive/att_scores_out/objects_vocab.txt\") as f:\n",
    "    objects = f.readlines()\n",
    "  objects = [x.strip() for x in objects] \n",
    "\n",
    "  with open(\"/content/drive/My Drive/att_scores_out/attributes_vocab.txt\") as f:\n",
    "    attributes = f.readlines()\n",
    "  attributes = [x.strip() for x in attributes] \n",
    "\n",
    "\n",
    "  scenes_obj = []\n",
    "  scenes_attrs = []\n",
    "\n",
    "  for data in scene_data:\n",
    "    detected_obj = []\n",
    "    for oid in data['objects_id']:\n",
    "      detected_obj.append(objects[oid])\n",
    "    scenes_obj.append(detected_obj)\n",
    "\n",
    "  for data in scene_data:\n",
    "    detected_attrs = []\n",
    "    for aid in data['attrs_id']:\n",
    "      detected_attrs.append(attributes[aid])\n",
    "    scenes_attrs.append(detected_attrs)\n",
    "\n",
    "  scene_labels = []\n",
    "  for j, detected_obj in enumerate(scenes_obj):\n",
    "    labels = []\n",
    "    for i, o in enumerate(detected_obj):\n",
    "      labels.append(str(i) + ': ' + o + ' ' + scenes_attrs[j][i])\n",
    "    scene_labels.append(labels)\n",
    "\n",
    "  return scene_labels"
   ]
  },
  {
   "cell_type": "code",
   "execution_count": null,
   "metadata": {
    "colab": {},
    "colab_type": "code",
    "id": "CbAptx0ceNhr"
   },
   "outputs": [],
   "source": [
    "p = get_detected_labels(0)"
   ]
  },
  {
   "cell_type": "code",
   "execution_count": null,
   "metadata": {
    "colab": {},
    "colab_type": "code",
    "id": "NHIotYYIbBpc"
   },
   "outputs": [],
   "source": [
    "def plot_visual_attention(ques_id, layers, heads):\n",
    "  \n",
    "  tmp_labels = get_detected_labels(ques_id)\n",
    "  # labels = [row[:10] for row in tmp_labels]\n",
    "  labels = tmp_labels\n",
    "\n",
    "  ques_id *= 3\n",
    "\n",
    "  for layer in layers:\n",
    "    for att_head in heads:\n",
    "\n",
    "      sample = atts.item().get('vision')[layer][ques_id][att_head][:19,:19]\n",
    "\n",
    "      fig, ax = plt.subplots(figsize=(8,8))\n",
    "      ax.set_title(\"Image 0, Vision layer %d, head %d\" % (layer, att_head))\n",
    "      seaborn.heatmap(sample, cmap=\"Blues\")\n",
    "      ax.xaxis.set_ticks_position('top')\n",
    "      plt.rcParams['ytick.left'] = True\n",
    "      plt.xticks(np.arange(len(labels[0][:19]))+0.5, labels[0][:19], rotation=90, fontsize=13)\n",
    "      plt.yticks(np.arange(len(labels[0][:19]))+0.3, labels[0][:19], rotation=45, fontsize=13)\n",
    "      ax.set_aspect(\"equal\")\n",
    "      # ax.figure.axes[-1].yaxis.label.set_size(25)\n",
    "      plt.show()\n",
    "\n",
    "      sample = atts.item().get('vision')[layer][ques_id+1][att_head][:19,:19]\n",
    "\n",
    "      fig, ax = plt.subplots(figsize=(8,8))\n",
    "      ax.set_title(\"Image 1, Vision layer %d, head %d\" % (layer, att_head))\n",
    "      seaborn.heatmap(sample, cmap=\"Blues\")\n",
    "      ax.xaxis.set_ticks_position('top')\n",
    "      plt.rcParams['ytick.left'] = True\n",
    "      plt.xticks(np.arange(len(labels[1][:19]))+0.5, labels[1][:19], rotation=90, fontsize=13)\n",
    "      plt.yticks(np.arange(len(labels[1][:19]))+0.3, labels[1][:19], rotation=45, fontsize=13)\n",
    "      ax.set_aspect(\"equal\")\n",
    "      # ax.figure.axes[-1].yaxis.label.set_size(25)\n",
    "      plt.show()\n",
    "\n",
    "      sample = atts.item().get('vision')[layer][ques_id+2][att_head][:19,:19]\n",
    "\n",
    "      fig, ax = plt.subplots(figsize=(8,8))\n",
    "      ax.set_title(\"Image 2, Vision layer %d, head %d\" % (layer, att_head))\n",
    "      seaborn.heatmap(sample, cmap=\"Blues\")\n",
    "      ax.xaxis.set_ticks_position('top')\n",
    "      plt.rcParams['ytick.left'] = True\n",
    "      plt.xticks(np.arange(len(labels[2][:19]))+0.5, labels[2][:19], rotation=90, fontsize=13)\n",
    "      plt.yticks(np.arange(len(labels[2][:19]))+0.5, labels[2][:19], rotation=45, fontsize=13)\n",
    "      ax.set_aspect(\"equal\")\n",
    "      # ax.figure.axes[-1].yaxis.label.set_size(25)\n",
    "      plt.show()"
   ]
  },
  {
   "cell_type": "code",
   "execution_count": null,
   "metadata": {
    "colab": {
     "base_uri": "https://localhost:8080/",
     "height": 1000,
     "output_embedded_package_id": "1n2auGnZlP4t0RI4GniXyKzxo2IRkAGQ_"
    },
    "colab_type": "code",
    "executionInfo": {
     "elapsed": 89227,
     "status": "error",
     "timestamp": 1597236101074,
     "user": {
      "displayName": "yulya sot",
      "photoUrl": "https://lh6.googleusercontent.com/-ly9qpHtKZbM/AAAAAAAAAAI/AAAAAAAAAHs/3g5vNREGJNw/s64/photo.jpg",
      "userId": "08271027061435931011"
     },
     "user_tz": -120
    },
    "id": "h1T4RkvUdRsZ",
    "outputId": "de80675a-7b7d-4c6a-ad00-a180d995dedc"
   },
   "outputs": [
    {
     "data": {
      "text/plain": [
       "Output hidden; open in https://colab.research.google.com to view."
      ]
     },
     "metadata": {},
     "output_type": "display_data"
    }
   ],
   "source": [
    "ques_id = 64\n",
    "layers = range(0, 5)\n",
    "heads = range(0, 12)\n",
    "\n",
    "plot_visual_attention(ques_id, layers, heads)"
   ]
  },
  {
   "cell_type": "code",
   "execution_count": null,
   "metadata": {
    "colab": {},
    "colab_type": "code",
    "id": "mZvzwnEYdVQi"
   },
   "outputs": [],
   "source": [
    "def plot_cross_attention(ques_id, img_id, layers, heads):\n",
    "\n",
    "  tmp_labels = get_detected_labels(ques_id)\n",
    "  sent = get_question_tokens(ques_id)\n",
    "\n",
    "  # labels = [row[:10] for row in tmp_labels]\n",
    "  labels = tmp_labels\n",
    "  print(len(labels[0]))\n",
    "\n",
    "  ques_id *= 3\n",
    "\n",
    "  for layer in layers:\n",
    "    for att_head in heads:\n",
    "\n",
    "      sample = atts.item().get('cross')[layer][ques_id][att_head]\n",
    "    \n",
    "      if sample.shape[0] == 20:\n",
    "       \n",
    "        fig, ax = plt.subplots(figsize=(22,7))\n",
    "        ax.set_title(\"Image 0, Language-vision, layer %d, head %d\" % (layer, att_head))\n",
    "        plt.rcParams['ytick.left'] = True\n",
    "        sample = sample[:14, :36]\n",
    "        seaborn.heatmap(sample, cmap=\"Blues\")\n",
    "        ax.xaxis.set_ticks_position('top')\n",
    "        plt.xticks(np.arange(len(labels[0]))+0.5, labels[0], rotation=90, fontsize = 14)\n",
    "        plt.yticks(np.arange(len(sent[:14]))+0.5, sent[:14], rotation=45, fontsize = 14)\n",
    "        plt.show()\n",
    "      if sample.shape[0] == 36:\n",
    "        fig, ax = plt.subplots(figsize=(5,7))\n",
    "        ax.set_title(\"Image 0, Vision-language, layer %d, head %d\" % (layer, att_head), fontsize = 14)\n",
    "        plt.rcParams['ytick.left'] = True\n",
    "        sample = sample[:20, :14]\n",
    "        seaborn.heatmap(sample, cmap=\"Blues\")\n",
    "        ax.xaxis.set_ticks_position('top')\n",
    "        plt.yticks(np.arange(len(labels[0][:20]))+0.5, labels[0][:20], rotation=0, fontsize = 12)\n",
    "        plt.xticks(np.arange(len(sent[:14]))+0.5, sent[:14], rotation=45, fontsize = 12)\n",
    "        plt.show()\n",
    "\n",
    "      sample = atts.item().get('cross')[layer][ques_id+1][att_head]\n",
    "    \n",
    "      if sample.shape[0] == 20:\n",
    "       \n",
    "        fig, ax = plt.subplots(figsize=(22,7))\n",
    "        ax.set_title(\"Image 1, Language-vision, layer %d, head %d\" % (layer, att_head))\n",
    "        plt.rcParams['ytick.left'] = True\n",
    "        sample = sample[:14, :36]\n",
    "        seaborn.heatmap(sample, cmap=\"Blues\")\n",
    "        ax.xaxis.set_ticks_position('top')\n",
    "        plt.xticks(np.arange(len(labels[1]))+0.5, labels[1], rotation=90, fontsize = 14)\n",
    "        plt.yticks(np.arange(len(sent[:14]))+0.5, sent[:14], rotation=45, fontsize = 14)\n",
    "        plt.show()\n",
    "      if sample.shape[0] == 36:\n",
    "        fig, ax = plt.subplots(figsize=(5,7))\n",
    "        ax.set_title(\"Image 1, Vision-language, layer %d, head %d\" % (layer, att_head), fontsize = 14)\n",
    "        plt.rcParams['ytick.left'] = True\n",
    "        sample = sample[:20, :14]\n",
    "        seaborn.heatmap(sample, cmap=\"Blues\")\n",
    "        ax.xaxis.set_ticks_position('top')\n",
    "        plt.yticks(np.arange(len(labels[1][:20]))+0.5, labels[1][:20], rotation=0, fontsize = 12)\n",
    "        plt.xticks(np.arange(len(sent[:14]))+0.5, sent[:14], rotation=45, fontsize = 12)\n",
    "        plt.show()\n",
    "\n",
    "      sample = atts.item().get('cross')[layer][ques_id+2][att_head]\n",
    "    \n",
    "      if sample.shape[0] == 20:\n",
    "       \n",
    "        fig, ax = plt.subplots(figsize=(22,7))\n",
    "        ax.set_title(\"Image 2, Language-vision, layer %d, head %d\" % (layer, att_head))\n",
    "        plt.rcParams['ytick.left'] = True\n",
    "        sample = sample[:14, :36]\n",
    "        seaborn.heatmap(sample, cmap=\"Blues\")\n",
    "        ax.xaxis.set_ticks_position('top')\n",
    "        plt.xticks(np.arange(len(labels[2]))+0.5, labels[2], rotation=90, fontsize = 14)\n",
    "        plt.yticks(np.arange(len(sent[:14]))+0.5, sent[:14], rotation=45, fontsize = 14)\n",
    "        plt.show()\n",
    "      if sample.shape[0] == 36:\n",
    "        fig, ax = plt.subplots(figsize=(5,7))\n",
    "        ax.set_title(\"Image 2, Vision-language, layer %d, head %d\" % (layer, att_head), fontsize = 14)\n",
    "        plt.rcParams['ytick.left'] = True\n",
    "        sample = sample[:20, :14]\n",
    "        seaborn.heatmap(sample, cmap=\"Blues\")\n",
    "        ax.xaxis.set_ticks_position('top')\n",
    "        plt.yticks(np.arange(len(labels[2][:20]))+0.5, labels[2][:20], rotation=0, fontsize = 12)\n",
    "        plt.xticks(np.arange(len(sent[:14]))+0.5, sent[:14], rotation=45, fontsize = 12)\n",
    "        plt.show()"
   ]
  },
  {
   "cell_type": "code",
   "execution_count": null,
   "metadata": {
    "colab": {
     "base_uri": "https://localhost:8080/",
     "height": 1000,
     "output_embedded_package_id": "13mUnt0uARO_pwAclXq2SWD0ixUG5AZrR"
    },
    "colab_type": "code",
    "executionInfo": {
     "elapsed": 217369,
     "status": "ok",
     "timestamp": 1597244407263,
     "user": {
      "displayName": "yulya sot",
      "photoUrl": "https://lh6.googleusercontent.com/-ly9qpHtKZbM/AAAAAAAAAAI/AAAAAAAAAHs/3g5vNREGJNw/s64/photo.jpg",
      "userId": "08271027061435931011"
     },
     "user_tz": -120
    },
    "id": "Mdajd2tmDRdg",
    "outputId": "857bd59f-c68e-406a-e373-f2a101f8ede5"
   },
   "outputs": [
    {
     "data": {
      "text/plain": [
       "Output hidden; open in https://colab.research.google.com to view."
      ]
     },
     "metadata": {},
     "output_type": "display_data"
    }
   ],
   "source": [
    "ques_id = 0\n",
    "img_id = 0\n",
    "layers = range(0,9)\n",
    "heads = range(0,12)\n",
    "# layers = [0,2,3,5,6,10]\n",
    "# heads = [0,6,11]\n",
    "plot_cross_attention(ques_id, img_id, layers, heads)"
   ]
  },
  {
   "cell_type": "code",
   "execution_count": null,
   "metadata": {
    "colab": {
     "base_uri": "https://localhost:8080/",
     "height": 434
    },
    "colab_type": "code",
    "executionInfo": {
     "elapsed": 856,
     "status": "ok",
     "timestamp": 1597246184475,
     "user": {
      "displayName": "yulya sot",
      "photoUrl": "https://lh6.googleusercontent.com/-ly9qpHtKZbM/AAAAAAAAAAI/AAAAAAAAAHs/3g5vNREGJNw/s64/photo.jpg",
      "userId": "08271027061435931011"
     },
     "user_tz": -120
    },
    "id": "CW7Z6P02_Dzi",
    "outputId": "9e81f281-b11a-40e3-a15e-1fc4e462f0d0"
   },
   "outputs": [
    {
     "data": {
      "image/png": "[encoded data removed]",
      "text/plain": [
       "<Figure size 504x504 with 1 Axes>"
      ]
     },
     "metadata": {
      "needs_background": "light",
      "tags": []
     },
     "output_type": "display_data"
    }
   ],
   "source": [
    "from operator import itemgetter \n",
    "\n",
    "ques_id = 0\n",
    "img_file = '0-img2.png'\n",
    "\n",
    "plt.figure(figsize=(7,7))\n",
    "\n",
    "img = image.imread(img_file).asnumpy()\n",
    "\n",
    "labels = get_detected_labels(ques_id)[2]\n",
    "for i, l in enumerate(labels):\n",
    "  labels[i] = l.split(': ')[0]\n",
    "\n",
    "img_feats = get_image_data(ques_id)[2]\n",
    "\n",
    "to_display = [0,1,2,12,17,20,25]\n",
    "fig = d2l.plt.imshow(img)\n",
    "\n",
    "show_bboxes(fig.axes, itemgetter(*to_display)(img_feats['boxes']),\n",
    "            itemgetter(*to_display)(labels))"
   ]
  },
  {
   "cell_type": "code",
   "execution_count": null,
   "metadata": {
    "colab": {},
    "colab_type": "code",
    "id": "Mcx29juM_C54"
   },
   "outputs": [],
   "source": [
    "def show_bboxes(axes, bboxes, labels=None, colors=None):\n",
    "    \"\"\"Show bounding boxes.\"\"\"\n",
    "    def _make_list(obj, default_values=None):\n",
    "        if obj is None:\n",
    "            obj = default_values\n",
    "        elif not isinstance(obj, (list, tuple)):\n",
    "            obj = [obj]\n",
    "        return obj\n",
    "    labels = _make_list(labels)\n",
    "    colors = _make_list(colors, ['b', 'g', 'r', 'm', 'c'])\n",
    "    for i, bbox in enumerate(bboxes):\n",
    "        color = colors[i % len(colors)]\n",
    "        rect = d2l.bbox_to_rect(bbox, color)\n",
    "        axes.add_patch(rect)\n",
    "        if labels and len(labels) > i:\n",
    "            text_color = 'k' if color == 'w' else 'w'\n",
    "            axes.text(rect.xy[0], rect.xy[1], labels[i],\n",
    "                      va='center', ha='center', fontsize=13, color=text_color,\n",
    "                      bbox=dict(facecolor=color, lw=0))"
   ]
  },
  {
   "cell_type": "code",
   "execution_count": null,
   "metadata": {
    "colab": {},
    "colab_type": "code",
    "id": "GcyWbIIC5S6t"
   },
   "outputs": [],
   "source": []
  }
 ],
 "metadata": {
  "colab": {
   "authorship_tag": "ABX9TyM6yegum3liZ5d9eJwzcMWK",
   "collapsed_sections": [],
   "mount_file_id": "1wsel4GeJJPHC7WAv_i22IEncjQHR-3lB",
   "name": "attention_visualisation_3img.ipynb",
   "provenance": [],
   "toc_visible": true
  },
  "kernelspec": {
   "display_name": "Python 3",
   "language": "python",
   "name": "python3"
  },
  "language_info": {
   "codemirror_mode": {
    "name": "ipython",
    "version": 3
   },
   "file_extension": ".py",
   "mimetype": "text/x-python",
   "name": "python",
   "nbconvert_exporter": "python",
   "pygments_lexer": "ipython3",
   "version": "3.8.5"
  }
 },
 "nbformat": 4,
 "nbformat_minor": 1
}
