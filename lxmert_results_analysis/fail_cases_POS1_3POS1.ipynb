{
 "cells": [
  {
   "cell_type": "code",
   "execution_count": null,
   "metadata": {
    "colab": {},
    "colab_type": "code",
    "id": "yBA5JF2Chm7s"
   },
   "outputs": [],
   "source": [
    "import csv\n",
    "import json"
   ]
  },
  {
   "cell_type": "markdown",
   "metadata": {
    "colab_type": "text",
    "id": "H6iGROS7LHsL"
   },
   "source": [
    "# POS1"
   ]
  },
  {
   "cell_type": "code",
   "execution_count": null,
   "metadata": {
    "colab": {},
    "colab_type": "code",
    "id": "9DmWvXOKiE0b"
   },
   "outputs": [],
   "source": [
    "with open('test.json') as f:\n",
    "  dataset = json.load(f)\n",
    "\n",
    "with open('test_annotation.json') as f:\n",
    "  annotation = json.load(f)\n",
    "\n",
    "with open('test_predict_single.csv', mode='r') as f: # laxmert predictions on POS1\n",
    "    reader = csv.reader(f)\n",
    "    predicted = {rows[0]: 1 if rows[1] == 'True' else 0 for rows in reader}"
   ]
  },
  {
   "cell_type": "code",
   "execution_count": null,
   "metadata": {
    "colab": {},
    "colab_type": "code",
    "id": "YT_D6L1sioIi"
   },
   "outputs": [],
   "source": [
    "incorrect = []\n",
    "distances = []\n",
    "\n",
    "for datum in dataset:\n",
    "  if predicted[datum['img0']] != datum['label']:\n",
    "    incorrect.append(datum['identifier'])\n",
    "    color = datum['sent'].split()[1]\n",
    "    shape = datum['sent'].split()[2]\n",
    "\n",
    "    for obj in annotation[datum['img0']][1]['objects']:\n",
    "      if (obj['color'] == color and obj['shape'] == shape):\n",
    "        distances.append(float(obj['thresh_dist']))"
   ]
  },
  {
   "cell_type": "code",
   "execution_count": null,
   "metadata": {
    "colab": {},
    "colab_type": "code",
    "id": "7VrxGDvylV5m"
   },
   "outputs": [],
   "source": [
    "less15 = 0\n",
    "less01 = 0\n",
    "less02 = 0\n",
    "rest = 0\n",
    "for d in distances:\n",
    "  if d < 0.1:\n",
    "    less01 += 1\n",
    "  elif d < 0.15:\n",
    "    less15 += 1\n",
    "  elif d < 0.2:\n",
    "    less02 += 1\n",
    "  else:\n",
    "    rest += 1"
   ]
  },
  {
   "cell_type": "code",
   "execution_count": null,
   "metadata": {
    "colab": {
     "base_uri": "https://localhost:8080/",
     "height": 36
    },
    "colab_type": "code",
    "executionInfo": {
     "elapsed": 492,
     "status": "ok",
     "timestamp": 1596900151074,
     "user": {
      "displayName": "yulya sot",
      "photoUrl": "https://lh6.googleusercontent.com/-ly9qpHtKZbM/AAAAAAAAAAI/AAAAAAAAAHs/3g5vNREGJNw/s64/photo.jpg",
      "userId": "08271027061435931011"
     },
     "user_tz": -120
    },
    "id": "2SL6xaxNn0eM",
    "outputId": "f1b8152b-81cd-47ec-ee9b-b4e7068fe71a"
   },
   "outputs": [
    {
     "name": "stdout",
     "output_type": "stream",
     "text": [
      "73 22 20 15\n"
     ]
    }
   ],
   "source": [
    "print(less01, less15, less02, rest)"
   ]
  },
  {
   "cell_type": "code",
   "execution_count": null,
   "metadata": {
    "colab": {
     "base_uri": "https://localhost:8080/",
     "height": 36
    },
    "colab_type": "code",
    "executionInfo": {
     "elapsed": 422,
     "status": "ok",
     "timestamp": 1596899645416,
     "user": {
      "displayName": "yulya sot",
      "photoUrl": "https://lh6.googleusercontent.com/-ly9qpHtKZbM/AAAAAAAAAAI/AAAAAAAAAHs/3g5vNREGJNw/s64/photo.jpg",
      "userId": "08271027061435931011"
     },
     "user_tz": -120
    },
    "id": "_lx_yHDRn2EL",
    "outputId": "c0bf5a5c-d0cd-4900-ba67-896b1bd2e2cd"
   },
   "outputs": [
    {
     "data": {
      "text/plain": [
       "0.5615384615384615"
      ]
     },
     "execution_count": 27,
     "metadata": {
      "tags": []
     },
     "output_type": "execute_result"
    }
   ],
   "source": [
    "less01/len(distances)"
   ]
  },
  {
   "cell_type": "code",
   "execution_count": null,
   "metadata": {
    "colab": {
     "base_uri": "https://localhost:8080/",
     "height": 36
    },
    "colab_type": "code",
    "executionInfo": {
     "elapsed": 576,
     "status": "ok",
     "timestamp": 1596899661863,
     "user": {
      "displayName": "yulya sot",
      "photoUrl": "https://lh6.googleusercontent.com/-ly9qpHtKZbM/AAAAAAAAAAI/AAAAAAAAAHs/3g5vNREGJNw/s64/photo.jpg",
      "userId": "08271027061435931011"
     },
     "user_tz": -120
    },
    "id": "1xF5zqA3orRM",
    "outputId": "40392f6c-ab83-4b8f-bd13-27664efc9bde"
   },
   "outputs": [
    {
     "data": {
      "text/plain": [
       "0.16923076923076924"
      ]
     },
     "execution_count": 28,
     "metadata": {
      "tags": []
     },
     "output_type": "execute_result"
    }
   ],
   "source": [
    "less15/len(distances)"
   ]
  },
  {
   "cell_type": "code",
   "execution_count": null,
   "metadata": {
    "colab": {
     "base_uri": "https://localhost:8080/",
     "height": 36
    },
    "colab_type": "code",
    "executionInfo": {
     "elapsed": 523,
     "status": "ok",
     "timestamp": 1596899772626,
     "user": {
      "displayName": "yulya sot",
      "photoUrl": "https://lh6.googleusercontent.com/-ly9qpHtKZbM/AAAAAAAAAAI/AAAAAAAAAHs/3g5vNREGJNw/s64/photo.jpg",
      "userId": "08271027061435931011"
     },
     "user_tz": -120
    },
    "id": "hCj2Xq1poxVw",
    "outputId": "1236f81c-2653-4322-c174-de84cf707578"
   },
   "outputs": [
    {
     "data": {
      "text/plain": [
       "0.15384615384615385"
      ]
     },
     "execution_count": 36,
     "metadata": {
      "tags": []
     },
     "output_type": "execute_result"
    }
   ],
   "source": [
    "less02/len(distances)"
   ]
  },
  {
   "cell_type": "code",
   "execution_count": null,
   "metadata": {
    "colab": {
     "base_uri": "https://localhost:8080/",
     "height": 36
    },
    "colab_type": "code",
    "executionInfo": {
     "elapsed": 499,
     "status": "ok",
     "timestamp": 1596899795228,
     "user": {
      "displayName": "yulya sot",
      "photoUrl": "https://lh6.googleusercontent.com/-ly9qpHtKZbM/AAAAAAAAAAI/AAAAAAAAAHs/3g5vNREGJNw/s64/photo.jpg",
      "userId": "08271027061435931011"
     },
     "user_tz": -120
    },
    "id": "2LU8QuJipMZT",
    "outputId": "720a9b34-6906-4aa1-af1f-b7733b06b20f"
   },
   "outputs": [
    {
     "data": {
      "text/plain": [
       "0.11538461538461539"
      ]
     },
     "execution_count": 37,
     "metadata": {
      "tags": []
     },
     "output_type": "execute_result"
    }
   ],
   "source": [
    "rest/len(distances)"
   ]
  },
  {
   "cell_type": "code",
   "execution_count": null,
   "metadata": {
    "colab": {
     "base_uri": "https://localhost:8080/",
     "height": 36
    },
    "colab_type": "code",
    "executionInfo": {
     "elapsed": 990,
     "status": "ok",
     "timestamp": 1596901258829,
     "user": {
      "displayName": "yulya sot",
      "photoUrl": "https://lh6.googleusercontent.com/-ly9qpHtKZbM/AAAAAAAAAAI/AAAAAAAAAHs/3g5vNREGJNw/s64/photo.jpg",
      "userId": "08271027061435931011"
     },
     "user_tz": -120
    },
    "id": "-p4ii7ywpR62",
    "outputId": "1de894fb-8bf9-4866-e818-3046f638212f"
   },
   "outputs": [
    {
     "data": {
      "text/plain": [
       "0.065"
      ]
     },
     "execution_count": 44,
     "metadata": {
      "tags": []
     },
     "output_type": "execute_result"
    }
   ],
   "source": [
    "len(distances)/len(dataset)"
   ]
  },
  {
   "cell_type": "markdown",
   "metadata": {
    "colab_type": "text",
    "id": "ieA1Ve6cLMlL"
   },
   "source": [
    "# 3POS1"
   ]
  },
  {
   "cell_type": "code",
   "execution_count": null,
   "metadata": {
    "colab": {},
    "colab_type": "code",
    "id": "3FypNi5wu27p"
   },
   "outputs": [],
   "source": [
    "with open('test.json') as f:\n",
    "  dataset = json.load(f)\n",
    "\n",
    "with open('test_annotation.json') as f:\n",
    "  annotation = json.load(f)\n",
    "\n",
    "with open('test_questions.json') as f:\n",
    "  questions = json.load(f)['questions']\n",
    "\n",
    "with open('test_predict_3img.csv', mode='r') as f: # lxmert predictions 3POS1\n",
    "    reader = csv.reader(f)\n",
    "    predicted = {rows[0]: 1 if rows[1] == 'True' else 0 for rows in reader}"
   ]
  },
  {
   "cell_type": "code",
   "execution_count": null,
   "metadata": {
    "colab": {},
    "colab_type": "code",
    "id": "TGpoLMAIic2n"
   },
   "outputs": [],
   "source": [
    "incorrect = []\n",
    "distances = []\n",
    "\n",
    "for datum in dataset:\n",
    "  if predicted[datum['img']] != datum['label']:\n",
    "    incorrect.append(datum['identifier'])\n",
    "    color = datum['sent'].split()[4]\n",
    "    shape = datum['sent'].split()[5]\n",
    "    if shape[-1] == 's':\n",
    "      shape = shape[:-1]\n",
    "    dist_trip = []\n",
    "    for q in questions:\n",
    "      if (q['question_index'] % 6 == 0 and q['image_index'] == datum['identifier']):\n",
    "        fail0 = q['images'][0].split('.')[0]\n",
    "        fail1 = q['images'][1].split('.')[0]\n",
    "        fail2 = q['images'][2].split('.')[0]\n",
    "        for obj in annotation[fail0][1]['objects']:\n",
    "          if (obj['color'] == color and obj['shape'] == shape):\n",
    "            dist_trip.append(float(obj['thresh_dist']))\n",
    "        for obj in annotation[fail1][1]['objects']:\n",
    "          if (obj['color'] == color and obj['shape'] == shape):\n",
    "            dist_trip.append(float(obj['thresh_dist']))\n",
    "        for obj in annotation[fail2][1]['objects']:\n",
    "          if (obj['color'] == color and obj['shape'] == shape):\n",
    "            dist_trip.append(float(obj['thresh_dist']))\n",
    "        distances.append(dist_trip)\n",
    "        break"
   ]
  },
  {
   "cell_type": "code",
   "execution_count": null,
   "metadata": {
    "colab": {
     "base_uri": "https://localhost:8080/",
     "height": 36
    },
    "colab_type": "code",
    "executionInfo": {
     "elapsed": 490,
     "status": "ok",
     "timestamp": 1597253427111,
     "user": {
      "displayName": "yulya sot",
      "photoUrl": "https://lh6.googleusercontent.com/-ly9qpHtKZbM/AAAAAAAAAAI/AAAAAAAAAHs/3g5vNREGJNw/s64/photo.jpg",
      "userId": "08271027061435931011"
     },
     "user_tz": -120
    },
    "id": "lQ0WiwbmlXOk",
    "outputId": "4e5b7716-6cb1-47bb-be08-564838c6c1d2"
   },
   "outputs": [
    {
     "data": {
      "text/plain": [
       "239"
      ]
     },
     "execution_count": 50,
     "metadata": {
      "tags": []
     },
     "output_type": "execute_result"
    }
   ],
   "source": [
    "len(incorrect)"
   ]
  },
  {
   "cell_type": "code",
   "execution_count": null,
   "metadata": {
    "colab": {
     "base_uri": "https://localhost:8080/",
     "height": 36
    },
    "colab_type": "code",
    "executionInfo": {
     "elapsed": 321,
     "status": "ok",
     "timestamp": 1597253427332,
     "user": {
      "displayName": "yulya sot",
      "photoUrl": "https://lh6.googleusercontent.com/-ly9qpHtKZbM/AAAAAAAAAAI/AAAAAAAAAHs/3g5vNREGJNw/s64/photo.jpg",
      "userId": "08271027061435931011"
     },
     "user_tz": -120
    },
    "id": "3hORPVpBlh18",
    "outputId": "9aa6cdb5-5062-4b86-de79-245ec506ee3f"
   },
   "outputs": [
    {
     "data": {
      "text/plain": [
       "239"
      ]
     },
     "execution_count": 51,
     "metadata": {
      "tags": []
     },
     "output_type": "execute_result"
    }
   ],
   "source": [
    "len(distances)"
   ]
  },
  {
   "cell_type": "code",
   "execution_count": null,
   "metadata": {
    "colab": {
     "base_uri": "https://localhost:8080/",
     "height": 36
    },
    "colab_type": "code",
    "executionInfo": {
     "elapsed": 682,
     "status": "ok",
     "timestamp": 1597257405300,
     "user": {
      "displayName": "yulya sot",
      "photoUrl": "https://lh6.googleusercontent.com/-ly9qpHtKZbM/AAAAAAAAAAI/AAAAAAAAAHs/3g5vNREGJNw/s64/photo.jpg",
      "userId": "08271027061435931011"
     },
     "user_tz": -120
    },
    "id": "db5kTvIqq1Dx",
    "outputId": "489fd352-1984-4a1f-9370-c33cb868dd64"
   },
   "outputs": [
    {
     "name": "stdout",
     "output_type": "stream",
     "text": [
      "0.698744769874477 0.1506276150627615 0.07112970711297072 0.0794979079497908\n"
     ]
    }
   ],
   "source": [
    "s1 = 0\n",
    "s15 = 0\n",
    "s2 = 0\n",
    "other = 0\n",
    "\n",
    "for v1,v2,v3 in distances:\n",
    "  if v1 < 0.1 or v2 < 0.1 or v3 < 0.1:\n",
    "    s1+=1\n",
    "  elif v1 < 0.15 or v2 < 0.15 or v3 < 0.15:\n",
    "    s15+=1\n",
    "  elif v1 < 0.2 or v2 < 0.2 or v3 < 0.2:\n",
    "    s2+=1\n",
    "  else:\n",
    "    other+=1\n",
    "\n",
    "print(s1/239,s15/239,s2/239,other/239)"
   ]
  },
  {
   "cell_type": "code",
   "execution_count": null,
   "metadata": {
    "colab": {},
    "colab_type": "code",
    "id": "R2avo1zDuqYW"
   },
   "outputs": [],
   "source": []
  }
 ],
 "metadata": {
  "colab": {
   "authorship_tag": "ABX9TyNRKMBUpn5ccMiTd/ZWMZcB",
   "collapsed_sections": [],
   "name": "fail_cases_1img_3img.ipynb",
   "provenance": []
  },
  "kernelspec": {
   "display_name": "Python 3",
   "language": "python",
   "name": "python3"
  },
  "language_info": {
   "codemirror_mode": {
    "name": "ipython",
    "version": 3
   },
   "file_extension": ".py",
   "mimetype": "text/x-python",
   "name": "python",
   "nbconvert_exporter": "python",
   "pygments_lexer": "ipython3",
   "version": "3.8.5"
  }
 },
 "nbformat": 4,
 "nbformat_minor": 1
}
